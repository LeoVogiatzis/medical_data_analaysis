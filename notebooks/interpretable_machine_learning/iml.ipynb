{
  "nbformat": 4,
  "nbformat_minor": 0,
  "metadata": {
    "colab": {
      "name": "iml.ipynb",
      "provenance": [],
      "authorship_tag": "ABX9TyNLLy5iJyC6+Jq3VpBSW5x0",
      "include_colab_link": true
    },
    "kernelspec": {
      "display_name": "Python 3",
      "name": "python3"
    },
    "language_info": {
      "name": "python"
    },
    "widgets": {
      "application/vnd.jupyter.widget-state+json": {
        "f56adcc495b243ec85f3b915f6529a6c": {
          "model_module": "@jupyter-widgets/controls",
          "model_name": "VBoxModel",
          "state": {
            "_view_name": "VBoxView",
            "_dom_classes": [
              "widget-interact"
            ],
            "_model_name": "VBoxModel",
            "_view_module": "@jupyter-widgets/controls",
            "_model_module_version": "1.5.0",
            "_view_count": null,
            "_view_module_version": "1.5.0",
            "box_style": "",
            "layout": "IPY_MODEL_02a1d16d5a4f4a5c9f3f0fa1ad4c00de",
            "_model_module": "@jupyter-widgets/controls",
            "children": [
              "IPY_MODEL_8ab2983f623f439e92998f52a0235554",
              "IPY_MODEL_1b931aa1fcb54820841a55a0abea8514"
            ]
          }
        },
        "02a1d16d5a4f4a5c9f3f0fa1ad4c00de": {
          "model_module": "@jupyter-widgets/base",
          "model_name": "LayoutModel",
          "state": {
            "_view_name": "LayoutView",
            "grid_template_rows": null,
            "right": null,
            "justify_content": null,
            "_view_module": "@jupyter-widgets/base",
            "overflow": null,
            "_model_module_version": "1.2.0",
            "_view_count": null,
            "flex_flow": null,
            "width": null,
            "min_width": null,
            "border": null,
            "align_items": null,
            "bottom": null,
            "_model_module": "@jupyter-widgets/base",
            "top": null,
            "grid_column": null,
            "overflow_y": null,
            "overflow_x": null,
            "grid_auto_flow": null,
            "grid_area": null,
            "grid_template_columns": null,
            "flex": null,
            "_model_name": "LayoutModel",
            "justify_items": null,
            "grid_row": null,
            "max_height": null,
            "align_content": null,
            "visibility": null,
            "align_self": null,
            "height": null,
            "min_height": null,
            "padding": null,
            "grid_auto_rows": null,
            "grid_gap": null,
            "max_width": null,
            "order": null,
            "_view_module_version": "1.2.0",
            "grid_template_areas": null,
            "object_position": null,
            "object_fit": null,
            "grid_auto_columns": null,
            "margin": null,
            "display": null,
            "left": null
          }
        },
        "8ab2983f623f439e92998f52a0235554": {
          "model_module": "@jupyter-widgets/controls",
          "model_name": "IntSliderModel",
          "state": {
            "_view_name": "IntSliderView",
            "style": "IPY_MODEL_db3999ed61d54d16af6050706734f39e",
            "_dom_classes": [],
            "description": "instance",
            "step": 1,
            "_model_name": "IntSliderModel",
            "orientation": "horizontal",
            "max": 9,
            "_view_module": "@jupyter-widgets/controls",
            "_model_module_version": "1.5.0",
            "value": 0,
            "_view_count": null,
            "disabled": false,
            "_view_module_version": "1.5.0",
            "min": 0,
            "continuous_update": true,
            "readout_format": "d",
            "description_tooltip": null,
            "readout": true,
            "_model_module": "@jupyter-widgets/controls",
            "layout": "IPY_MODEL_b0e0f1d188e74db585ce91fd14bc330f"
          }
        },
        "1b931aa1fcb54820841a55a0abea8514": {
          "model_module": "@jupyter-widgets/output",
          "model_name": "OutputModel",
          "state": {
            "_view_name": "OutputView",
            "msg_id": "",
            "_dom_classes": [],
            "_model_name": "OutputModel",
            "outputs": [
              {
                "output_type": "stream",
                "metadata": {
                  "tags": []
                },
                "text": "Sum(weights*instance): 7.399979799298418 + Intercept (Bias): -8.417134318741052 = -1.0171545194426344 <= 0 -> 0\n",
                "stream": "stdout"
              },
              {
                "output_type": "display_data",
                "metadata": {
                  "tags": []
                },
                "image/png": "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\n",
                "text/plain": "<Figure size 800x600 with 1 Axes>"
              }
            ],
            "_view_module": "@jupyter-widgets/output",
            "_model_module_version": "1.0.0",
            "_view_count": null,
            "_view_module_version": "1.0.0",
            "layout": "IPY_MODEL_f3b46e1bf8f5420a8cf3e11c53858c39",
            "_model_module": "@jupyter-widgets/output"
          }
        },
        "db3999ed61d54d16af6050706734f39e": {
          "model_module": "@jupyter-widgets/controls",
          "model_name": "SliderStyleModel",
          "state": {
            "_view_name": "StyleView",
            "handle_color": null,
            "_model_name": "SliderStyleModel",
            "description_width": "",
            "_view_module": "@jupyter-widgets/base",
            "_model_module_version": "1.5.0",
            "_view_count": null,
            "_view_module_version": "1.2.0",
            "_model_module": "@jupyter-widgets/controls"
          }
        },
        "b0e0f1d188e74db585ce91fd14bc330f": {
          "model_module": "@jupyter-widgets/base",
          "model_name": "LayoutModel",
          "state": {
            "_view_name": "LayoutView",
            "grid_template_rows": null,
            "right": null,
            "justify_content": null,
            "_view_module": "@jupyter-widgets/base",
            "overflow": null,
            "_model_module_version": "1.2.0",
            "_view_count": null,
            "flex_flow": null,
            "width": null,
            "min_width": null,
            "border": null,
            "align_items": null,
            "bottom": null,
            "_model_module": "@jupyter-widgets/base",
            "top": null,
            "grid_column": null,
            "overflow_y": null,
            "overflow_x": null,
            "grid_auto_flow": null,
            "grid_area": null,
            "grid_template_columns": null,
            "flex": null,
            "_model_name": "LayoutModel",
            "justify_items": null,
            "grid_row": null,
            "max_height": null,
            "align_content": null,
            "visibility": null,
            "align_self": null,
            "height": null,
            "min_height": null,
            "padding": null,
            "grid_auto_rows": null,
            "grid_gap": null,
            "max_width": null,
            "order": null,
            "_view_module_version": "1.2.0",
            "grid_template_areas": null,
            "object_position": null,
            "object_fit": null,
            "grid_auto_columns": null,
            "margin": null,
            "display": null,
            "left": null
          }
        },
        "f3b46e1bf8f5420a8cf3e11c53858c39": {
          "model_module": "@jupyter-widgets/base",
          "model_name": "LayoutModel",
          "state": {
            "_view_name": "LayoutView",
            "grid_template_rows": null,
            "right": null,
            "justify_content": null,
            "_view_module": "@jupyter-widgets/base",
            "overflow": null,
            "_model_module_version": "1.2.0",
            "_view_count": null,
            "flex_flow": null,
            "width": null,
            "min_width": null,
            "border": null,
            "align_items": null,
            "bottom": null,
            "_model_module": "@jupyter-widgets/base",
            "top": null,
            "grid_column": null,
            "overflow_y": null,
            "overflow_x": null,
            "grid_auto_flow": null,
            "grid_area": null,
            "grid_template_columns": null,
            "flex": null,
            "_model_name": "LayoutModel",
            "justify_items": null,
            "grid_row": null,
            "max_height": null,
            "align_content": null,
            "visibility": null,
            "align_self": null,
            "height": null,
            "min_height": null,
            "padding": null,
            "grid_auto_rows": null,
            "grid_gap": null,
            "max_width": null,
            "order": null,
            "_view_module_version": "1.2.0",
            "grid_template_areas": null,
            "object_position": null,
            "object_fit": null,
            "grid_auto_columns": null,
            "margin": null,
            "display": null,
            "left": null
          }
        },
        "5b7a2722d11f47b49c90ac7dfec8abcd": {
          "model_module": "@jupyter-widgets/controls",
          "model_name": "VBoxModel",
          "state": {
            "_view_name": "VBoxView",
            "_dom_classes": [
              "widget-interact"
            ],
            "_model_name": "VBoxModel",
            "_view_module": "@jupyter-widgets/controls",
            "_model_module_version": "1.5.0",
            "_view_count": null,
            "_view_module_version": "1.5.0",
            "box_style": "",
            "layout": "IPY_MODEL_b7c8245abbe546538dee2187cb0dd429",
            "_model_module": "@jupyter-widgets/controls",
            "children": [
              "IPY_MODEL_9671f1d56a654f998166b69cf99033e2",
              "IPY_MODEL_0ff560c9a28e460e8fb8c84546570966"
            ]
          }
        },
        "b7c8245abbe546538dee2187cb0dd429": {
          "model_module": "@jupyter-widgets/base",
          "model_name": "LayoutModel",
          "state": {
            "_view_name": "LayoutView",
            "grid_template_rows": null,
            "right": null,
            "justify_content": null,
            "_view_module": "@jupyter-widgets/base",
            "overflow": null,
            "_model_module_version": "1.2.0",
            "_view_count": null,
            "flex_flow": null,
            "width": null,
            "min_width": null,
            "border": null,
            "align_items": null,
            "bottom": null,
            "_model_module": "@jupyter-widgets/base",
            "top": null,
            "grid_column": null,
            "overflow_y": null,
            "overflow_x": null,
            "grid_auto_flow": null,
            "grid_area": null,
            "grid_template_columns": null,
            "flex": null,
            "_model_name": "LayoutModel",
            "justify_items": null,
            "grid_row": null,
            "max_height": null,
            "align_content": null,
            "visibility": null,
            "align_self": null,
            "height": null,
            "min_height": null,
            "padding": null,
            "grid_auto_rows": null,
            "grid_gap": null,
            "max_width": null,
            "order": null,
            "_view_module_version": "1.2.0",
            "grid_template_areas": null,
            "object_position": null,
            "object_fit": null,
            "grid_auto_columns": null,
            "margin": null,
            "display": null,
            "left": null
          }
        },
        "9671f1d56a654f998166b69cf99033e2": {
          "model_module": "@jupyter-widgets/controls",
          "model_name": "IntSliderModel",
          "state": {
            "_view_name": "IntSliderView",
            "style": "IPY_MODEL_159a63416ef9424bb950a9a12c65900e",
            "_dom_classes": [],
            "description": "depth",
            "step": 1,
            "_model_name": "IntSliderModel",
            "orientation": "horizontal",
            "max": 5,
            "_view_module": "@jupyter-widgets/controls",
            "_model_module_version": "1.5.0",
            "value": 3,
            "_view_count": null,
            "disabled": false,
            "_view_module_version": "1.5.0",
            "min": 1,
            "continuous_update": true,
            "readout_format": "d",
            "description_tooltip": null,
            "readout": true,
            "_model_module": "@jupyter-widgets/controls",
            "layout": "IPY_MODEL_59e91992abd448a2a4651c925dd29395"
          }
        },
        "0ff560c9a28e460e8fb8c84546570966": {
          "model_module": "@jupyter-widgets/output",
          "model_name": "OutputModel",
          "state": {
            "_view_name": "OutputView",
            "msg_id": "",
            "_dom_classes": [],
            "_model_name": "OutputModel",
            "outputs": [
              {
                "output_type": "stream",
                "metadata": {
                  "tags": []
                },
                "text": "0.721864247732249\n",
                "stream": "stdout"
              },
              {
                "output_type": "display_data",
                "metadata": {
                  "tags": []
                },
                "text/plain": "<IPython.core.display.SVG object>",
                "image/svg+xml": "<svg height=\"433pt\" viewBox=\"0.00 0.00 1210.50 433.00\" width=\"1211pt\" xmlns=\"http://www.w3.org/2000/svg\" xmlns:xlink=\"http://www.w3.org/1999/xlink\">\n<g class=\"graph\" id=\"graph0\" transform=\"scale(1 1) rotate(0) translate(4 429)\">\n<title>Tree</title>\n<polygon fill=\"#ffffff\" points=\"-4,4 -4,-429 1206.5,-429 1206.5,4 -4,4\" stroke=\"transparent\"/>\n<!-- 0 -->\n<g class=\"node\" id=\"node1\">\n<title>0</title>\n<polygon fill=\"#fafcfe\" points=\"674.5,-425 520.5,-425 520.5,-342 674.5,-342 674.5,-425\" stroke=\"#000000\"/>\n<text fill=\"#000000\" font-family=\"Times,serif\" font-size=\"14.00\" text-anchor=\"middle\" x=\"597.5\" y=\"-409.8\">ap_hi &lt;= 0.515</text>\n<text fill=\"#000000\" font-family=\"Times,serif\" font-size=\"14.00\" text-anchor=\"middle\" x=\"597.5\" y=\"-394.8\">gini = 0.5</text>\n<text fill=\"#000000\" font-family=\"Times,serif\" font-size=\"14.00\" text-anchor=\"middle\" x=\"597.5\" y=\"-379.8\">samples = 47953</text>\n<text fill=\"#000000\" font-family=\"Times,serif\" font-size=\"14.00\" text-anchor=\"middle\" x=\"597.5\" y=\"-364.8\">value = [23642, 24311]</text>\n<text fill=\"#000000\" font-family=\"Times,serif\" font-size=\"14.00\" text-anchor=\"middle\" x=\"597.5\" y=\"-349.8\">class = 1</text>\n</g>\n<!-- 1 -->\n<g class=\"node\" id=\"node2\">\n<title>1</title>\n<polygon fill=\"#f2be99\" points=\"526,-306 379,-306 379,-223 526,-223 526,-306\" stroke=\"#000000\"/>\n<text fill=\"#000000\" font-family=\"Times,serif\" font-size=\"14.00\" text-anchor=\"middle\" x=\"452.5\" y=\"-290.8\">age &lt;= 0.729</text>\n<text fill=\"#000000\" font-family=\"Times,serif\" font-size=\"14.00\" text-anchor=\"middle\" x=\"452.5\" y=\"-275.8\">gini = 0.44</text>\n<text fill=\"#000000\" font-family=\"Times,serif\" font-size=\"14.00\" text-anchor=\"middle\" x=\"452.5\" y=\"-260.8\">samples = 27835</text>\n<text fill=\"#000000\" font-family=\"Times,serif\" font-size=\"14.00\" text-anchor=\"middle\" x=\"452.5\" y=\"-245.8\">value = [18751, 9084]</text>\n<text fill=\"#000000\" font-family=\"Times,serif\" font-size=\"14.00\" text-anchor=\"middle\" x=\"452.5\" y=\"-230.8\">class = 0</text>\n</g>\n<!-- 0&#45;&gt;1 -->\n<g class=\"edge\" id=\"edge1\">\n<title>0-&gt;1</title>\n<path d=\"M546.786,-341.8796C535.373,-332.513 523.1659,-322.4948 511.4485,-312.8784\" fill=\"none\" stroke=\"#000000\"/>\n<polygon fill=\"#000000\" points=\"513.3809,-309.9366 503.4304,-306.2981 508.9401,-315.3476 513.3809,-309.9366\" stroke=\"#000000\"/>\n<text fill=\"#000000\" font-family=\"Times,serif\" font-size=\"14.00\" text-anchor=\"middle\" x=\"505.8807\" y=\"-327.4777\">True</text>\n</g>\n<!-- 8 -->\n<g class=\"node\" id=\"node9\">\n<title>8</title>\n<polygon fill=\"#79bced\" points=\"824,-306 677,-306 677,-223 824,-223 824,-306\" stroke=\"#000000\"/>\n<text fill=\"#000000\" font-family=\"Times,serif\" font-size=\"14.00\" text-anchor=\"middle\" x=\"750.5\" y=\"-290.8\">ap_hi &lt;= 0.555</text>\n<text fill=\"#000000\" font-family=\"Times,serif\" font-size=\"14.00\" text-anchor=\"middle\" x=\"750.5\" y=\"-275.8\">gini = 0.368</text>\n<text fill=\"#000000\" font-family=\"Times,serif\" font-size=\"14.00\" text-anchor=\"middle\" x=\"750.5\" y=\"-260.8\">samples = 20118</text>\n<text fill=\"#000000\" font-family=\"Times,serif\" font-size=\"14.00\" text-anchor=\"middle\" x=\"750.5\" y=\"-245.8\">value = [4891, 15227]</text>\n<text fill=\"#000000\" font-family=\"Times,serif\" font-size=\"14.00\" text-anchor=\"middle\" x=\"750.5\" y=\"-230.8\">class = 1</text>\n</g>\n<!-- 0&#45;&gt;8 -->\n<g class=\"edge\" id=\"edge8\">\n<title>0-&gt;8</title>\n<path d=\"M651.012,-341.8796C663.2412,-332.368 676.3344,-322.1843 688.8732,-312.432\" fill=\"none\" stroke=\"#000000\"/>\n<polygon fill=\"#000000\" points=\"691.2735,-314.9991 697.0182,-306.0969 686.9759,-309.4736 691.2735,-314.9991\" stroke=\"#000000\"/>\n<text fill=\"#000000\" font-family=\"Times,serif\" font-size=\"14.00\" text-anchor=\"middle\" x=\"693.9174\" y=\"-327.2039\">False</text>\n</g>\n<!-- 2 -->\n<g class=\"node\" id=\"node3\">\n<title>2</title>\n<polygon fill=\"#eeaa7a\" points=\"301,-187 154,-187 154,-104 301,-104 301,-187\" stroke=\"#000000\"/>\n<text fill=\"#000000\" font-family=\"Times,serif\" font-size=\"14.00\" text-anchor=\"middle\" x=\"227.5\" y=\"-171.8\">cholesterol &lt;= 0.75</text>\n<text fill=\"#000000\" font-family=\"Times,serif\" font-size=\"14.00\" text-anchor=\"middle\" x=\"227.5\" y=\"-156.8\">gini = 0.371</text>\n<text fill=\"#000000\" font-family=\"Times,serif\" font-size=\"14.00\" text-anchor=\"middle\" x=\"227.5\" y=\"-141.8\">samples = 17256</text>\n<text fill=\"#000000\" font-family=\"Times,serif\" font-size=\"14.00\" text-anchor=\"middle\" x=\"227.5\" y=\"-126.8\">value = [13004, 4252]</text>\n<text fill=\"#000000\" font-family=\"Times,serif\" font-size=\"14.00\" text-anchor=\"middle\" x=\"227.5\" y=\"-111.8\">class = 0</text>\n</g>\n<!-- 1&#45;&gt;2 -->\n<g class=\"edge\" id=\"edge2\">\n<title>1-&gt;2</title>\n<path d=\"M378.8266,-225.5349C356.8767,-213.9259 332.6791,-201.128 310.1936,-189.2357\" fill=\"none\" stroke=\"#000000\"/>\n<polygon fill=\"#000000\" points=\"311.8151,-186.134 301.3389,-184.5526 308.5424,-192.3218 311.8151,-186.134\" stroke=\"#000000\"/>\n</g>\n<!-- 5 -->\n<g class=\"node\" id=\"node6\">\n<title>5</title>\n<polygon fill=\"#fbebdf\" points=\"522.5,-187 382.5,-187 382.5,-104 522.5,-104 522.5,-187\" stroke=\"#000000\"/>\n<text fill=\"#000000\" font-family=\"Times,serif\" font-size=\"14.00\" text-anchor=\"middle\" x=\"452.5\" y=\"-171.8\">cholesterol &lt;= 0.75</text>\n<text fill=\"#000000\" font-family=\"Times,serif\" font-size=\"14.00\" text-anchor=\"middle\" x=\"452.5\" y=\"-156.8\">gini = 0.496</text>\n<text fill=\"#000000\" font-family=\"Times,serif\" font-size=\"14.00\" text-anchor=\"middle\" x=\"452.5\" y=\"-141.8\">samples = 10579</text>\n<text fill=\"#000000\" font-family=\"Times,serif\" font-size=\"14.00\" text-anchor=\"middle\" x=\"452.5\" y=\"-126.8\">value = [5747, 4832]</text>\n<text fill=\"#000000\" font-family=\"Times,serif\" font-size=\"14.00\" text-anchor=\"middle\" x=\"452.5\" y=\"-111.8\">class = 0</text>\n</g>\n<!-- 1&#45;&gt;5 -->\n<g class=\"edge\" id=\"edge5\">\n<title>1-&gt;5</title>\n<path d=\"M452.5,-222.8796C452.5,-214.6838 452.5,-205.9891 452.5,-197.5013\" fill=\"none\" stroke=\"#000000\"/>\n<polygon fill=\"#000000\" points=\"456.0001,-197.298 452.5,-187.2981 449.0001,-197.2981 456.0001,-197.298\" stroke=\"#000000\"/>\n</g>\n<!-- 3 -->\n<g class=\"node\" id=\"node4\">\n<title>3</title>\n<polygon fill=\"#eda774\" points=\"147,-68 0,-68 0,0 147,0 147,-68\" stroke=\"#000000\"/>\n<text fill=\"#000000\" font-family=\"Times,serif\" font-size=\"14.00\" text-anchor=\"middle\" x=\"73.5\" y=\"-52.8\">gini = 0.355</text>\n<text fill=\"#000000\" font-family=\"Times,serif\" font-size=\"14.00\" text-anchor=\"middle\" x=\"73.5\" y=\"-37.8\">samples = 16481</text>\n<text fill=\"#000000\" font-family=\"Times,serif\" font-size=\"14.00\" text-anchor=\"middle\" x=\"73.5\" y=\"-22.8\">value = [12675, 3806]</text>\n<text fill=\"#000000\" font-family=\"Times,serif\" font-size=\"14.00\" text-anchor=\"middle\" x=\"73.5\" y=\"-7.8\">class = 0</text>\n</g>\n<!-- 2&#45;&gt;3 -->\n<g class=\"edge\" id=\"edge3\">\n<title>2-&gt;3</title>\n<path d=\"M170.1561,-103.9815C156.7006,-94.2394 142.3869,-83.8759 129.0133,-74.193\" fill=\"none\" stroke=\"#000000\"/>\n<polygon fill=\"#000000\" points=\"130.9763,-71.2933 120.8238,-68.2637 126.8711,-76.9632 130.9763,-71.2933\" stroke=\"#000000\"/>\n</g>\n<!-- 4 -->\n<g class=\"node\" id=\"node5\">\n<title>4</title>\n<polygon fill=\"#cbe5f8\" points=\"290,-68 165,-68 165,0 290,0 290,-68\" stroke=\"#000000\"/>\n<text fill=\"#000000\" font-family=\"Times,serif\" font-size=\"14.00\" text-anchor=\"middle\" x=\"227.5\" y=\"-52.8\">gini = 0.489</text>\n<text fill=\"#000000\" font-family=\"Times,serif\" font-size=\"14.00\" text-anchor=\"middle\" x=\"227.5\" y=\"-37.8\">samples = 775</text>\n<text fill=\"#000000\" font-family=\"Times,serif\" font-size=\"14.00\" text-anchor=\"middle\" x=\"227.5\" y=\"-22.8\">value = [329, 446]</text>\n<text fill=\"#000000\" font-family=\"Times,serif\" font-size=\"14.00\" text-anchor=\"middle\" x=\"227.5\" y=\"-7.8\">class = 1</text>\n</g>\n<!-- 2&#45;&gt;4 -->\n<g class=\"edge\" id=\"edge4\">\n<title>2-&gt;4</title>\n<path d=\"M227.5,-103.9815C227.5,-95.618 227.5,-86.7965 227.5,-78.3409\" fill=\"none\" stroke=\"#000000\"/>\n<polygon fill=\"#000000\" points=\"231.0001,-78.2636 227.5,-68.2637 224.0001,-78.2637 231.0001,-78.2636\" stroke=\"#000000\"/>\n</g>\n<!-- 6 -->\n<g class=\"node\" id=\"node7\">\n<title>6</title>\n<polygon fill=\"#f8dfcc\" points=\"448.5,-68 308.5,-68 308.5,0 448.5,0 448.5,-68\" stroke=\"#000000\"/>\n<text fill=\"#000000\" font-family=\"Times,serif\" font-size=\"14.00\" text-anchor=\"middle\" x=\"378.5\" y=\"-52.8\">gini = 0.489</text>\n<text fill=\"#000000\" font-family=\"Times,serif\" font-size=\"14.00\" text-anchor=\"middle\" x=\"378.5\" y=\"-37.8\">samples = 9399</text>\n<text fill=\"#000000\" font-family=\"Times,serif\" font-size=\"14.00\" text-anchor=\"middle\" x=\"378.5\" y=\"-22.8\">value = [5394, 4005]</text>\n<text fill=\"#000000\" font-family=\"Times,serif\" font-size=\"14.00\" text-anchor=\"middle\" x=\"378.5\" y=\"-7.8\">class = 0</text>\n</g>\n<!-- 5&#45;&gt;6 -->\n<g class=\"edge\" id=\"edge6\">\n<title>5-&gt;6</title>\n<path d=\"M424.9451,-103.9815C419.0285,-95.0666 412.7665,-85.6313 406.8213,-76.6734\" fill=\"none\" stroke=\"#000000\"/>\n<polygon fill=\"#000000\" points=\"409.686,-74.6602 401.24,-68.2637 403.8536,-78.5311 409.686,-74.6602\" stroke=\"#000000\"/>\n</g>\n<!-- 7 -->\n<g class=\"node\" id=\"node8\">\n<title>7</title>\n<polygon fill=\"#8ec7f0\" points=\"592,-68 467,-68 467,0 592,0 592,-68\" stroke=\"#000000\"/>\n<text fill=\"#000000\" font-family=\"Times,serif\" font-size=\"14.00\" text-anchor=\"middle\" x=\"529.5\" y=\"-52.8\">gini = 0.419</text>\n<text fill=\"#000000\" font-family=\"Times,serif\" font-size=\"14.00\" text-anchor=\"middle\" x=\"529.5\" y=\"-37.8\">samples = 1180</text>\n<text fill=\"#000000\" font-family=\"Times,serif\" font-size=\"14.00\" text-anchor=\"middle\" x=\"529.5\" y=\"-22.8\">value = [353, 827]</text>\n<text fill=\"#000000\" font-family=\"Times,serif\" font-size=\"14.00\" text-anchor=\"middle\" x=\"529.5\" y=\"-7.8\">class = 1</text>\n</g>\n<!-- 5&#45;&gt;7 -->\n<g class=\"edge\" id=\"edge7\">\n<title>5-&gt;7</title>\n<path d=\"M481.172,-103.9815C487.3285,-95.0666 493.8443,-85.6313 500.0305,-76.6734\" fill=\"none\" stroke=\"#000000\"/>\n<polygon fill=\"#000000\" points=\"503.0355,-78.4811 505.8381,-68.2637 497.2755,-74.5034 503.0355,-78.4811\" stroke=\"#000000\"/>\n</g>\n<!-- 9 -->\n<g class=\"node\" id=\"node10\">\n<title>9</title>\n<polygon fill=\"#bedff6\" points=\"820.5,-187 680.5,-187 680.5,-104 820.5,-104 820.5,-187\" stroke=\"#000000\"/>\n<text fill=\"#000000\" font-family=\"Times,serif\" font-size=\"14.00\" text-anchor=\"middle\" x=\"750.5\" y=\"-171.8\">cholesterol &lt;= 0.75</text>\n<text fill=\"#000000\" font-family=\"Times,serif\" font-size=\"14.00\" text-anchor=\"middle\" x=\"750.5\" y=\"-156.8\">gini = 0.481</text>\n<text fill=\"#000000\" font-family=\"Times,serif\" font-size=\"14.00\" text-anchor=\"middle\" x=\"750.5\" y=\"-141.8\">samples = 6724</text>\n<text fill=\"#000000\" font-family=\"Times,serif\" font-size=\"14.00\" text-anchor=\"middle\" x=\"750.5\" y=\"-126.8\">value = [2705, 4019]</text>\n<text fill=\"#000000\" font-family=\"Times,serif\" font-size=\"14.00\" text-anchor=\"middle\" x=\"750.5\" y=\"-111.8\">class = 1</text>\n</g>\n<!-- 8&#45;&gt;9 -->\n<g class=\"edge\" id=\"edge9\">\n<title>8-&gt;9</title>\n<path d=\"M750.5,-222.8796C750.5,-214.6838 750.5,-205.9891 750.5,-197.5013\" fill=\"none\" stroke=\"#000000\"/>\n<polygon fill=\"#000000\" points=\"754.0001,-197.298 750.5,-187.2981 747.0001,-197.2981 754.0001,-197.298\" stroke=\"#000000\"/>\n</g>\n<!-- 12 -->\n<g class=\"node\" id=\"node13\">\n<title>12</title>\n<polygon fill=\"#60b0ea\" points=\"1055.5,-187 909.5,-187 909.5,-104 1055.5,-104 1055.5,-187\" stroke=\"#000000\"/>\n<text fill=\"#000000\" font-family=\"Times,serif\" font-size=\"14.00\" text-anchor=\"middle\" x=\"982.5\" y=\"-171.8\">ap_hi &lt;= 0.599</text>\n<text fill=\"#000000\" font-family=\"Times,serif\" font-size=\"14.00\" text-anchor=\"middle\" x=\"982.5\" y=\"-156.8\">gini = 0.273</text>\n<text fill=\"#000000\" font-family=\"Times,serif\" font-size=\"14.00\" text-anchor=\"middle\" x=\"982.5\" y=\"-141.8\">samples = 13394</text>\n<text fill=\"#000000\" font-family=\"Times,serif\" font-size=\"14.00\" text-anchor=\"middle\" x=\"982.5\" y=\"-126.8\">value = [2186, 11208]</text>\n<text fill=\"#000000\" font-family=\"Times,serif\" font-size=\"14.00\" text-anchor=\"middle\" x=\"982.5\" y=\"-111.8\">class = 1</text>\n</g>\n<!-- 8&#45;&gt;12 -->\n<g class=\"edge\" id=\"edge12\">\n<title>8-&gt;12</title>\n<path d=\"M824.225,-226.6841C848.4498,-214.2585 875.5241,-200.3713 900.3352,-187.6449\" fill=\"none\" stroke=\"#000000\"/>\n<polygon fill=\"#000000\" points=\"902.0639,-190.6918 909.3643,-183.0136 898.8691,-184.4633 902.0639,-190.6918\" stroke=\"#000000\"/>\n</g>\n<!-- 10 -->\n<g class=\"node\" id=\"node11\">\n<title>10</title>\n<polygon fill=\"#d8ecfa\" points=\"750.5,-68 610.5,-68 610.5,0 750.5,0 750.5,-68\" stroke=\"#000000\"/>\n<text fill=\"#000000\" font-family=\"Times,serif\" font-size=\"14.00\" text-anchor=\"middle\" x=\"680.5\" y=\"-52.8\">gini = 0.494</text>\n<text fill=\"#000000\" font-family=\"Times,serif\" font-size=\"14.00\" text-anchor=\"middle\" x=\"680.5\" y=\"-37.8\">samples = 5450</text>\n<text fill=\"#000000\" font-family=\"Times,serif\" font-size=\"14.00\" text-anchor=\"middle\" x=\"680.5\" y=\"-22.8\">value = [2429, 3021]</text>\n<text fill=\"#000000\" font-family=\"Times,serif\" font-size=\"14.00\" text-anchor=\"middle\" x=\"680.5\" y=\"-7.8\">class = 1</text>\n</g>\n<!-- 9&#45;&gt;10 -->\n<g class=\"edge\" id=\"edge10\">\n<title>9-&gt;10</title>\n<path d=\"M724.4346,-103.9815C718.8955,-95.1585 713.0364,-85.8258 707.4645,-76.9506\" fill=\"none\" stroke=\"#000000\"/>\n<polygon fill=\"#000000\" points=\"710.2922,-74.872 702.0108,-68.2637 704.3637,-78.594 710.2922,-74.872\" stroke=\"#000000\"/>\n</g>\n<!-- 11 -->\n<g class=\"node\" id=\"node12\">\n<title>11</title>\n<polygon fill=\"#70b8ec\" points=\"894,-68 769,-68 769,0 894,0 894,-68\" stroke=\"#000000\"/>\n<text fill=\"#000000\" font-family=\"Times,serif\" font-size=\"14.00\" text-anchor=\"middle\" x=\"831.5\" y=\"-52.8\">gini = 0.339</text>\n<text fill=\"#000000\" font-family=\"Times,serif\" font-size=\"14.00\" text-anchor=\"middle\" x=\"831.5\" y=\"-37.8\">samples = 1274</text>\n<text fill=\"#000000\" font-family=\"Times,serif\" font-size=\"14.00\" text-anchor=\"middle\" x=\"831.5\" y=\"-22.8\">value = [276, 998]</text>\n<text fill=\"#000000\" font-family=\"Times,serif\" font-size=\"14.00\" text-anchor=\"middle\" x=\"831.5\" y=\"-7.8\">class = 1</text>\n</g>\n<!-- 9&#45;&gt;11 -->\n<g class=\"edge\" id=\"edge11\">\n<title>9-&gt;11</title>\n<path d=\"M780.6614,-103.9815C787.2045,-94.9747 794.1334,-85.4367 800.7008,-76.3965\" fill=\"none\" stroke=\"#000000\"/>\n<polygon fill=\"#000000\" points=\"803.5631,-78.4113 806.6089,-68.2637 797.8998,-74.2971 803.5631,-78.4113\" stroke=\"#000000\"/>\n</g>\n<!-- 13 -->\n<g class=\"node\" id=\"node14\">\n<title>13</title>\n<polygon fill=\"#66b3eb\" points=\"1052.5,-68 912.5,-68 912.5,0 1052.5,0 1052.5,-68\" stroke=\"#000000\"/>\n<text fill=\"#000000\" font-family=\"Times,serif\" font-size=\"14.00\" text-anchor=\"middle\" x=\"982.5\" y=\"-52.8\">gini = 0.303</text>\n<text fill=\"#000000\" font-family=\"Times,serif\" font-size=\"14.00\" text-anchor=\"middle\" x=\"982.5\" y=\"-37.8\">samples = 6998</text>\n<text fill=\"#000000\" font-family=\"Times,serif\" font-size=\"14.00\" text-anchor=\"middle\" x=\"982.5\" y=\"-22.8\">value = [1304, 5694]</text>\n<text fill=\"#000000\" font-family=\"Times,serif\" font-size=\"14.00\" text-anchor=\"middle\" x=\"982.5\" y=\"-7.8\">class = 1</text>\n</g>\n<!-- 12&#45;&gt;13 -->\n<g class=\"edge\" id=\"edge13\">\n<title>12-&gt;13</title>\n<path d=\"M982.5,-103.9815C982.5,-95.618 982.5,-86.7965 982.5,-78.3409\" fill=\"none\" stroke=\"#000000\"/>\n<polygon fill=\"#000000\" points=\"986.0001,-78.2636 982.5,-68.2637 979.0001,-78.2637 986.0001,-78.2636\" stroke=\"#000000\"/>\n</g>\n<!-- 14 -->\n<g class=\"node\" id=\"node15\">\n<title>14</title>\n<polygon fill=\"#59ade9\" points=\"1202.5,-68 1070.5,-68 1070.5,0 1202.5,0 1202.5,-68\" stroke=\"#000000\"/>\n<text fill=\"#000000\" font-family=\"Times,serif\" font-size=\"14.00\" text-anchor=\"middle\" x=\"1136.5\" y=\"-52.8\">gini = 0.238</text>\n<text fill=\"#000000\" font-family=\"Times,serif\" font-size=\"14.00\" text-anchor=\"middle\" x=\"1136.5\" y=\"-37.8\">samples = 6396</text>\n<text fill=\"#000000\" font-family=\"Times,serif\" font-size=\"14.00\" text-anchor=\"middle\" x=\"1136.5\" y=\"-22.8\">value = [882, 5514]</text>\n<text fill=\"#000000\" font-family=\"Times,serif\" font-size=\"14.00\" text-anchor=\"middle\" x=\"1136.5\" y=\"-7.8\">class = 1</text>\n</g>\n<!-- 12&#45;&gt;14 -->\n<g class=\"edge\" id=\"edge14\">\n<title>12-&gt;14</title>\n<path d=\"M1039.8439,-103.9815C1053.2994,-94.2394 1067.6131,-83.8759 1080.9867,-74.193\" fill=\"none\" stroke=\"#000000\"/>\n<polygon fill=\"#000000\" points=\"1083.1289,-76.9632 1089.1762,-68.2637 1079.0237,-71.2933 1083.1289,-76.9632\" stroke=\"#000000\"/>\n</g>\n</g>\n</svg>"
              }
            ],
            "_view_module": "@jupyter-widgets/output",
            "_model_module_version": "1.0.0",
            "_view_count": null,
            "_view_module_version": "1.0.0",
            "layout": "IPY_MODEL_6785b067cce24a8498c1f429e9594d2a",
            "_model_module": "@jupyter-widgets/output"
          }
        },
        "159a63416ef9424bb950a9a12c65900e": {
          "model_module": "@jupyter-widgets/controls",
          "model_name": "SliderStyleModel",
          "state": {
            "_view_name": "StyleView",
            "handle_color": null,
            "_model_name": "SliderStyleModel",
            "description_width": "",
            "_view_module": "@jupyter-widgets/base",
            "_model_module_version": "1.5.0",
            "_view_count": null,
            "_view_module_version": "1.2.0",
            "_model_module": "@jupyter-widgets/controls"
          }
        },
        "59e91992abd448a2a4651c925dd29395": {
          "model_module": "@jupyter-widgets/base",
          "model_name": "LayoutModel",
          "state": {
            "_view_name": "LayoutView",
            "grid_template_rows": null,
            "right": null,
            "justify_content": null,
            "_view_module": "@jupyter-widgets/base",
            "overflow": null,
            "_model_module_version": "1.2.0",
            "_view_count": null,
            "flex_flow": null,
            "width": null,
            "min_width": null,
            "border": null,
            "align_items": null,
            "bottom": null,
            "_model_module": "@jupyter-widgets/base",
            "top": null,
            "grid_column": null,
            "overflow_y": null,
            "overflow_x": null,
            "grid_auto_flow": null,
            "grid_area": null,
            "grid_template_columns": null,
            "flex": null,
            "_model_name": "LayoutModel",
            "justify_items": null,
            "grid_row": null,
            "max_height": null,
            "align_content": null,
            "visibility": null,
            "align_self": null,
            "height": null,
            "min_height": null,
            "padding": null,
            "grid_auto_rows": null,
            "grid_gap": null,
            "max_width": null,
            "order": null,
            "_view_module_version": "1.2.0",
            "grid_template_areas": null,
            "object_position": null,
            "object_fit": null,
            "grid_auto_columns": null,
            "margin": null,
            "display": null,
            "left": null
          }
        },
        "6785b067cce24a8498c1f429e9594d2a": {
          "model_module": "@jupyter-widgets/base",
          "model_name": "LayoutModel",
          "state": {
            "_view_name": "LayoutView",
            "grid_template_rows": null,
            "right": null,
            "justify_content": null,
            "_view_module": "@jupyter-widgets/base",
            "overflow": null,
            "_model_module_version": "1.2.0",
            "_view_count": null,
            "flex_flow": null,
            "width": null,
            "min_width": null,
            "border": null,
            "align_items": null,
            "bottom": null,
            "_model_module": "@jupyter-widgets/base",
            "top": null,
            "grid_column": null,
            "overflow_y": null,
            "overflow_x": null,
            "grid_auto_flow": null,
            "grid_area": null,
            "grid_template_columns": null,
            "flex": null,
            "_model_name": "LayoutModel",
            "justify_items": null,
            "grid_row": null,
            "max_height": null,
            "align_content": null,
            "visibility": null,
            "align_self": null,
            "height": null,
            "min_height": null,
            "padding": null,
            "grid_auto_rows": null,
            "grid_gap": null,
            "max_width": null,
            "order": null,
            "_view_module_version": "1.2.0",
            "grid_template_areas": null,
            "object_position": null,
            "object_fit": null,
            "grid_auto_columns": null,
            "margin": null,
            "display": null,
            "left": null
          }
        },
        "60764b67dc8641cf81379ebb4062d197": {
          "model_module": "@jupyter-widgets/controls",
          "model_name": "VBoxModel",
          "state": {
            "_view_name": "VBoxView",
            "_dom_classes": [
              "widget-interact"
            ],
            "_model_name": "VBoxModel",
            "_view_module": "@jupyter-widgets/controls",
            "_model_module_version": "1.5.0",
            "_view_count": null,
            "_view_module_version": "1.5.0",
            "box_style": "",
            "layout": "IPY_MODEL_2944d637cdf340fc848bb74e0f563229",
            "_model_module": "@jupyter-widgets/controls",
            "children": [
              "IPY_MODEL_e1d02ff668c44b30bc2e5eea61d88785",
              "IPY_MODEL_413a092508b5452db0a713c5fabf7bad"
            ]
          }
        },
        "2944d637cdf340fc848bb74e0f563229": {
          "model_module": "@jupyter-widgets/base",
          "model_name": "LayoutModel",
          "state": {
            "_view_name": "LayoutView",
            "grid_template_rows": null,
            "right": null,
            "justify_content": null,
            "_view_module": "@jupyter-widgets/base",
            "overflow": null,
            "_model_module_version": "1.2.0",
            "_view_count": null,
            "flex_flow": null,
            "width": null,
            "min_width": null,
            "border": null,
            "align_items": null,
            "bottom": null,
            "_model_module": "@jupyter-widgets/base",
            "top": null,
            "grid_column": null,
            "overflow_y": null,
            "overflow_x": null,
            "grid_auto_flow": null,
            "grid_area": null,
            "grid_template_columns": null,
            "flex": null,
            "_model_name": "LayoutModel",
            "justify_items": null,
            "grid_row": null,
            "max_height": null,
            "align_content": null,
            "visibility": null,
            "align_self": null,
            "height": null,
            "min_height": null,
            "padding": null,
            "grid_auto_rows": null,
            "grid_gap": null,
            "max_width": null,
            "order": null,
            "_view_module_version": "1.2.0",
            "grid_template_areas": null,
            "object_position": null,
            "object_fit": null,
            "grid_auto_columns": null,
            "margin": null,
            "display": null,
            "left": null
          }
        },
        "e1d02ff668c44b30bc2e5eea61d88785": {
          "model_module": "@jupyter-widgets/controls",
          "model_name": "IntSliderModel",
          "state": {
            "_view_name": "IntSliderView",
            "style": "IPY_MODEL_87a9796efafa491d9fd3f5a9afdec009",
            "_dom_classes": [],
            "description": "depth",
            "step": 1,
            "_model_name": "IntSliderModel",
            "orientation": "horizontal",
            "max": 5,
            "_view_module": "@jupyter-widgets/controls",
            "_model_module_version": "1.5.0",
            "value": 3,
            "_view_count": null,
            "disabled": false,
            "_view_module_version": "1.5.0",
            "min": 1,
            "continuous_update": true,
            "readout_format": "d",
            "description_tooltip": null,
            "readout": true,
            "_model_module": "@jupyter-widgets/controls",
            "layout": "IPY_MODEL_39560a3bfe554f7ab87c767bded56d93"
          }
        },
        "413a092508b5452db0a713c5fabf7bad": {
          "model_module": "@jupyter-widgets/output",
          "model_name": "OutputModel",
          "state": {
            "_view_name": "OutputView",
            "msg_id": "",
            "_dom_classes": [],
            "_model_name": "OutputModel",
            "outputs": [
              {
                "output_type": "display_data",
                "metadata": {
                  "tags": []
                },
                "image/png": "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\n",
                "text/plain": "<Figure size 1600x1200 with 1 Axes>"
              }
            ],
            "_view_module": "@jupyter-widgets/output",
            "_model_module_version": "1.0.0",
            "_view_count": null,
            "_view_module_version": "1.0.0",
            "layout": "IPY_MODEL_a18c7f098c5b4a50bb1997311abd1fb6",
            "_model_module": "@jupyter-widgets/output"
          }
        },
        "87a9796efafa491d9fd3f5a9afdec009": {
          "model_module": "@jupyter-widgets/controls",
          "model_name": "SliderStyleModel",
          "state": {
            "_view_name": "StyleView",
            "handle_color": null,
            "_model_name": "SliderStyleModel",
            "description_width": "",
            "_view_module": "@jupyter-widgets/base",
            "_model_module_version": "1.5.0",
            "_view_count": null,
            "_view_module_version": "1.2.0",
            "_model_module": "@jupyter-widgets/controls"
          }
        },
        "39560a3bfe554f7ab87c767bded56d93": {
          "model_module": "@jupyter-widgets/base",
          "model_name": "LayoutModel",
          "state": {
            "_view_name": "LayoutView",
            "grid_template_rows": null,
            "right": null,
            "justify_content": null,
            "_view_module": "@jupyter-widgets/base",
            "overflow": null,
            "_model_module_version": "1.2.0",
            "_view_count": null,
            "flex_flow": null,
            "width": null,
            "min_width": null,
            "border": null,
            "align_items": null,
            "bottom": null,
            "_model_module": "@jupyter-widgets/base",
            "top": null,
            "grid_column": null,
            "overflow_y": null,
            "overflow_x": null,
            "grid_auto_flow": null,
            "grid_area": null,
            "grid_template_columns": null,
            "flex": null,
            "_model_name": "LayoutModel",
            "justify_items": null,
            "grid_row": null,
            "max_height": null,
            "align_content": null,
            "visibility": null,
            "align_self": null,
            "height": null,
            "min_height": null,
            "padding": null,
            "grid_auto_rows": null,
            "grid_gap": null,
            "max_width": null,
            "order": null,
            "_view_module_version": "1.2.0",
            "grid_template_areas": null,
            "object_position": null,
            "object_fit": null,
            "grid_auto_columns": null,
            "margin": null,
            "display": null,
            "left": null
          }
        },
        "a18c7f098c5b4a50bb1997311abd1fb6": {
          "model_module": "@jupyter-widgets/base",
          "model_name": "LayoutModel",
          "state": {
            "_view_name": "LayoutView",
            "grid_template_rows": null,
            "right": null,
            "justify_content": null,
            "_view_module": "@jupyter-widgets/base",
            "overflow": null,
            "_model_module_version": "1.2.0",
            "_view_count": null,
            "flex_flow": null,
            "width": null,
            "min_width": null,
            "border": null,
            "align_items": null,
            "bottom": null,
            "_model_module": "@jupyter-widgets/base",
            "top": null,
            "grid_column": null,
            "overflow_y": null,
            "overflow_x": null,
            "grid_auto_flow": null,
            "grid_area": null,
            "grid_template_columns": null,
            "flex": null,
            "_model_name": "LayoutModel",
            "justify_items": null,
            "grid_row": null,
            "max_height": null,
            "align_content": null,
            "visibility": null,
            "align_self": null,
            "height": null,
            "min_height": null,
            "padding": null,
            "grid_auto_rows": null,
            "grid_gap": null,
            "max_width": null,
            "order": null,
            "_view_module_version": "1.2.0",
            "grid_template_areas": null,
            "object_position": null,
            "object_fit": null,
            "grid_auto_columns": null,
            "margin": null,
            "display": null,
            "left": null
          }
        },
        "b641076d18b44ede9bd2ca495c255c2a": {
          "model_module": "@jupyter-widgets/controls",
          "model_name": "VBoxModel",
          "state": {
            "_view_name": "VBoxView",
            "_dom_classes": [
              "widget-interact"
            ],
            "_model_name": "VBoxModel",
            "_view_module": "@jupyter-widgets/controls",
            "_model_module_version": "1.5.0",
            "_view_count": null,
            "_view_module_version": "1.5.0",
            "box_style": "",
            "layout": "IPY_MODEL_620b4242b7f04c93be2d14c455356b71",
            "_model_module": "@jupyter-widgets/controls",
            "children": [
              "IPY_MODEL_3837e3d223424ff0923633631268f04e",
              "IPY_MODEL_a5b03fd3663e4977bbe464585aa10e70"
            ]
          }
        },
        "620b4242b7f04c93be2d14c455356b71": {
          "model_module": "@jupyter-widgets/base",
          "model_name": "LayoutModel",
          "state": {
            "_view_name": "LayoutView",
            "grid_template_rows": null,
            "right": null,
            "justify_content": null,
            "_view_module": "@jupyter-widgets/base",
            "overflow": null,
            "_model_module_version": "1.2.0",
            "_view_count": null,
            "flex_flow": null,
            "width": null,
            "min_width": null,
            "border": null,
            "align_items": null,
            "bottom": null,
            "_model_module": "@jupyter-widgets/base",
            "top": null,
            "grid_column": null,
            "overflow_y": null,
            "overflow_x": null,
            "grid_auto_flow": null,
            "grid_area": null,
            "grid_template_columns": null,
            "flex": null,
            "_model_name": "LayoutModel",
            "justify_items": null,
            "grid_row": null,
            "max_height": null,
            "align_content": null,
            "visibility": null,
            "align_self": null,
            "height": null,
            "min_height": null,
            "padding": null,
            "grid_auto_rows": null,
            "grid_gap": null,
            "max_width": null,
            "order": null,
            "_view_module_version": "1.2.0",
            "grid_template_areas": null,
            "object_position": null,
            "object_fit": null,
            "grid_auto_columns": null,
            "margin": null,
            "display": null,
            "left": null
          }
        },
        "3837e3d223424ff0923633631268f04e": {
          "model_module": "@jupyter-widgets/controls",
          "model_name": "IntSliderModel",
          "state": {
            "_view_name": "IntSliderView",
            "style": "IPY_MODEL_090634cf7f954b2086c43525b1fbb4db",
            "_dom_classes": [],
            "description": "depth",
            "step": 1,
            "_model_name": "IntSliderModel",
            "orientation": "horizontal",
            "max": 5,
            "_view_module": "@jupyter-widgets/controls",
            "_model_module_version": "1.5.0",
            "value": 1,
            "_view_count": null,
            "disabled": false,
            "_view_module_version": "1.5.0",
            "min": 1,
            "continuous_update": true,
            "readout_format": "d",
            "description_tooltip": null,
            "readout": true,
            "_model_module": "@jupyter-widgets/controls",
            "layout": "IPY_MODEL_554b93bc2136427dad075a3b9d1ea714"
          }
        },
        "a5b03fd3663e4977bbe464585aa10e70": {
          "model_module": "@jupyter-widgets/output",
          "model_name": "OutputModel",
          "state": {
            "_view_name": "OutputView",
            "msg_id": "",
            "_dom_classes": [],
            "_model_name": "OutputModel",
            "outputs": [
              {
                "output_type": "stream",
                "metadata": {
                  "tags": []
                },
                "text": "Fidelity 0.8256490459806068\nAccuracy in new data\n0.7096653112292775\n",
                "stream": "stdout"
              },
              {
                "output_type": "display_data",
                "metadata": {
                  "tags": []
                },
                "text/plain": "<IPython.core.display.SVG object>",
                "image/svg+xml": "<svg height=\"195pt\" viewBox=\"0.00 0.00 320.00 195.00\" width=\"320pt\" xmlns=\"http://www.w3.org/2000/svg\" xmlns:xlink=\"http://www.w3.org/1999/xlink\">\n<g class=\"graph\" id=\"graph0\" transform=\"scale(1 1) rotate(0) translate(4 191)\">\n<title>Tree</title>\n<polygon fill=\"#ffffff\" points=\"-4,4 -4,-191 316,-191 316,4 -4,4\" stroke=\"transparent\"/>\n<!-- 0 -->\n<g class=\"node\" id=\"node1\">\n<title>0</title>\n<polygon fill=\"#feffff\" points=\"233,-187 78,-187 78,-104 233,-104 233,-187\" stroke=\"#000000\"/>\n<text fill=\"#000000\" font-family=\"Times,serif\" font-size=\"14.00\" text-anchor=\"middle\" x=\"155.5\" y=\"-171.8\">ap_hi &lt;= 0.515</text>\n<text fill=\"#000000\" font-family=\"Times,serif\" font-size=\"14.00\" text-anchor=\"middle\" x=\"155.5\" y=\"-156.8\">gini = 0.5</text>\n<text fill=\"#000000\" font-family=\"Times,serif\" font-size=\"14.00\" text-anchor=\"middle\" x=\"155.5\" y=\"-141.8\">samples = 47953</text>\n<text fill=\"#000000\" font-family=\"Times,serif\" font-size=\"14.00\" text-anchor=\"middle\" x=\"155.5\" y=\"-126.8\">value = [23919, 24034]</text>\n<text fill=\"#000000\" font-family=\"Times,serif\" font-size=\"14.00\" text-anchor=\"middle\" x=\"155.5\" y=\"-111.8\">class = 1</text>\n</g>\n<!-- 1 -->\n<g class=\"node\" id=\"node2\">\n<title>1</title>\n<polygon fill=\"#f1bb94\" points=\"147,-68 0,-68 0,0 147,0 147,-68\" stroke=\"#000000\"/>\n<text fill=\"#000000\" font-family=\"Times,serif\" font-size=\"14.00\" text-anchor=\"middle\" x=\"73.5\" y=\"-52.8\">gini = 0.432</text>\n<text fill=\"#000000\" font-family=\"Times,serif\" font-size=\"14.00\" text-anchor=\"middle\" x=\"73.5\" y=\"-37.8\">samples = 27835</text>\n<text fill=\"#000000\" font-family=\"Times,serif\" font-size=\"14.00\" text-anchor=\"middle\" x=\"73.5\" y=\"-22.8\">value = [19049, 8786]</text>\n<text fill=\"#000000\" font-family=\"Times,serif\" font-size=\"14.00\" text-anchor=\"middle\" x=\"73.5\" y=\"-7.8\">class = 0</text>\n</g>\n<!-- 0&#45;&gt;1 -->\n<g class=\"edge\" id=\"edge1\">\n<title>0-&gt;1</title>\n<path d=\"M124.9662,-103.9815C118.3424,-94.9747 111.3279,-85.4367 104.6795,-76.3965\" fill=\"none\" stroke=\"#000000\"/>\n<polygon fill=\"#000000\" points=\"107.4426,-74.2461 98.6984,-68.2637 101.8034,-78.3933 107.4426,-74.2461\" stroke=\"#000000\"/>\n<text fill=\"#000000\" font-family=\"Times,serif\" font-size=\"14.00\" text-anchor=\"middle\" x=\"94.9306\" y=\"-89.2781\">True</text>\n</g>\n<!-- 2 -->\n<g class=\"node\" id=\"node3\">\n<title>2</title>\n<polygon fill=\"#78bced\" points=\"312,-68 165,-68 165,0 312,0 312,-68\" stroke=\"#000000\"/>\n<text fill=\"#000000\" font-family=\"Times,serif\" font-size=\"14.00\" text-anchor=\"middle\" x=\"238.5\" y=\"-52.8\">gini = 0.367</text>\n<text fill=\"#000000\" font-family=\"Times,serif\" font-size=\"14.00\" text-anchor=\"middle\" x=\"238.5\" y=\"-37.8\">samples = 20118</text>\n<text fill=\"#000000\" font-family=\"Times,serif\" font-size=\"14.00\" text-anchor=\"middle\" x=\"238.5\" y=\"-22.8\">value = [4870, 15248]</text>\n<text fill=\"#000000\" font-family=\"Times,serif\" font-size=\"14.00\" text-anchor=\"middle\" x=\"238.5\" y=\"-7.8\">class = 1</text>\n</g>\n<!-- 0&#45;&gt;2 -->\n<g class=\"edge\" id=\"edge2\">\n<title>0-&gt;2</title>\n<path d=\"M186.4061,-103.9815C193.1108,-94.9747 200.2108,-85.4367 206.9403,-76.3965\" fill=\"none\" stroke=\"#000000\"/>\n<polygon fill=\"#000000\" points=\"209.8306,-78.3752 212.9943,-68.2637 204.2155,-74.1953 209.8306,-78.3752\" stroke=\"#000000\"/>\n<text fill=\"#000000\" font-family=\"Times,serif\" font-size=\"14.00\" text-anchor=\"middle\" x=\"216.6188\" y=\"-89.2995\">False</text>\n</g>\n</g>\n</svg>"
              }
            ],
            "_view_module": "@jupyter-widgets/output",
            "_model_module_version": "1.0.0",
            "_view_count": null,
            "_view_module_version": "1.0.0",
            "layout": "IPY_MODEL_5873f5c72641488fbec19980b0f6b7cd",
            "_model_module": "@jupyter-widgets/output"
          }
        },
        "090634cf7f954b2086c43525b1fbb4db": {
          "model_module": "@jupyter-widgets/controls",
          "model_name": "SliderStyleModel",
          "state": {
            "_view_name": "StyleView",
            "handle_color": null,
            "_model_name": "SliderStyleModel",
            "description_width": "",
            "_view_module": "@jupyter-widgets/base",
            "_model_module_version": "1.5.0",
            "_view_count": null,
            "_view_module_version": "1.2.0",
            "_model_module": "@jupyter-widgets/controls"
          }
        },
        "554b93bc2136427dad075a3b9d1ea714": {
          "model_module": "@jupyter-widgets/base",
          "model_name": "LayoutModel",
          "state": {
            "_view_name": "LayoutView",
            "grid_template_rows": null,
            "right": null,
            "justify_content": null,
            "_view_module": "@jupyter-widgets/base",
            "overflow": null,
            "_model_module_version": "1.2.0",
            "_view_count": null,
            "flex_flow": null,
            "width": null,
            "min_width": null,
            "border": null,
            "align_items": null,
            "bottom": null,
            "_model_module": "@jupyter-widgets/base",
            "top": null,
            "grid_column": null,
            "overflow_y": null,
            "overflow_x": null,
            "grid_auto_flow": null,
            "grid_area": null,
            "grid_template_columns": null,
            "flex": null,
            "_model_name": "LayoutModel",
            "justify_items": null,
            "grid_row": null,
            "max_height": null,
            "align_content": null,
            "visibility": null,
            "align_self": null,
            "height": null,
            "min_height": null,
            "padding": null,
            "grid_auto_rows": null,
            "grid_gap": null,
            "max_width": null,
            "order": null,
            "_view_module_version": "1.2.0",
            "grid_template_areas": null,
            "object_position": null,
            "object_fit": null,
            "grid_auto_columns": null,
            "margin": null,
            "display": null,
            "left": null
          }
        },
        "5873f5c72641488fbec19980b0f6b7cd": {
          "model_module": "@jupyter-widgets/base",
          "model_name": "LayoutModel",
          "state": {
            "_view_name": "LayoutView",
            "grid_template_rows": null,
            "right": null,
            "justify_content": null,
            "_view_module": "@jupyter-widgets/base",
            "overflow": null,
            "_model_module_version": "1.2.0",
            "_view_count": null,
            "flex_flow": null,
            "width": null,
            "min_width": null,
            "border": null,
            "align_items": null,
            "bottom": null,
            "_model_module": "@jupyter-widgets/base",
            "top": null,
            "grid_column": null,
            "overflow_y": null,
            "overflow_x": null,
            "grid_auto_flow": null,
            "grid_area": null,
            "grid_template_columns": null,
            "flex": null,
            "_model_name": "LayoutModel",
            "justify_items": null,
            "grid_row": null,
            "max_height": null,
            "align_content": null,
            "visibility": null,
            "align_self": null,
            "height": null,
            "min_height": null,
            "padding": null,
            "grid_auto_rows": null,
            "grid_gap": null,
            "max_width": null,
            "order": null,
            "_view_module_version": "1.2.0",
            "grid_template_areas": null,
            "object_position": null,
            "object_fit": null,
            "grid_auto_columns": null,
            "margin": null,
            "display": null,
            "left": null
          }
        },
        "8ea3a9f42fbc4d47b00e85f47ae9878f": {
          "model_module": "@jupyter-widgets/controls",
          "model_name": "VBoxModel",
          "state": {
            "_view_name": "VBoxView",
            "_dom_classes": [
              "widget-interact"
            ],
            "_model_name": "VBoxModel",
            "_view_module": "@jupyter-widgets/controls",
            "_model_module_version": "1.5.0",
            "_view_count": null,
            "_view_module_version": "1.5.0",
            "box_style": "",
            "layout": "IPY_MODEL_d840842eb3174c16883f210d848d1186",
            "_model_module": "@jupyter-widgets/controls",
            "children": [
              "IPY_MODEL_d72dd3f7d0784405b1aac8ac11562445",
              "IPY_MODEL_59784a9f24be485a98e598ab015c8f4c"
            ]
          }
        },
        "d840842eb3174c16883f210d848d1186": {
          "model_module": "@jupyter-widgets/base",
          "model_name": "LayoutModel",
          "state": {
            "_view_name": "LayoutView",
            "grid_template_rows": null,
            "right": null,
            "justify_content": null,
            "_view_module": "@jupyter-widgets/base",
            "overflow": null,
            "_model_module_version": "1.2.0",
            "_view_count": null,
            "flex_flow": null,
            "width": null,
            "min_width": null,
            "border": null,
            "align_items": null,
            "bottom": null,
            "_model_module": "@jupyter-widgets/base",
            "top": null,
            "grid_column": null,
            "overflow_y": null,
            "overflow_x": null,
            "grid_auto_flow": null,
            "grid_area": null,
            "grid_template_columns": null,
            "flex": null,
            "_model_name": "LayoutModel",
            "justify_items": null,
            "grid_row": null,
            "max_height": null,
            "align_content": null,
            "visibility": null,
            "align_self": null,
            "height": null,
            "min_height": null,
            "padding": null,
            "grid_auto_rows": null,
            "grid_gap": null,
            "max_width": null,
            "order": null,
            "_view_module_version": "1.2.0",
            "grid_template_areas": null,
            "object_position": null,
            "object_fit": null,
            "grid_auto_columns": null,
            "margin": null,
            "display": null,
            "left": null
          }
        },
        "d72dd3f7d0784405b1aac8ac11562445": {
          "model_module": "@jupyter-widgets/controls",
          "model_name": "IntSliderModel",
          "state": {
            "_view_name": "IntSliderView",
            "style": "IPY_MODEL_5440c8ffc27a46e084508d2a71b1063f",
            "_dom_classes": [],
            "description": "depth",
            "step": 1,
            "_model_name": "IntSliderModel",
            "orientation": "horizontal",
            "max": 5,
            "_view_module": "@jupyter-widgets/controls",
            "_model_module_version": "1.5.0",
            "value": 3,
            "_view_count": null,
            "disabled": false,
            "_view_module_version": "1.5.0",
            "min": 1,
            "continuous_update": true,
            "readout_format": "d",
            "description_tooltip": null,
            "readout": true,
            "_model_module": "@jupyter-widgets/controls",
            "layout": "IPY_MODEL_ea6559e529d54b2a9a4cb89ba273d0d0"
          }
        },
        "59784a9f24be485a98e598ab015c8f4c": {
          "model_module": "@jupyter-widgets/output",
          "model_name": "OutputModel",
          "state": {
            "_view_name": "OutputView",
            "msg_id": "",
            "_dom_classes": [],
            "_model_name": "OutputModel",
            "outputs": [
              {
                "output_type": "display_data",
                "metadata": {
                  "tags": []
                },
                "image/png": "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\n",
                "text/plain": "<Figure size 1600x1200 with 1 Axes>"
              }
            ],
            "_view_module": "@jupyter-widgets/output",
            "_model_module_version": "1.0.0",
            "_view_count": null,
            "_view_module_version": "1.0.0",
            "layout": "IPY_MODEL_f07233a3f91e4041b70d686b8cd68704",
            "_model_module": "@jupyter-widgets/output"
          }
        },
        "5440c8ffc27a46e084508d2a71b1063f": {
          "model_module": "@jupyter-widgets/controls",
          "model_name": "SliderStyleModel",
          "state": {
            "_view_name": "StyleView",
            "handle_color": null,
            "_model_name": "SliderStyleModel",
            "description_width": "",
            "_view_module": "@jupyter-widgets/base",
            "_model_module_version": "1.5.0",
            "_view_count": null,
            "_view_module_version": "1.2.0",
            "_model_module": "@jupyter-widgets/controls"
          }
        },
        "ea6559e529d54b2a9a4cb89ba273d0d0": {
          "model_module": "@jupyter-widgets/base",
          "model_name": "LayoutModel",
          "state": {
            "_view_name": "LayoutView",
            "grid_template_rows": null,
            "right": null,
            "justify_content": null,
            "_view_module": "@jupyter-widgets/base",
            "overflow": null,
            "_model_module_version": "1.2.0",
            "_view_count": null,
            "flex_flow": null,
            "width": null,
            "min_width": null,
            "border": null,
            "align_items": null,
            "bottom": null,
            "_model_module": "@jupyter-widgets/base",
            "top": null,
            "grid_column": null,
            "overflow_y": null,
            "overflow_x": null,
            "grid_auto_flow": null,
            "grid_area": null,
            "grid_template_columns": null,
            "flex": null,
            "_model_name": "LayoutModel",
            "justify_items": null,
            "grid_row": null,
            "max_height": null,
            "align_content": null,
            "visibility": null,
            "align_self": null,
            "height": null,
            "min_height": null,
            "padding": null,
            "grid_auto_rows": null,
            "grid_gap": null,
            "max_width": null,
            "order": null,
            "_view_module_version": "1.2.0",
            "grid_template_areas": null,
            "object_position": null,
            "object_fit": null,
            "grid_auto_columns": null,
            "margin": null,
            "display": null,
            "left": null
          }
        },
        "f07233a3f91e4041b70d686b8cd68704": {
          "model_module": "@jupyter-widgets/base",
          "model_name": "LayoutModel",
          "state": {
            "_view_name": "LayoutView",
            "grid_template_rows": null,
            "right": null,
            "justify_content": null,
            "_view_module": "@jupyter-widgets/base",
            "overflow": null,
            "_model_module_version": "1.2.0",
            "_view_count": null,
            "flex_flow": null,
            "width": null,
            "min_width": null,
            "border": null,
            "align_items": null,
            "bottom": null,
            "_model_module": "@jupyter-widgets/base",
            "top": null,
            "grid_column": null,
            "overflow_y": null,
            "overflow_x": null,
            "grid_auto_flow": null,
            "grid_area": null,
            "grid_template_columns": null,
            "flex": null,
            "_model_name": "LayoutModel",
            "justify_items": null,
            "grid_row": null,
            "max_height": null,
            "align_content": null,
            "visibility": null,
            "align_self": null,
            "height": null,
            "min_height": null,
            "padding": null,
            "grid_auto_rows": null,
            "grid_gap": null,
            "max_width": null,
            "order": null,
            "_view_module_version": "1.2.0",
            "grid_template_areas": null,
            "object_position": null,
            "object_fit": null,
            "grid_auto_columns": null,
            "margin": null,
            "display": null,
            "left": null
          }
        }
      }
    }
  },
  "cells": [
    {
      "cell_type": "markdown",
      "metadata": {
        "id": "view-in-github",
        "colab_type": "text"
      },
      "source": [
        "<a href=\"https://colab.research.google.com/github/LeoVogiatzis/medical_data_analysis/blob/main/iml.ipynb\" target=\"_parent\"><img src=\"https://colab.research.google.com/assets/colab-badge.svg\" alt=\"Open In Colab\"/></a>"
      ]
    },
    {
      "cell_type": "code",
      "metadata": {
        "id": "fIWm7-KVJXaL"
      },
      "source": [
        "  %%capture\n",
        "!pip install orange3\n",
        "!pip install eli5\n",
        "!pip install shap\n",
        "!pip install pdpbox"
      ],
      "execution_count": null,
      "outputs": []
    },
    {
      "cell_type": "code",
      "metadata": {
        "id": "gtnIrNDuKqK7"
      },
      "source": [
        "from sklearn import datasets,model_selection\n",
        "import matplotlib.pyplot as plt\n",
        "import pandas as pd\n",
        "import seaborn as sns\n",
        "import numpy as np\n",
        "from sklearn.metrics import accuracy_score\n",
        "from sklearn.linear_model import LogisticRegression\n",
        "from ipywidgets import interactive"
      ],
      "execution_count": null,
      "outputs": []
    },
    {
      "cell_type": "code",
      "metadata": {
        "id": "Ttwam63zK_sC"
      },
      "source": [
        "# import pandas as pd\n",
        "# from google.colab import files\n",
        "# uploaded = files.upload()"
      ],
      "execution_count": null,
      "outputs": []
    },
    {
      "cell_type": "code",
      "metadata": {
        "id": "yqWQZzkgj4dn"
      },
      "source": [
        "!pip install -U pandas-profiling"
      ],
      "execution_count": null,
      "outputs": []
    },
    {
      "cell_type": "code",
      "metadata": {
        "id": "m0nSKcxQaNCt"
      },
      "source": [
        "data = pd.read_csv('/content/cleaned_cardio_train.csv').drop(['Unnamed: 0'], axis = 'columns')"
      ],
      "execution_count": null,
      "outputs": []
    },
    {
      "cell_type": "code",
      "metadata": {
        "colab": {
          "base_uri": "https://localhost:8080/"
        },
        "id": "MQQ-L58tLeGu",
        "outputId": "d0255f1b-a09b-4eb6-c6ab-b892d108dddc"
      },
      "source": [
        "print(data.head, data.columns)\n",
        "# split data into X and y\n",
        "x_train, x_test, y_train, y_test = model_selection.train_test_split(data.drop('cardio', axis=1),\n",
        "                                                        data['cardio'], test_size=0.25)\n"
      ],
      "execution_count": null,
      "outputs": [
        {
          "output_type": "stream",
          "text": [
            "<bound method NDFrame.head of        age  gender    height    weight  ...  active  cardio        bmi  pulse\n",
            "0       50       2  5.123964  4.127134  ...       1       0  21.967120   30.0\n",
            "1       55       1  5.049856  4.442651  ...       1       1  34.927679   50.0\n",
            "2       51       1  5.105945  4.158883  ...       0       1  23.507805   60.0\n",
            "3       48       2  5.129899  4.406719  ...       1       1  28.710479   50.0\n",
            "4       47       1  5.049856  4.025352  ...       0       0  23.011177   40.0\n",
            "...    ...     ...       ...       ...  ...     ...     ...        ...    ...\n",
            "63933   53       1  5.147494  4.248495  ...       1       1  23.661439   40.0\n",
            "63934   57       1  5.105945  4.382027  ...       1       1  29.384757   70.0\n",
            "63935   52       2  5.209486  4.653960  ...       0       1  31.353579   90.0\n",
            "63936   61       1  5.093750  4.276666  ...       0       1  27.099251   55.0\n",
            "63937   56       1  5.135798  4.276666  ...       1       0  24.913495   40.0\n",
            "\n",
            "[63938 rows x 14 columns]> Index(['age', 'gender', 'height', 'weight', 'ap_hi', 'ap_lo', 'cholesterol',\n",
            "       'gluc', 'smoke', 'alco', 'active', 'cardio', 'bmi', 'pulse'],\n",
            "      dtype='object')\n"
          ],
          "name": "stdout"
        }
      ]
    },
    {
      "cell_type": "code",
      "metadata": {
        "id": "50sueK7S6Xbb"
      },
      "source": [
        "from sklearn.preprocessing import MinMaxScaler\n",
        "scaler = MinMaxScaler()\n",
        "scaler.fit(x_train)\n",
        "x_train = scaler.transform(x_train)\n",
        "x_test = scaler.transform(x_test)"
      ],
      "execution_count": null,
      "outputs": []
    },
    {
      "cell_type": "code",
      "metadata": {
        "colab": {
          "base_uri": "https://localhost:8080/"
        },
        "id": "C2WkpAKWL-ZD",
        "outputId": "687d4107-95a8-4e6d-a881-945cbb6fd66a"
      },
      "source": [
        "lin_model = LogisticRegression(solver=\"liblinear\",penalty='l2',max_iter=100,C=100,random_state=0)\n",
        "#lin_model = LogisticRegression(solver=\"liblinear\",penalty='l1',max_iter=1000,C=10,random_state=0)\n",
        "lin_model.fit(x_train, y_train)\n",
        "predicted_train = lin_model.predict(x_train)\n",
        "predicted_test = lin_model.predict(x_test)\n",
        "predicted_proba_test = lin_model.predict_proba(x_test)\n",
        "print(\"Logistic Regression Model Performance:\")\n",
        "print(\"Accuracy in Train Set\",accuracy_score(y_train, predicted_train))\n",
        "print(\"Accuracy in Test Set\",accuracy_score(y_test, predicted_test))"
      ],
      "execution_count": null,
      "outputs": [
        {
          "output_type": "stream",
          "text": [
            "Logistic Regression Model Performance:\n",
            "Accuracy in Train Set 0.7237711926261131\n",
            "Accuracy in Test Set 0.723866124491711\n"
          ],
          "name": "stdout"
        }
      ]
    },
    {
      "cell_type": "code",
      "metadata": {
        "colab": {
          "base_uri": "https://localhost:8080/"
        },
        "id": "y1ewuAQdcGIK",
        "outputId": "bb0810e0-e0c0-4b95-eac7-dbc03c0f6348"
      },
      "source": [
        "target_names= list(data['cardio'].unique())\n",
        "print(f'target data:{target_names}')\n",
        "#x_test.to_numpy\n",
        "df = data.copy()\n",
        "df.drop('cardio', axis=True, inplace=True)\n",
        "# data.head()\n",
        "df.columns\n",
        "type(x_test)"
      ],
      "execution_count": null,
      "outputs": [
        {
          "output_type": "stream",
          "text": [
            "target data:[0, 1]\n"
          ],
          "name": "stdout"
        },
        {
          "output_type": "execute_result",
          "data": {
            "text/plain": [
              "numpy.ndarray"
            ]
          },
          "metadata": {
            "tags": []
          },
          "execution_count": 9
        }
      ]
    },
    {
      "cell_type": "code",
      "metadata": {
        "colab": {
          "base_uri": "https://localhost:8080/",
          "height": 646
        },
        "id": "GFmZSwfPeaaH",
        "outputId": "e3a63e5c-1de4-4ae5-eabe-4998bbf64ab3"
      },
      "source": [
        "\n",
        "weights = lin_model.coef_\n",
        "print(f'the coeficients are:{weights}')\n",
        "feature_names = list(df.columns)\n",
        "print(f'the type is{type(feature_names)}')\n",
        "model_weights = pd.DataFrame({ 'features': feature_names,'weights': list(weights[0])})\n",
        "#model_weights = model_weights.sort_values(by='weights', ascending=False) #Normal sort\n",
        "model_weights = model_weights.reindex(model_weights['weights'].abs().sort_values(ascending=False).index) #Sort by absolute value\n",
        "model_weights = model_weights[(model_weights[\"weights\"] != 0)]    \n",
        "print(\"Number of features:\",len(model_weights.values))\n",
        "plt.figure(num=None, figsize=(8, 6), dpi=100, facecolor='w', edgecolor='k')\n",
        "sns.barplot(x=\"weights\", y=\"features\", data=model_weights)\n",
        "plt.title(\"Intercept (Bias): \"+str(lin_model.intercept_[0]),loc='right')\n",
        "plt.xticks(rotation=90)\n",
        "plt.show()"
      ],
      "execution_count": null,
      "outputs": [
        {
          "output_type": "stream",
          "text": [
            "the coeficients are:[[ 1.72611552 -0.03106614 -1.2394883   3.16974269  7.67644341  6.05597619\n",
            "   0.94088486 -0.2380676  -0.17135157 -0.2168197  -0.21004967 -3.36760567\n",
            "   3.41897387]]\n",
            "the type is<class 'list'>\n",
            "Number of features: 13\n"
          ],
          "name": "stdout"
        },
        {
          "output_type": "display_data",
          "data": {
            "image/png": "[encoded data removed]",
            "text/plain": [
              "<Figure size 800x600 with 1 Axes>"
            ]
          },
          "metadata": {
            "tags": []
          }
        }
      ]
    },
    {
      "cell_type": "code",
      "metadata": {
        "id": "7jN2XRewGtGx"
      },
      "source": [
        ""
      ],
      "execution_count": null,
      "outputs": []
    },
    {
      "cell_type": "code",
      "metadata": {
        "colab": {
          "base_uri": "https://localhost:8080/",
          "height": 605,
          "referenced_widgets": [
            "f56adcc495b243ec85f3b915f6529a6c",
            "02a1d16d5a4f4a5c9f3f0fa1ad4c00de",
            "8ab2983f623f439e92998f52a0235554",
            "1b931aa1fcb54820841a55a0abea8514",
            "db3999ed61d54d16af6050706734f39e",
            "b0e0f1d188e74db585ce91fd14bc330f",
            "f3b46e1bf8f5420a8cf3e11c53858c39"
          ]
        },
        "id": "LhWZMXFLCX39",
        "outputId": "9a854b67-163a-43c8-d17b-72d5f3e61780"
      },
      "source": [
        "from IPython.display import SVG\n",
        "from IPython.display import display                               \n",
        "from sklearn.metrics import accuracy_score\n",
        "# x_test = x_test.to_numpy\n",
        "def plot_sensor(instance=0):\n",
        "  random_instance = x_test[instance]\n",
        "  # print(\"Original Class:\",target_names[y_test[instance]]+\", Predicted Class:\",target_names[predicted_test[instance]],\"with probability of\",predicted_proba_test[instance][predicted_test[instance]])\n",
        "  weights = lin_model.coef_\n",
        "  summation = sum(weights[0]*random_instance)\n",
        "  bias = lin_model.intercept_[0]\n",
        "  res = \"\"\n",
        "  if (summation + bias > 0):\n",
        "    res = \" > 0 -> 1\"\n",
        "  else:\n",
        "    res = \" <= 0 -> 0\"\n",
        "  print(\"Sum(weights*instance): \"+str(summation)+\" + Intercept (Bias): \"+str(bias)+\" = \"+ str(summation+bias)+ res)\n",
        "  model_weights = pd.DataFrame({ 'features': list(feature_names),'weights*values': list(weights[0]*random_instance)})\n",
        "  #model_weights = model_weights.sort_values(by='weights*values', ascending=False)\n",
        "  model_weights = model_weights.reindex(model_weights['weights*values'].abs().sort_values(ascending=False).index) #Sort by absolute value\n",
        "  model_weights = model_weights[(model_weights[\"weights*values\"] != 0)]    \n",
        "  #print(\"Number of features:\",len(model_weights.values))\n",
        "  plt.figure(num=None, figsize=(8, 6), dpi=100, facecolor='w', edgecolor='k')\n",
        "  sns.barplot(x=\"weights*values\", y=\"features\", data=model_weights)\n",
        "  plt.xticks(rotation=90)\n",
        "  plt.show()\n",
        "inter=interactive(plot_sensor \n",
        "   , instance=(0,9))\n",
        "display(inter)"
      ],
      "execution_count": null,
      "outputs": [
        {
          "output_type": "display_data",
          "data": {
            "application/vnd.jupyter.widget-view+json": {
              "model_id": "f56adcc495b243ec85f3b915f6529a6c",
              "version_minor": 0,
              "version_major": 2
            },
            "text/plain": [
              "interactive(children=(IntSlider(value=0, description='instance', max=9), Output()), _dom_classes=('widget-inte…"
            ]
          },
          "metadata": {
            "tags": []
          }
        }
      ]
    },
    {
      "cell_type": "code",
      "metadata": {
        "colab": {
          "base_uri": "https://localhost:8080/"
        },
        "id": "kEtItRfVLs2G",
        "outputId": "34a7dc30-533e-411f-e3d0-1750cab46c27"
      },
      "source": [
        "from sklearn.tree import DecisionTreeClassifier\n",
        "from sklearn.metrics import classification_report\n",
        "\n",
        "model = DecisionTreeClassifier(criterion='gini',max_depth=2,random_state=0)\n",
        "model.fit(x_train,y_train)\n",
        "y_train_pred = model.predict(x_train)\n",
        "y_pred = model.predict(x_test)\n",
        "print(\"Decision Tree Performance:\")\n",
        "print(\"Accuracy in Train Set\",accuracy_score(y_train, y_train_pred))\n",
        "print(\"Accuracy in Test Set\",accuracy_score(y_test, y_pred))"
      ],
      "execution_count": null,
      "outputs": [
        {
          "output_type": "stream",
          "text": [
            "Simple Decision Tree Performance:\n",
            "Accuracy in Train Set 0.7085688069568119\n",
            "Accuracy in Test Set 0.7096653112292775\n"
          ],
          "name": "stdout"
        }
      ]
    },
    {
      "cell_type": "code",
      "metadata": {
        "colab": {
          "base_uri": "https://localhost:8080/"
        },
        "id": "Xn1HaBnzPpEj",
        "outputId": "259d1a8e-cd33-4680-891d-3427e49defb5"
      },
      "source": [
        "model.feature_importances_"
      ],
      "execution_count": null,
      "outputs": [
        {
          "output_type": "execute_result",
          "data": {
            "text/plain": [
              "array([0.10705174, 0.        , 0.        , 0.        , 0.89294826,\n",
              "       0.        , 0.        , 0.        , 0.        , 0.        ,\n",
              "       0.        , 0.        , 0.        ])"
            ]
          },
          "metadata": {
            "tags": []
          },
          "execution_count": 13
        }
      ]
    },
    {
      "cell_type": "code",
      "metadata": {
        "colab": {
          "base_uri": "https://localhost:8080/",
          "height": 664,
          "referenced_widgets": [
            "5b7a2722d11f47b49c90ac7dfec8abcd",
            "b7c8245abbe546538dee2187cb0dd429",
            "9671f1d56a654f998166b69cf99033e2",
            "0ff560c9a28e460e8fb8c84546570966",
            "159a63416ef9424bb950a9a12c65900e",
            "59e91992abd448a2a4651c925dd29395",
            "6785b067cce24a8498c1f429e9594d2a"
          ]
        },
        "id": "2SMPbfONPtX9",
        "outputId": "c9425827-eebd-4c40-a3d6-205d0c8b221a"
      },
      "source": [
        "\n",
        "from sklearn.tree import export_graphviz\n",
        "from IPython.display import SVG\n",
        "from IPython.display import display                               \n",
        "from ipywidgets import interactive\n",
        "from graphviz import Source\n",
        "\n",
        "def plot_tree(depth):\n",
        "    estimator = DecisionTreeClassifier(random_state = 0 \n",
        "          , criterion = 'gini'\n",
        "          , max_depth = depth)\n",
        "    estimator.fit(x_train, y_train)\n",
        "    graph = Source(export_graphviz(estimator\n",
        "          , out_file=None\n",
        "          , feature_names=feature_names\n",
        "          , class_names=[str(i) for i in target_names]\n",
        "          , filled = True))\n",
        "    print(accuracy_score(y_test, estimator.predict(x_test)))\n",
        "    display(SVG(graph.pipe(format='svg')))\n",
        "    return estimator\n",
        "inter=interactive(plot_tree \n",
        "   , depth=(1,5))\n",
        "display(inter)"
      ],
      "execution_count": null,
      "outputs": [
        {
          "output_type": "display_data",
          "data": {
            "application/vnd.jupyter.widget-view+json": {
              "model_id": "5b7a2722d11f47b49c90ac7dfec8abcd",
              "version_minor": 0,
              "version_major": 2
            },
            "text/plain": [
              "interactive(children=(IntSlider(value=3, description='depth', max=5, min=1), Output()), _dom_classes=('widget-…"
            ]
          },
          "metadata": {
            "tags": []
          }
        }
      ]
    },
    {
      "cell_type": "code",
      "metadata": {
        "colab": {
          "base_uri": "https://localhost:8080/",
          "height": 637,
          "referenced_widgets": [
            "60764b67dc8641cf81379ebb4062d197",
            "2944d637cdf340fc848bb74e0f563229",
            "e1d02ff668c44b30bc2e5eea61d88785",
            "413a092508b5452db0a713c5fabf7bad",
            "87a9796efafa491d9fd3f5a9afdec009",
            "39560a3bfe554f7ab87c767bded56d93",
            "a18c7f098c5b4a50bb1997311abd1fb6"
          ]
        },
        "id": "YJ5z27hXcvus",
        "outputId": "7061de52-20dc-4288-fe00-e11e51452c5a"
      },
      "source": [
        "%matplotlib inline\n",
        "import matplotlib.pyplot as plt\n",
        "import pandas as pd\n",
        "import seaborn as sns\n",
        "import numpy as np\n",
        "\n",
        "def plot_trees_graph(depth):\n",
        "    estimator = DecisionTreeClassifier(random_state = 0 \n",
        "          , criterion = 'gini'\n",
        "          , max_depth = depth)\n",
        "    estimator.fit(x_train, y_train)\n",
        "    weights = estimator.feature_importances_\n",
        "    model_weights = pd.DataFrame({ 'features': list(feature_names),'weights': list(weights)})\n",
        "    model_weights = model_weights.sort_values(by='weights', ascending=False)\n",
        "    plt.figure(num=None, figsize=(8, 6), dpi=200, facecolor='w', edgecolor='k')\n",
        "    sns.barplot(x=\"weights\", y=\"features\", data=model_weights)\n",
        "    plt.xticks(rotation=90)\n",
        "    plt.show()\n",
        "    return estimator\n",
        "inter=interactive(plot_trees_graph \n",
        "   , depth=(1,5))\n",
        "display(inter)"
      ],
      "execution_count": 54,
      "outputs": [
        {
          "output_type": "display_data",
          "data": {
            "application/vnd.jupyter.widget-view+json": {
              "model_id": "60764b67dc8641cf81379ebb4062d197",
              "version_minor": 0,
              "version_major": 2
            },
            "text/plain": [
              "interactive(children=(IntSlider(value=3, description='depth', max=5, min=1), Output()), _dom_classes=('widget-…"
            ]
          },
          "metadata": {
            "tags": []
          }
        }
      ]
    },
    {
      "cell_type": "code",
      "metadata": {
        "colab": {
          "base_uri": "https://localhost:8080/"
        },
        "id": "1ibvseNtdM0q",
        "outputId": "398dd008-84e7-4f33-e5dc-afaa69aec0fb"
      },
      "source": [
        "#Using RandomForestClassifier method of ensemble class to use Random Forest Classification algorithm\n",
        "from sklearn.ensemble import RandomForestClassifier\n",
        "from sklearn.metrics import classification_report\n",
        "\n",
        "classifier = RandomForestClassifier(n_estimators = 1000, criterion = 'entropy', random_state = 0)\n",
        "classifier.fit(x_train, y_train)\n",
        "y_pred = classifier.predict(x_test)\n",
        "print(\"Random Forests Performance:\")\n",
        "print(accuracy_score(y_test,y_pred))"
      ],
      "execution_count": 60,
      "outputs": [
        {
          "output_type": "stream",
          "text": [
            "Random Forests Performance:\n",
            "0.6993431341883015\n"
          ],
          "name": "stdout"
        }
      ]
    },
    {
      "cell_type": "code",
      "metadata": {
        "colab": {
          "base_uri": "https://localhost:8080/",
          "height": 381,
          "referenced_widgets": [
            "b641076d18b44ede9bd2ca495c255c2a",
            "620b4242b7f04c93be2d14c455356b71",
            "3837e3d223424ff0923633631268f04e",
            "a5b03fd3663e4977bbe464585aa10e70",
            "090634cf7f954b2086c43525b1fbb4db",
            "554b93bc2136427dad075a3b9d1ea714",
            "5873f5c72641488fbec19980b0f6b7cd"
          ]
        },
        "id": "sW--lhO6dg8G",
        "outputId": "b13b7269-2a96-4081-eae2-0cef8323301d"
      },
      "source": [
        "new_x_train = x_train\n",
        "new_y_train = classifier.predict(x_train)\n",
        "from sklearn.tree import DecisionTreeClassifier, export_graphviz\n",
        "from IPython.display import SVG\n",
        "from IPython.display import display                               \n",
        "from ipywidgets import interactive\n",
        "from graphviz import Source\n",
        "from sklearn.metrics import accuracy_score\n",
        "\n",
        "print(\"Decision Tree Explanator\")\n",
        "def plot_tree(depth=1):\n",
        "    estimator = DecisionTreeClassifier(random_state = 0 \n",
        "          , criterion = 'gini'\n",
        "          , max_depth = depth)\n",
        "    estimator.fit(new_x_train, new_y_train)\n",
        "    graph = Source(export_graphviz(estimator\n",
        "          , out_file=None\n",
        "          , feature_names=feature_names\n",
        "          , class_names=[str(i) for i in target_names]\n",
        "          , filled = True))\n",
        "    print(\"Fidelity\",accuracy_score(y_pred, estimator.predict(x_test)))\n",
        "    print(\"Accuracy in new data\")\n",
        "    print(accuracy_score(y_test, estimator.predict(x_test)))\n",
        "    #We could calculate R-square metric too!\n",
        "    display(SVG(graph.pipe(format='svg')))\n",
        "    return estimator\n",
        "inter=interactive(plot_tree \n",
        "   , depth=(1,5))\n",
        "display(inter)"
      ],
      "execution_count": 62,
      "outputs": [
        {
          "output_type": "stream",
          "text": [
            "Decision Tree Explanator\n"
          ],
          "name": "stdout"
        },
        {
          "output_type": "display_data",
          "data": {
            "application/vnd.jupyter.widget-view+json": {
              "model_id": "b641076d18b44ede9bd2ca495c255c2a",
              "version_minor": 0,
              "version_major": 2
            },
            "text/plain": [
              "interactive(children=(IntSlider(value=1, description='depth', max=5, min=1), Output()), _dom_classes=('widget-…"
            ]
          },
          "metadata": {
            "tags": []
          }
        }
      ]
    },
    {
      "cell_type": "code",
      "metadata": {
        "colab": {
          "base_uri": "https://localhost:8080/",
          "height": 646
        },
        "id": "2bRSrCppcbzy",
        "outputId": "1c22628b-596e-41bf-beb4-d08b47e51c39"
      },
      "source": [
        "from sklearn.linear_model import LogisticRegression\n",
        "\n",
        "lin_model = LogisticRegression(solver=\"newton-cg\",penalty='l2',max_iter=1000,C=100,random_state=0)\n",
        "#lin_model = LogisticRegression(penalty='l1',max_iter=1000,C=100,random_state=0)\n",
        "lin_model.fit(new_x_train, new_y_train)\n",
        "print(\"Simple Linear Model Performance:\")\n",
        "print(\"Fidelity\",accuracy_score(y_pred,lin_model.predict(x_test)))\n",
        "print(\"Accuracy in new data\")\n",
        "print(accuracy_score(y_test,lin_model.predict(x_test)))\n",
        "\n",
        "weights = lin_model.coef_\n",
        "model_weights = pd.DataFrame({ 'features': list(feature_names),'weights': list(weights[0])})\n",
        "#model_weights = model_weights.sort_values(by='weights', ascending=False) #Normal sort\n",
        "model_weights = model_weights.reindex(model_weights['weights'].abs().sort_values(ascending=False).index) #Sort by absolute value\n",
        "model_weights = model_weights[(model_weights[\"weights\"] != 0)]    \n",
        "print(\"Number of features:\",len(model_weights.values))\n",
        "plt.figure(num=None, figsize=(8, 6), dpi=100, facecolor='w', edgecolor='k')\n",
        "sns.barplot(x=\"weights\", y=\"features\", data=model_weights)\n",
        "plt.title(\"Intercept (Bias): \"+str(lin_model.intercept_[0]),loc='right')\n",
        "plt.xticks(rotation=90)\n",
        "plt.show()"
      ],
      "execution_count": 63,
      "outputs": [
        {
          "output_type": "stream",
          "text": [
            "Simple Linear Model Performance:\n",
            "Fidelity 0.8549264935877385\n",
            "Accuracy in new data\n",
            "0.7239286831404441\n",
            "Number of features: 13\n"
          ],
          "name": "stdout"
        },
        {
          "output_type": "display_data",
          "data": {
            "image/png": "[encoded data removed]",
            "text/plain": [
              "<Figure size 800x600 with 1 Axes>"
            ]
          },
          "metadata": {
            "tags": []
          }
        }
      ]
    },
    {
      "cell_type": "code",
      "metadata": {
        "colab": {
          "base_uri": "https://localhost:8080/",
          "height": 513
        },
        "id": "wUn5BJNrVKPm",
        "outputId": "956ecbbf-b543-4449-d2e0-e669c4c7ad30"
      },
      "source": [
        "from sklearn.svm import SVC\n",
        "import xgboost\n",
        "from sklearn.metrics import classification_report\n",
        "\n",
        "import eli5\n",
        "from eli5.sklearn import PermutationImportance\n",
        "print(target_names)\n",
        "print(\"XGBoost Performance Cardio_dataset:\")\n",
        "model = xgboost.XGBClassifier().fit(x_train,y_train)\n",
        "y_preds = model.predict(x_test)\n",
        "print(classification_report(y_test,y_preds,data['cardio']))\n",
        "perm = PermutationImportance(model).fit(x_test, y_test)\n",
        "eli5.show_weights(perm, feature_names = feature_names)"
      ],
      "execution_count": null,
      "outputs": [
        {
          "output_type": "stream",
          "text": [
            "/usr/local/lib/python3.7/dist-packages/sklearn/utils/deprecation.py:144: FutureWarning: The sklearn.feature_selection.base module is  deprecated in version 0.22 and will be removed in version 0.24. The corresponding classes / functions should instead be imported from sklearn.feature_selection. Anything that cannot be imported from sklearn.feature_selection is now part of the private API.\n",
            "  warnings.warn(message, FutureWarning)\n"
          ],
          "name": "stderr"
        },
        {
          "output_type": "stream",
          "text": [
            "[0, 1]\n",
            "XGBoost Performance on Breast Cancer:\n"
          ],
          "name": "stdout"
        },
        {
          "output_type": "stream",
          "text": [
            "IOPub data rate exceeded.\n",
            "The notebook server will temporarily stop sending output\n",
            "to the client in order to avoid crashing it.\n",
            "To change this limit, set the config variable\n",
            "`--NotebookApp.iopub_data_rate_limit`.\n",
            "\n",
            "Current values:\n",
            "NotebookApp.iopub_data_rate_limit=1000000.0 (bytes/sec)\n",
            "NotebookApp.rate_limit_window=3.0 (secs)\n",
            "\n"
          ],
          "name": "stderr"
        },
        {
          "output_type": "execute_result",
          "data": {
            "text/html": [
              "\n",
              "    <style>\n",
              "    table.eli5-weights tr:hover {\n",
              "        filter: brightness(85%);\n",
              "    }\n",
              "</style>\n",
              "\n",
              "\n",
              "\n",
              "    \n",
              "\n",
              "    \n",
              "\n",
              "    \n",
              "\n",
              "    \n",
              "\n",
              "    \n",
              "\n",
              "    \n",
              "\n",
              "\n",
              "    \n",
              "\n",
              "    \n",
              "\n",
              "    \n",
              "\n",
              "    \n",
              "\n",
              "    \n",
              "\n",
              "    \n",
              "\n",
              "\n",
              "    \n",
              "\n",
              "    \n",
              "\n",
              "    \n",
              "\n",
              "    \n",
              "\n",
              "    \n",
              "        <table class=\"eli5-weights eli5-feature-importances\" style=\"border-collapse: collapse; border: none; margin-top: 0em; table-layout: auto;\">\n",
              "    <thead>\n",
              "    <tr style=\"border: none;\">\n",
              "        <th style=\"padding: 0 1em 0 0.5em; text-align: right; border: none;\">Weight</th>\n",
              "        <th style=\"padding: 0 0.5em 0 0.5em; text-align: left; border: none;\">Feature</th>\n",
              "    </tr>\n",
              "    </thead>\n",
              "    <tbody>\n",
              "    \n",
              "        <tr style=\"background-color: hsl(120, 100.00%, 80.00%); border: none;\">\n",
              "            <td style=\"padding: 0 1em 0 0.5em; text-align: right; border: none;\">\n",
              "                0.1528\n",
              "                \n",
              "                    &plusmn; 0.0031\n",
              "                \n",
              "            </td>\n",
              "            <td style=\"padding: 0 0.5em 0 0.5em; text-align: left; border: none;\">\n",
              "                ap_hi\n",
              "            </td>\n",
              "        </tr>\n",
              "    \n",
              "        <tr style=\"background-color: hsl(120, 100.00%, 93.93%); border: none;\">\n",
              "            <td style=\"padding: 0 1em 0 0.5em; text-align: right; border: none;\">\n",
              "                0.0278\n",
              "                \n",
              "                    &plusmn; 0.0015\n",
              "                \n",
              "            </td>\n",
              "            <td style=\"padding: 0 0.5em 0 0.5em; text-align: left; border: none;\">\n",
              "                cholesterol\n",
              "            </td>\n",
              "        </tr>\n",
              "    \n",
              "        <tr style=\"background-color: hsl(120, 100.00%, 94.62%); border: none;\">\n",
              "            <td style=\"padding: 0 1em 0 0.5em; text-align: right; border: none;\">\n",
              "                0.0234\n",
              "                \n",
              "                    &plusmn; 0.0051\n",
              "                \n",
              "            </td>\n",
              "            <td style=\"padding: 0 0.5em 0 0.5em; text-align: left; border: none;\">\n",
              "                age\n",
              "            </td>\n",
              "        </tr>\n",
              "    \n",
              "        <tr style=\"background-color: hsl(120, 100.00%, 99.31%); border: none;\">\n",
              "            <td style=\"padding: 0 1em 0 0.5em; text-align: right; border: none;\">\n",
              "                0.0012\n",
              "                \n",
              "                    &plusmn; 0.0011\n",
              "                \n",
              "            </td>\n",
              "            <td style=\"padding: 0 0.5em 0 0.5em; text-align: left; border: none;\">\n",
              "                smoke\n",
              "            </td>\n",
              "        </tr>\n",
              "    \n",
              "        <tr style=\"background-color: hsl(120, 100.00%, 99.42%); border: none;\">\n",
              "            <td style=\"padding: 0 1em 0 0.5em; text-align: right; border: none;\">\n",
              "                0.0010\n",
              "                \n",
              "                    &plusmn; 0.0018\n",
              "                \n",
              "            </td>\n",
              "            <td style=\"padding: 0 0.5em 0 0.5em; text-align: left; border: none;\">\n",
              "                ap_lo\n",
              "            </td>\n",
              "        </tr>\n",
              "    \n",
              "        <tr style=\"background-color: hsl(120, 100.00%, 99.62%); border: none;\">\n",
              "            <td style=\"padding: 0 1em 0 0.5em; text-align: right; border: none;\">\n",
              "                0.0005\n",
              "                \n",
              "                    &plusmn; 0.0007\n",
              "                \n",
              "            </td>\n",
              "            <td style=\"padding: 0 0.5em 0 0.5em; text-align: left; border: none;\">\n",
              "                gender\n",
              "            </td>\n",
              "        </tr>\n",
              "    \n",
              "        <tr style=\"background-color: hsl(120, 100.00%, 99.70%); border: none;\">\n",
              "            <td style=\"padding: 0 1em 0 0.5em; text-align: right; border: none;\">\n",
              "                0.0004\n",
              "                \n",
              "                    &plusmn; 0.0005\n",
              "                \n",
              "            </td>\n",
              "            <td style=\"padding: 0 0.5em 0 0.5em; text-align: left; border: none;\">\n",
              "                gluc\n",
              "            </td>\n",
              "        </tr>\n",
              "    \n",
              "        <tr style=\"background-color: hsl(120, 100.00%, 99.82%); border: none;\">\n",
              "            <td style=\"padding: 0 1em 0 0.5em; text-align: right; border: none;\">\n",
              "                0.0002\n",
              "                \n",
              "                    &plusmn; 0.0014\n",
              "                \n",
              "            </td>\n",
              "            <td style=\"padding: 0 0.5em 0 0.5em; text-align: left; border: none;\">\n",
              "                active\n",
              "            </td>\n",
              "        </tr>\n",
              "    \n",
              "        <tr style=\"background-color: hsl(120, 100.00%, 99.91%); border: none;\">\n",
              "            <td style=\"padding: 0 1em 0 0.5em; text-align: right; border: none;\">\n",
              "                0.0001\n",
              "                \n",
              "                    &plusmn; 0.0020\n",
              "                \n",
              "            </td>\n",
              "            <td style=\"padding: 0 0.5em 0 0.5em; text-align: left; border: none;\">\n",
              "                bmi\n",
              "            </td>\n",
              "        </tr>\n",
              "    \n",
              "        <tr style=\"background-color: hsl(0, 100.00%, 99.97%); border: none;\">\n",
              "            <td style=\"padding: 0 1em 0 0.5em; text-align: right; border: none;\">\n",
              "                -0.0000\n",
              "                \n",
              "                    &plusmn; 0.0008\n",
              "                \n",
              "            </td>\n",
              "            <td style=\"padding: 0 0.5em 0 0.5em; text-align: left; border: none;\">\n",
              "                pulse\n",
              "            </td>\n",
              "        </tr>\n",
              "    \n",
              "        <tr style=\"background-color: hsl(0, 100.00%, 99.91%); border: none;\">\n",
              "            <td style=\"padding: 0 1em 0 0.5em; text-align: right; border: none;\">\n",
              "                -0.0001\n",
              "                \n",
              "                    &plusmn; 0.0006\n",
              "                \n",
              "            </td>\n",
              "            <td style=\"padding: 0 0.5em 0 0.5em; text-align: left; border: none;\">\n",
              "                alco\n",
              "            </td>\n",
              "        </tr>\n",
              "    \n",
              "        <tr style=\"background-color: hsl(0, 100.00%, 99.85%); border: none;\">\n",
              "            <td style=\"padding: 0 1em 0 0.5em; text-align: right; border: none;\">\n",
              "                -0.0001\n",
              "                \n",
              "                    &plusmn; 0.0010\n",
              "                \n",
              "            </td>\n",
              "            <td style=\"padding: 0 0.5em 0 0.5em; text-align: left; border: none;\">\n",
              "                height\n",
              "            </td>\n",
              "        </tr>\n",
              "    \n",
              "        <tr style=\"background-color: hsl(0, 100.00%, 99.55%); border: none;\">\n",
              "            <td style=\"padding: 0 1em 0 0.5em; text-align: right; border: none;\">\n",
              "                -0.0007\n",
              "                \n",
              "                    &plusmn; 0.0012\n",
              "                \n",
              "            </td>\n",
              "            <td style=\"padding: 0 0.5em 0 0.5em; text-align: left; border: none;\">\n",
              "                weight\n",
              "            </td>\n",
              "        </tr>\n",
              "    \n",
              "    \n",
              "    </tbody>\n",
              "</table>\n",
              "    \n",
              "\n",
              "    \n",
              "\n",
              "\n",
              "    \n",
              "\n",
              "    \n",
              "\n",
              "    \n",
              "\n",
              "    \n",
              "\n",
              "    \n",
              "\n",
              "    \n",
              "\n",
              "\n",
              "\n"
            ],
            "text/plain": [
              "<IPython.core.display.HTML object>"
            ]
          },
          "metadata": {
            "tags": []
          },
          "execution_count": 15
        }
      ]
    },
    {
      "cell_type": "code",
      "metadata": {
        "colab": {
          "base_uri": "https://localhost:8080/",
          "height": 429
        },
        "id": "5jKSSENwj7SO",
        "outputId": "04be94a8-bed6-4480-f3ff-cd61989b972a"
      },
      "source": [
        "import shap\n",
        "shap_values = shap.TreeExplainer(model).shap_values(x_train)\n",
        "shap.summary_plot(shap_values, x_train, plot_type=\"bar\")"
      ],
      "execution_count": null,
      "outputs": [
        {
          "output_type": "display_data",
          "data": {
            "image/png": "[encoded data removed]",
            "text/plain": [
              "<Figure size 576x482.4 with 1 Axes>"
            ]
          },
          "metadata": {
            "tags": [],
            "needs_background": "light"
          }
        }
      ]
    },
    {
      "cell_type": "code",
      "metadata": {
        "colab": {
          "base_uri": "https://localhost:8080/",
          "height": 450
        },
        "id": "qrI2L-1pkEo7",
        "outputId": "dea80624-b535-4fe2-a5af-33bab24bc1aa"
      },
      "source": [
        "\n",
        "import matplotlib.pyplot as plt\n",
        "f = plt.figure()\n",
        "print(type(shap_values), len(shap_values), len(x_test))\n",
        "shap.summary_plot(shap_values, x_train)\n",
        "f.savefig(\"/summary_plot1.png\", bbox_inches='tight', dpi=600)"
      ],
      "execution_count": null,
      "outputs": [
        {
          "output_type": "stream",
          "text": [
            "<class 'numpy.ndarray'> 47953 15985\n"
          ],
          "name": "stdout"
        },
        {
          "output_type": "display_data",
          "data": {
            "image/png": "[encoded data removed]",
            "text/plain": [
              "<Figure size 576x482.4 with 2 Axes>"
            ]
          },
          "metadata": {
            "tags": [],
            "needs_background": "light"
          }
        }
      ]
    },
    {
      "cell_type": "code",
      "metadata": {
        "id": "UVJNg6lfkGKW"
      },
      "source": [
        "#shap.dependence_plot('height', shap_values, x_train)"
      ],
      "execution_count": null,
      "outputs": []
    },
    {
      "cell_type": "code",
      "metadata": {
        "id": "0lLYiBpJmcuP"
      },
      "source": [
        "#shap.dependence_plot('weight', shap_values, x_train)"
      ],
      "execution_count": null,
      "outputs": []
    },
    {
      "cell_type": "code",
      "metadata": {
        "id": "neadrHalmoVR"
      },
      "source": [
        "# # Initialize your Jupyter notebook with initjs(), otherwise you will get an error message.\n",
        "# shap.initjs()\n",
        "\n",
        "# # Write in a function\n",
        "# def shap_plot():\n",
        "#     explainerModel = shap.TreeExplainer(model)\n",
        "#     shap_values_Model = explainerModel.shap_values(S)\n",
        "#     p = shap.force_plot(explainerModel.expected_value, shap_values_Model[j], S.iloc[[j]])\n",
        "#     return(p)"
      ],
      "execution_count": null,
      "outputs": []
    },
    {
      "cell_type": "code",
      "metadata": {
        "id": "WnLfZ0pCm7Op"
      },
      "source": [
        "# shap_plot()"
      ],
      "execution_count": null,
      "outputs": []
    },
    {
      "cell_type": "code",
      "metadata": {
        "id": "CHT7Xjx6_2Ct"
      },
      "source": [
        "data.drop('cardio', axis=1, inplace=True)"
      ],
      "execution_count": null,
      "outputs": []
    },
    {
      "cell_type": "code",
      "metadata": {
        "colab": {
          "base_uri": "https://localhost:8080/"
        },
        "id": "TaeyJXykJON0",
        "outputId": "3e7ffbd4-4f92-4eb4-adb4-015081d58162"
      },
      "source": [
        "data.columns"
      ],
      "execution_count": null,
      "outputs": [
        {
          "output_type": "execute_result",
          "data": {
            "text/plain": [
              "Index(['age', 'gender', 'height', 'weight', 'ap_hi', 'ap_lo', 'cholesterol',\n",
              "       'gluc', 'smoke', 'alco', 'active', 'bmi', 'pulse'],\n",
              "      dtype='object')"
            ]
          },
          "metadata": {
            "tags": []
          },
          "execution_count": 23
        }
      ]
    },
    {
      "cell_type": "code",
      "metadata": {
        "colab": {
          "base_uri": "https://localhost:8080/",
          "height": 715
        },
        "id": "OGuA4Ghb9a90",
        "outputId": "d75a7ccf-867a-4e5e-afde-2adb4354f424"
      },
      "source": [
        "#no data scaling\n",
        "import pandas as pd\n",
        "from sklearn.ensemble import RandomForestClassifier\n",
        "print(\"Random Forest Performance on Cardio Dataset:\")\n",
        "tree_model = RandomForestClassifier(random_state=0, n_estimators=1000).fit(x_train, y_train)\n",
        "y_preds = tree_model.predict(x_test)\n",
        "print(classification_report(y_test,y_preds,target_names=[str(i) for i in target_names]))\n",
        "# df = pd.DataFrame(breastCancer.data, columns=breastCancer.feature_names)\n",
        "from pdpbox import pdp, get_dataset, info_plots\n",
        "# Create the data that we will plot\n",
        "index = ['Row'+str(i) for i in range(1, len(x_test)+1)]\n",
        "feature_txt = 'gender' \n",
        "#feature_txt = 'radius error' \n",
        "pdp_goals = pdp.pdp_isolate(model=tree_model, dataset=data, model_features=data.columns, feature=feature_txt )\n",
        "\n",
        "# plot it\n",
        "pdp.pdp_plot(pdp_goals, feature_txt)\n",
        "plt.show()"
      ],
      "execution_count": 72,
      "outputs": [
        {
          "output_type": "stream",
          "text": [
            "Random Forest Performance on Cardio Dataset:\n",
            "              precision    recall  f1-score   support\n",
            "\n",
            "           0       0.69      0.70      0.70      7892\n",
            "           1       0.70      0.70      0.70      8093\n",
            "\n",
            "    accuracy                           0.70     15985\n",
            "   macro avg       0.70      0.70      0.70     15985\n",
            "weighted avg       0.70      0.70      0.70     15985\n",
            "\n"
          ],
          "name": "stdout"
        },
        {
          "output_type": "display_data",
          "data": {
            "image/png": "[encoded data removed]",
            "text/plain": [
              "<Figure size 1080x684 with 2 Axes>"
            ]
          },
          "metadata": {
            "tags": [],
            "needs_background": "light"
          }
        }
      ]
    },
    {
      "cell_type": "code",
      "metadata": {
        "id": "0Bp_l9ci9ngS",
        "colab": {
          "base_uri": "https://localhost:8080/",
          "height": 391
        },
        "outputId": "e2632706-38ea-42c6-c889-9104ed2b60a3"
      },
      "source": [
        "feature_to_plot = 'Distance Covered (Kms)'\n",
        "pdp_dist = pdp.pdp_isolate(model=tree_model, dataset=data, model_features=feature_names, feature=feature_to_plot)\n",
        "\n",
        "pdp.pdp_plot(pdp_dist, feature_to_plot)\n",
        "plt.show()"
      ],
      "execution_count": 74,
      "outputs": [
        {
          "output_type": "error",
          "ename": "ValueError",
          "evalue": "ignored",
          "traceback": [
            "\u001b[0;31m---------------------------------------------------------------------------\u001b[0m",
            "\u001b[0;31mValueError\u001b[0m                                Traceback (most recent call last)",
            "\u001b[0;32m<ipython-input-74-58eed79b05fb>\u001b[0m in \u001b[0;36m<module>\u001b[0;34m()\u001b[0m\n\u001b[1;32m      1\u001b[0m \u001b[0mfeature_to_plot\u001b[0m \u001b[0;34m=\u001b[0m \u001b[0;34m'Distance Covered (Kms)'\u001b[0m\u001b[0;34m\u001b[0m\u001b[0;34m\u001b[0m\u001b[0m\n\u001b[0;32m----> 2\u001b[0;31m \u001b[0mpdp_dist\u001b[0m \u001b[0;34m=\u001b[0m \u001b[0mpdp\u001b[0m\u001b[0;34m.\u001b[0m\u001b[0mpdp_isolate\u001b[0m\u001b[0;34m(\u001b[0m\u001b[0mmodel\u001b[0m\u001b[0;34m=\u001b[0m\u001b[0mtree_model\u001b[0m\u001b[0;34m,\u001b[0m \u001b[0mdataset\u001b[0m\u001b[0;34m=\u001b[0m\u001b[0mdata\u001b[0m\u001b[0;34m,\u001b[0m \u001b[0mmodel_features\u001b[0m\u001b[0;34m=\u001b[0m\u001b[0mfeature_names\u001b[0m\u001b[0;34m,\u001b[0m \u001b[0mfeature\u001b[0m\u001b[0;34m=\u001b[0m\u001b[0mfeature_to_plot\u001b[0m\u001b[0;34m)\u001b[0m\u001b[0;34m\u001b[0m\u001b[0;34m\u001b[0m\u001b[0m\n\u001b[0m\u001b[1;32m      3\u001b[0m \u001b[0;34m\u001b[0m\u001b[0m\n\u001b[1;32m      4\u001b[0m \u001b[0mpdp\u001b[0m\u001b[0;34m.\u001b[0m\u001b[0mpdp_plot\u001b[0m\u001b[0;34m(\u001b[0m\u001b[0mpdp_dist\u001b[0m\u001b[0;34m,\u001b[0m \u001b[0mfeature_to_plot\u001b[0m\u001b[0;34m)\u001b[0m\u001b[0;34m\u001b[0m\u001b[0;34m\u001b[0m\u001b[0m\n\u001b[1;32m      5\u001b[0m \u001b[0mplt\u001b[0m\u001b[0;34m.\u001b[0m\u001b[0mshow\u001b[0m\u001b[0;34m(\u001b[0m\u001b[0;34m)\u001b[0m\u001b[0;34m\u001b[0m\u001b[0;34m\u001b[0m\u001b[0m\n",
            "\u001b[0;32m/usr/local/lib/python3.7/dist-packages/pdpbox/pdp.py\u001b[0m in \u001b[0;36mpdp_isolate\u001b[0;34m(model, dataset, model_features, feature, num_grid_points, grid_type, percentile_range, grid_range, cust_grid_points, memory_limit, n_jobs, predict_kwds, data_transformer)\u001b[0m\n\u001b[1;32m    122\u001b[0m     \u001b[0m_dataset\u001b[0m \u001b[0;34m=\u001b[0m \u001b[0mdataset\u001b[0m\u001b[0;34m.\u001b[0m\u001b[0mcopy\u001b[0m\u001b[0;34m(\u001b[0m\u001b[0;34m)\u001b[0m\u001b[0;34m\u001b[0m\u001b[0;34m\u001b[0m\u001b[0m\n\u001b[1;32m    123\u001b[0m \u001b[0;34m\u001b[0m\u001b[0m\n\u001b[0;32m--> 124\u001b[0;31m     \u001b[0mfeature_type\u001b[0m \u001b[0;34m=\u001b[0m \u001b[0m_check_feature\u001b[0m\u001b[0;34m(\u001b[0m\u001b[0mfeature\u001b[0m\u001b[0;34m=\u001b[0m\u001b[0mfeature\u001b[0m\u001b[0;34m,\u001b[0m \u001b[0mdf\u001b[0m\u001b[0;34m=\u001b[0m\u001b[0m_dataset\u001b[0m\u001b[0;34m)\u001b[0m\u001b[0;34m\u001b[0m\u001b[0;34m\u001b[0m\u001b[0m\n\u001b[0m\u001b[1;32m    125\u001b[0m     \u001b[0m_check_grid_type\u001b[0m\u001b[0;34m(\u001b[0m\u001b[0mgrid_type\u001b[0m\u001b[0;34m=\u001b[0m\u001b[0mgrid_type\u001b[0m\u001b[0;34m)\u001b[0m\u001b[0;34m\u001b[0m\u001b[0;34m\u001b[0m\u001b[0m\n\u001b[1;32m    126\u001b[0m     \u001b[0m_check_percentile_range\u001b[0m\u001b[0;34m(\u001b[0m\u001b[0mpercentile_range\u001b[0m\u001b[0;34m=\u001b[0m\u001b[0mpercentile_range\u001b[0m\u001b[0;34m)\u001b[0m\u001b[0;34m\u001b[0m\u001b[0;34m\u001b[0m\u001b[0m\n",
            "\u001b[0;32m/usr/local/lib/python3.7/dist-packages/pdpbox/utils.py\u001b[0m in \u001b[0;36m_check_feature\u001b[0;34m(feature, df)\u001b[0m\n\u001b[1;32m     23\u001b[0m     \u001b[0;32melse\u001b[0m\u001b[0;34m:\u001b[0m\u001b[0;34m\u001b[0m\u001b[0;34m\u001b[0m\u001b[0m\n\u001b[1;32m     24\u001b[0m         \u001b[0;32mif\u001b[0m \u001b[0mfeature\u001b[0m \u001b[0;32mnot\u001b[0m \u001b[0;32min\u001b[0m \u001b[0mdf\u001b[0m\u001b[0;34m.\u001b[0m\u001b[0mcolumns\u001b[0m\u001b[0;34m.\u001b[0m\u001b[0mvalues\u001b[0m\u001b[0;34m:\u001b[0m\u001b[0;34m\u001b[0m\u001b[0;34m\u001b[0m\u001b[0m\n\u001b[0;32m---> 25\u001b[0;31m             \u001b[0;32mraise\u001b[0m \u001b[0mValueError\u001b[0m\u001b[0;34m(\u001b[0m\u001b[0;34m'feature does not exist: %s'\u001b[0m \u001b[0;34m%\u001b[0m \u001b[0mfeature\u001b[0m\u001b[0;34m)\u001b[0m\u001b[0;34m\u001b[0m\u001b[0;34m\u001b[0m\u001b[0m\n\u001b[0m\u001b[1;32m     26\u001b[0m         \u001b[0;32mif\u001b[0m \u001b[0msorted\u001b[0m\u001b[0;34m(\u001b[0m\u001b[0mlist\u001b[0m\u001b[0;34m(\u001b[0m\u001b[0mnp\u001b[0m\u001b[0;34m.\u001b[0m\u001b[0munique\u001b[0m\u001b[0;34m(\u001b[0m\u001b[0mdf\u001b[0m\u001b[0;34m[\u001b[0m\u001b[0mfeature\u001b[0m\u001b[0;34m]\u001b[0m\u001b[0;34m)\u001b[0m\u001b[0;34m)\u001b[0m\u001b[0;34m)\u001b[0m \u001b[0;34m==\u001b[0m \u001b[0;34m[\u001b[0m\u001b[0;36m0\u001b[0m\u001b[0;34m,\u001b[0m \u001b[0;36m1\u001b[0m\u001b[0;34m]\u001b[0m\u001b[0;34m:\u001b[0m\u001b[0;34m\u001b[0m\u001b[0;34m\u001b[0m\u001b[0m\n\u001b[1;32m     27\u001b[0m             \u001b[0mfeature_type\u001b[0m \u001b[0;34m=\u001b[0m \u001b[0;34m'binary'\u001b[0m\u001b[0;34m\u001b[0m\u001b[0;34m\u001b[0m\u001b[0m\n",
            "\u001b[0;31mValueError\u001b[0m: feature does not exist: Distance Covered (Kms)"
          ]
        }
      ]
    },
    {
      "cell_type": "code",
      "metadata": {
        "colab": {
          "base_uri": "https://localhost:8080/"
        },
        "id": "9dJZZzUHCHC7",
        "outputId": "8a6c2805-f35c-4d25-df74-386def531e1b"
      },
      "source": [
        "from sklearn.neighbors import KNeighborsClassifier\n",
        "from sklearn.tree import DecisionTreeClassifier\n",
        "from sklearn.metrics import classification_report\n",
        "knnmodel = KNeighborsClassifier(n_neighbors=5, weights=\"distance\", metric=\"minkowski\", p=2)\n",
        "knnmodel = knnmodel.fit(x_train, y_train)\n",
        "print(\"Finding Neighbors of Instance...\")\n",
        "test_x = [x_test[0]]\n",
        "ys = knnmodel.kneighbors(test_x, n_neighbors=3, return_distance=False) #Try for 100!\n",
        "new_x_train2 = []\n",
        "new_y_train2 = []\n",
        "for i in ys[0]:\n",
        "    print(i)\n",
        "    if i==17273 or i==45549 or i==24613:\n",
        "      continue\n",
        "    new_x_train2.append(x_train[i])\n",
        "    new_y_train2.append(y_train[i])"
      ],
      "execution_count": 64,
      "outputs": [
        {
          "output_type": "stream",
          "text": [
            "Finding Neighbors of Instance...\n",
            "24613\n",
            "17273\n",
            "45549\n"
          ],
          "name": "stdout"
        }
      ]
    },
    {
      "cell_type": "code",
      "metadata": {
        "id": "sun5HQTUU9Z0"
      },
      "source": [
        "# new_x_train2 = np.asarray(new_x_train2)\n",
        "# new_y_train2 = np.asarray(new_y_train2)\n",
        "# new_x_train2 = new_x_train2.reshape(-1, 1)\n",
        "# new_y_train2 = new_y_train2.reshape(-1, 1)"
      ],
      "execution_count": 44,
      "outputs": []
    },
    {
      "cell_type": "code",
      "metadata": {
        "id": "jWVWUJMabPkp"
      },
      "source": [
        "from sklearn.tree import DecisionTreeClassifier, export_graphviz\n",
        "from IPython.display import SVG\n",
        "from IPython.display import display                               \n",
        "from ipywidgets import interactive\n",
        "from graphviz import Source\n",
        "\n",
        "\n",
        "print(\"Decision Tree Explanator\")\n",
        "def plot_tree(depth=1):\n",
        "    estimator = DecisionTreeClassifier(random_state = 0 \n",
        "          , criterion = 'gini'\n",
        "          , max_depth = depth)\n",
        "    print(\"Creating Decision Tree for the Instance:\")\n",
        "    estimator.fit(new_x_train2, new_y_train2)\n",
        "    #print(\"Decision Tree Predicts and explains for Instance:\" + str(estimator.predict(test_x)) + \" and Random Forests predicted:\" + str(classifier.predict(test_x)))\n",
        "    fidelityPreds = estimator.predict(new_x_train2)\n",
        "    #print(\"Let's see fidelity\",accuracy_score(new_y_train2,fidelityPreds))\n",
        "    \n",
        "    graph = Source(export_graphviz(estimator\n",
        "      , out_file=None\n",
        "      , feature_names=feature_names\n",
        "      , class_names=[str(i) for i in target_names]\n",
        "      , filled = True))\n",
        "    display(SVG(graph.pipe(format='svg')))\n",
        "    print(\"Lets find out the path for this specific instance!\")\n",
        "    for i in estimator.decision_path(test_x):\n",
        "        print(i)\n",
        "    return estimator\n",
        "inter=interactive(plot_tree \n",
        "   , depth=(1,5))\n",
        "display(inter)"
      ],
      "execution_count": null,
      "outputs": []
    },
    {
      "cell_type": "markdown",
      "metadata": {
        "id": "Kb4I2u-Rj0jN"
      },
      "source": [
        ""
      ]
    },
    {
      "cell_type": "code",
      "metadata": {
        "id": "Jjna_EKkO4wD"
      },
      "source": [
        "from IPython.display import SVG\n",
        "from IPython.display import display                               \n",
        "from sklearn.metrics import accuracy_score\n",
        "\n",
        "def plot_sensor(instance=0):\n",
        "  tar = [str(i) for i in target_names]\n",
        "  random_instance = x_test[instance]\n",
        "  print(\"Original Class:\",tar[y_test[instance]]+\", Predicted Class:\",tar[predicted_test[instance]],\"with probability of\",predicted_proba_test[instance][predicted_test[instance]])\n",
        "  weights = lin_model.coef_\n",
        "  summation = sum(weights[0]*random_instance)\n",
        "  bias = lin_model.intercept_[0]\n",
        "  res = \"\"\n",
        "  if (summation + bias > 0):\n",
        "    res = \" > 0 -> 1\"\n",
        "  else:\n",
        "    res = \" <= 0 -> 0\"\n",
        "  print(\"Sum(weights*instance): \"+str(summation)+\" + Intercept (Bias): \"+str(bias)+\" = \"+ str(summation+bias)+ res)\n",
        "  model_weights = pd.DataFrame({ 'features': list(feature_names),'weights*values': list(weights[0]*random_instance)})\n",
        "  #model_weights = model_weights.sort_values(by='weights*values', ascending=False)\n",
        "  model_weights = model_weights.reindex(model_weights['weights*values'].abs().sort_values(ascending=False).index) #Sort by absolute value\n",
        "  model_weights = model_weights[(model_weights[\"weights*values\"] != 0)]    \n",
        "  print(\"Number of features:\",len(model_weights.values))\n",
        "  plt.figure(num=None, figsize=(8, 6), dpi=100, facecolor='w', edgecolor='k')\n",
        "  sns.barplot(x=\"weights*values\", y=\"features\", data=model_weights)\n",
        "  plt.xticks(rotation=90)\n",
        "  plt.show()\n",
        "inter=interactive(plot_sensor \n",
        "   , instance=(0,9))\n",
        "display(inter)"
      ],
      "execution_count": null,
      "outputs": []
    },
    {
      "cell_type": "code",
      "metadata": {
        "id": "nKM-eOg3RPWL",
        "colab": {
          "base_uri": "https://localhost:8080/",
          "height": 637,
          "referenced_widgets": [
            "8ea3a9f42fbc4d47b00e85f47ae9878f",
            "d840842eb3174c16883f210d848d1186",
            "d72dd3f7d0784405b1aac8ac11562445",
            "59784a9f24be485a98e598ab015c8f4c",
            "5440c8ffc27a46e084508d2a71b1063f",
            "ea6559e529d54b2a9a4cb89ba273d0d0",
            "f07233a3f91e4041b70d686b8cd68704"
          ]
        },
        "outputId": "0b72972b-f0e1-470c-acba-f7f5ff954a68"
      },
      "source": [
        "%matplotlib inline\n",
        "import matplotlib.pyplot as plt\n",
        "import pandas as pd\n",
        "import seaborn as sns\n",
        "import numpy as np\n",
        "\n",
        "def plot_trees_graph(depth):\n",
        "    estimator = DecisionTreeClassifier(random_state = 0 \n",
        "          , criterion = 'gini'\n",
        "          , max_depth = depth)\n",
        "    estimator.fit(x_train, y_train)\n",
        "    weights = estimator.feature_importances_\n",
        "    model_weights = pd.DataFrame({ 'features': list(feature_names),'weights': list(weights)})\n",
        "    model_weights = model_weights.sort_values(by='weights', ascending=False)\n",
        "    plt.figure(num=None, figsize=(8, 6), dpi=200, facecolor='w', edgecolor='k')\n",
        "    sns.barplot(x=\"weights\", y=\"features\", data=model_weights)\n",
        "    plt.xticks(rotation=90)\n",
        "    plt.show()\n",
        "    return estimator\n",
        "inter=interactive(plot_trees_graph \n",
        "   , depth=(1,5))\n",
        "display(inter)"
      ],
      "execution_count": 47,
      "outputs": [
        {
          "output_type": "display_data",
          "data": {
            "application/vnd.jupyter.widget-view+json": {
              "model_id": "8ea3a9f42fbc4d47b00e85f47ae9878f",
              "version_minor": 0,
              "version_major": 2
            },
            "text/plain": [
              "interactive(children=(IntSlider(value=3, description='depth', max=5, min=1), Output()), _dom_classes=('widget-…"
            ]
          },
          "metadata": {
            "tags": []
          }
        }
      ]
    },
    {
      "cell_type": "code",
      "metadata": {
        "id": "lg0XS1N7RYGe"
      },
      "source": [
        "import Orange\n",
        "import Orange.evaluation.scoring\n",
        "import Orange.classification.rules\n",
        "import Orange.evaluation\n",
        "\n",
        "learner = Orange.classification.rules.CN2Learner()\n",
        "data = Orange.data.Table(x_train, y_train)\n",
        "print(\"CN2 Ordered with Entropy Performance:\")\n",
        "def plot_rules(bw, mce, mrl):\n",
        "    tar = [str(i) for i in target_names]\n",
        "    learner.rule_finder.quality_evaluator = Orange.classification.rules.EntropyEvaluator()\n",
        "    learner.rule_finder.search_algorithm.beam_width = bw\n",
        "    learner.rule_finder.general_validator.min_covered_examples = mce\n",
        "    learner.rule_finder.general_validator.max_rule_length = mrl\n",
        "    mymodel = learner.fit_storage(data)\n",
        "    predicted = mymodel.predict(np.asarray(x_test))\n",
        "    mypred = []\n",
        "    for iii in predicted:\n",
        "        if (iii[0] >= iii[1]):\n",
        "            mypred.append(0)\n",
        "        else:\n",
        "            mypred.append(1)\n",
        "    print(classification_report(y_test,y_pred,target_names=tar))\n",
        "    model = learner(data)\n",
        "    for rule in model.rule_list:\n",
        "        #rule = str(rule).replace(\"Class=v1\", \"malignant\").replace(\"Class=v2\", \"benign\")\n",
        "        for i in range(len(feature_names)-1,0,-1):\n",
        "            num = \"\"\n",
        "            if i<10:\n",
        "                num = \"0\"+str(i)\n",
        "            else:\n",
        "                num = str(i)\n",
        "            print(feature_names[i])\n",
        "            rule = rule.replace(\"Feature \"+num, \"(\"+ feature_names[i] + \")\")\n",
        "        print(rule)\n",
        "    print()\n",
        "    return learner\n",
        "\n",
        "inter=interactive(plot_rules \n",
        "                ,bw = [3,5,8,10]\n",
        "                ,mce = [7,9,11]\n",
        "                ,mrl = [2,3,5,10])\n",
        "display(inter)"
      ],
      "execution_count": null,
      "outputs": []
    }
  ]
}
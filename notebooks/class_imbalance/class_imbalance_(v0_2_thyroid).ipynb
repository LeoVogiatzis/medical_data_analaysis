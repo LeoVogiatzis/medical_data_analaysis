{
  "nbformat": 4,
  "nbformat_minor": 0,
  "metadata": {
    "colab": {
      "name": "class_imbalance_(v0.1-thyroid).ipynb",
      "provenance": [],
      "collapsed_sections": [],
      "mount_file_id": "14qKZIGEJnODaqPf6bu_NNnYxLRQTUgjL",
      "authorship_tag": "ABX9TyPBedzlvtg9Bn9l4POMi4JY",
      "include_colab_link": true
    },
    "kernelspec": {
      "name": "python3",
      "display_name": "Python 3"
    },
    "language_info": {
      "name": "python"
    }
  },
  "cells": [
    {
      "cell_type": "markdown",
      "metadata": {
        "id": "view-in-github",
        "colab_type": "text"
      },
      "source": [
        "<a href=\"https://colab.research.google.com/github/LeoVogiatzis/medical_data_analysis/blob/main/class_imbalance_(v0_2_thyroid).ipynb\" target=\"_parent\"><img src=\"https://colab.research.google.com/assets/colab-badge.svg\" alt=\"Open In Colab\"/></a>"
      ]
    },
    {
      "cell_type": "code",
      "metadata": {
        "id": "3_1MPooxjos-",
        "colab": {
          "base_uri": "https://localhost:8080/",
          "height": 258
        },
        "outputId": "30eb140f-b7d4-4ac0-ff3a-ed32f3e43543"
      },
      "source": [
        "import pandas as pd\n",
        "import numpy as np\n",
        "import matplotlib.pyplot as plt\n",
        "import seaborn as sns\n",
        "from sklearn import model_selection, metrics\n",
        "from sklearn.metrics import classification_report\n",
        "from sklearn.decomposition import PCA\n",
        "from sklearn.preprocessing import StandardScaler, MinMaxScaler\n",
        "from sklearn.ensemble import RandomForestClassifier\n",
        "from sklearn.metrics import confusion_matrix\n",
        "from sklearn.impute import KNNImputer\n",
        " \n",
        "dt = pd.read_csv(\"medical_data/Thyroid_Sick.csv\")\n",
        "dt.head()"
      ],
      "execution_count": 2,
      "outputs": [
        {
          "output_type": "execute_result",
          "data": {
            "text/html": [
              "<div>\n",
              "<style scoped>\n",
              "    .dataframe tbody tr th:only-of-type {\n",
              "        vertical-align: middle;\n",
              "    }\n",
              "\n",
              "    .dataframe tbody tr th {\n",
              "        vertical-align: top;\n",
              "    }\n",
              "\n",
              "    .dataframe thead th {\n",
              "        text-align: right;\n",
              "    }\n",
              "</style>\n",
              "<table border=\"1\" class=\"dataframe\">\n",
              "  <thead>\n",
              "    <tr style=\"text-align: right;\">\n",
              "      <th></th>\n",
              "      <th>age</th>\n",
              "      <th>sex</th>\n",
              "      <th>on thyroxine</th>\n",
              "      <th>query on thyroxine</th>\n",
              "      <th>on antithyroid medication</th>\n",
              "      <th>sick</th>\n",
              "      <th>pregnant</th>\n",
              "      <th>thyroid surgery</th>\n",
              "      <th>I131 treatment</th>\n",
              "      <th>query hypothyroid</th>\n",
              "      <th>query hyperthyroid</th>\n",
              "      <th>lithium</th>\n",
              "      <th>goitre</th>\n",
              "      <th>tumor</th>\n",
              "      <th>hypopituitary</th>\n",
              "      <th>psych</th>\n",
              "      <th>TSH measured</th>\n",
              "      <th>TSH</th>\n",
              "      <th>T3 measured</th>\n",
              "      <th>T3</th>\n",
              "      <th>TT4 measured</th>\n",
              "      <th>TT4</th>\n",
              "      <th>T4U measured</th>\n",
              "      <th>T4U</th>\n",
              "      <th>FTI measured</th>\n",
              "      <th>FTI</th>\n",
              "      <th>TBG measured</th>\n",
              "      <th>TBG</th>\n",
              "      <th>referral source</th>\n",
              "      <th>Class</th>\n",
              "    </tr>\n",
              "  </thead>\n",
              "  <tbody>\n",
              "    <tr>\n",
              "      <th>0</th>\n",
              "      <td>41.0</td>\n",
              "      <td>F</td>\n",
              "      <td>f</td>\n",
              "      <td>f</td>\n",
              "      <td>f</td>\n",
              "      <td>f</td>\n",
              "      <td>f</td>\n",
              "      <td>f</td>\n",
              "      <td>f</td>\n",
              "      <td>f</td>\n",
              "      <td>f</td>\n",
              "      <td>f</td>\n",
              "      <td>f</td>\n",
              "      <td>f</td>\n",
              "      <td>f</td>\n",
              "      <td>f</td>\n",
              "      <td>t</td>\n",
              "      <td>1.30</td>\n",
              "      <td>t</td>\n",
              "      <td>2.5</td>\n",
              "      <td>t</td>\n",
              "      <td>125.0</td>\n",
              "      <td>t</td>\n",
              "      <td>1.14</td>\n",
              "      <td>t</td>\n",
              "      <td>109.0</td>\n",
              "      <td>f</td>\n",
              "      <td>NaN</td>\n",
              "      <td>SVHC</td>\n",
              "      <td>negative</td>\n",
              "    </tr>\n",
              "    <tr>\n",
              "      <th>1</th>\n",
              "      <td>23.0</td>\n",
              "      <td>F</td>\n",
              "      <td>f</td>\n",
              "      <td>f</td>\n",
              "      <td>f</td>\n",
              "      <td>f</td>\n",
              "      <td>f</td>\n",
              "      <td>f</td>\n",
              "      <td>f</td>\n",
              "      <td>f</td>\n",
              "      <td>f</td>\n",
              "      <td>f</td>\n",
              "      <td>f</td>\n",
              "      <td>f</td>\n",
              "      <td>f</td>\n",
              "      <td>f</td>\n",
              "      <td>t</td>\n",
              "      <td>4.10</td>\n",
              "      <td>t</td>\n",
              "      <td>2.0</td>\n",
              "      <td>t</td>\n",
              "      <td>102.0</td>\n",
              "      <td>f</td>\n",
              "      <td>NaN</td>\n",
              "      <td>f</td>\n",
              "      <td>NaN</td>\n",
              "      <td>f</td>\n",
              "      <td>NaN</td>\n",
              "      <td>other</td>\n",
              "      <td>negative</td>\n",
              "    </tr>\n",
              "    <tr>\n",
              "      <th>2</th>\n",
              "      <td>46.0</td>\n",
              "      <td>M</td>\n",
              "      <td>f</td>\n",
              "      <td>f</td>\n",
              "      <td>f</td>\n",
              "      <td>f</td>\n",
              "      <td>f</td>\n",
              "      <td>f</td>\n",
              "      <td>f</td>\n",
              "      <td>f</td>\n",
              "      <td>f</td>\n",
              "      <td>f</td>\n",
              "      <td>f</td>\n",
              "      <td>f</td>\n",
              "      <td>f</td>\n",
              "      <td>f</td>\n",
              "      <td>t</td>\n",
              "      <td>0.98</td>\n",
              "      <td>f</td>\n",
              "      <td>NaN</td>\n",
              "      <td>t</td>\n",
              "      <td>109.0</td>\n",
              "      <td>t</td>\n",
              "      <td>0.91</td>\n",
              "      <td>t</td>\n",
              "      <td>120.0</td>\n",
              "      <td>f</td>\n",
              "      <td>NaN</td>\n",
              "      <td>other</td>\n",
              "      <td>negative</td>\n",
              "    </tr>\n",
              "    <tr>\n",
              "      <th>3</th>\n",
              "      <td>70.0</td>\n",
              "      <td>F</td>\n",
              "      <td>t</td>\n",
              "      <td>f</td>\n",
              "      <td>f</td>\n",
              "      <td>f</td>\n",
              "      <td>f</td>\n",
              "      <td>f</td>\n",
              "      <td>f</td>\n",
              "      <td>f</td>\n",
              "      <td>f</td>\n",
              "      <td>f</td>\n",
              "      <td>f</td>\n",
              "      <td>f</td>\n",
              "      <td>f</td>\n",
              "      <td>f</td>\n",
              "      <td>t</td>\n",
              "      <td>0.16</td>\n",
              "      <td>t</td>\n",
              "      <td>1.9</td>\n",
              "      <td>t</td>\n",
              "      <td>175.0</td>\n",
              "      <td>f</td>\n",
              "      <td>NaN</td>\n",
              "      <td>f</td>\n",
              "      <td>NaN</td>\n",
              "      <td>f</td>\n",
              "      <td>NaN</td>\n",
              "      <td>other</td>\n",
              "      <td>negative</td>\n",
              "    </tr>\n",
              "    <tr>\n",
              "      <th>4</th>\n",
              "      <td>70.0</td>\n",
              "      <td>F</td>\n",
              "      <td>f</td>\n",
              "      <td>f</td>\n",
              "      <td>f</td>\n",
              "      <td>f</td>\n",
              "      <td>f</td>\n",
              "      <td>f</td>\n",
              "      <td>f</td>\n",
              "      <td>f</td>\n",
              "      <td>f</td>\n",
              "      <td>f</td>\n",
              "      <td>f</td>\n",
              "      <td>f</td>\n",
              "      <td>f</td>\n",
              "      <td>f</td>\n",
              "      <td>t</td>\n",
              "      <td>0.72</td>\n",
              "      <td>t</td>\n",
              "      <td>1.2</td>\n",
              "      <td>t</td>\n",
              "      <td>61.0</td>\n",
              "      <td>t</td>\n",
              "      <td>0.87</td>\n",
              "      <td>t</td>\n",
              "      <td>70.0</td>\n",
              "      <td>f</td>\n",
              "      <td>NaN</td>\n",
              "      <td>SVI</td>\n",
              "      <td>negative</td>\n",
              "    </tr>\n",
              "  </tbody>\n",
              "</table>\n",
              "</div>"
            ],
            "text/plain": [
              "    age sex on thyroxine  ... TBG referral source     Class\n",
              "0  41.0   F            f  ... NaN            SVHC  negative\n",
              "1  23.0   F            f  ... NaN           other  negative\n",
              "2  46.0   M            f  ... NaN           other  negative\n",
              "3  70.0   F            t  ... NaN           other  negative\n",
              "4  70.0   F            f  ... NaN             SVI  negative\n",
              "\n",
              "[5 rows x 30 columns]"
            ]
          },
          "metadata": {
            "tags": []
          },
          "execution_count": 2
        }
      ]
    },
    {
      "cell_type": "code",
      "metadata": {
        "colab": {
          "base_uri": "https://localhost:8080/"
        },
        "id": "glGQjgsyHT72",
        "outputId": "2e93bd47-35b3-4bf0-dc23-df21d5b19f17"
      },
      "source": [
        "dt.info()"
      ],
      "execution_count": 3,
      "outputs": [
        {
          "output_type": "stream",
          "text": [
            "<class 'pandas.core.frame.DataFrame'>\n",
            "RangeIndex: 3772 entries, 0 to 3771\n",
            "Data columns (total 30 columns):\n",
            " #   Column                     Non-Null Count  Dtype  \n",
            "---  ------                     --------------  -----  \n",
            " 0   age                        3771 non-null   float64\n",
            " 1   sex                        3622 non-null   object \n",
            " 2   on thyroxine               3772 non-null   object \n",
            " 3   query on thyroxine         3772 non-null   object \n",
            " 4   on antithyroid medication  3772 non-null   object \n",
            " 5   sick                       3772 non-null   object \n",
            " 6   pregnant                   3772 non-null   object \n",
            " 7   thyroid surgery            3772 non-null   object \n",
            " 8   I131 treatment             3772 non-null   object \n",
            " 9   query hypothyroid          3772 non-null   object \n",
            " 10  query hyperthyroid         3772 non-null   object \n",
            " 11  lithium                    3772 non-null   object \n",
            " 12  goitre                     3772 non-null   object \n",
            " 13  tumor                      3772 non-null   object \n",
            " 14  hypopituitary              3772 non-null   object \n",
            " 15  psych                      3772 non-null   object \n",
            " 16  TSH measured               3772 non-null   object \n",
            " 17  TSH                        3403 non-null   float64\n",
            " 18  T3 measured                3772 non-null   object \n",
            " 19  T3                         3003 non-null   float64\n",
            " 20  TT4 measured               3772 non-null   object \n",
            " 21  TT4                        3541 non-null   float64\n",
            " 22  T4U measured               3772 non-null   object \n",
            " 23  T4U                        3385 non-null   float64\n",
            " 24  FTI measured               3772 non-null   object \n",
            " 25  FTI                        3387 non-null   float64\n",
            " 26  TBG measured               3772 non-null   object \n",
            " 27  TBG                        0 non-null      float64\n",
            " 28  referral source            3772 non-null   object \n",
            " 29  Class                      3772 non-null   object \n",
            "dtypes: float64(7), object(23)\n",
            "memory usage: 884.2+ KB\n"
          ],
          "name": "stdout"
        }
      ]
    },
    {
      "cell_type": "code",
      "metadata": {
        "colab": {
          "base_uri": "https://localhost:8080/",
          "height": 297
        },
        "id": "7qTjwEuGHXdU",
        "outputId": "3d2b35dc-f854-49ea-9dbf-86a4aa55b9b6"
      },
      "source": [
        "dt.describe()"
      ],
      "execution_count": 4,
      "outputs": [
        {
          "output_type": "execute_result",
          "data": {
            "text/html": [
              "<div>\n",
              "<style scoped>\n",
              "    .dataframe tbody tr th:only-of-type {\n",
              "        vertical-align: middle;\n",
              "    }\n",
              "\n",
              "    .dataframe tbody tr th {\n",
              "        vertical-align: top;\n",
              "    }\n",
              "\n",
              "    .dataframe thead th {\n",
              "        text-align: right;\n",
              "    }\n",
              "</style>\n",
              "<table border=\"1\" class=\"dataframe\">\n",
              "  <thead>\n",
              "    <tr style=\"text-align: right;\">\n",
              "      <th></th>\n",
              "      <th>age</th>\n",
              "      <th>TSH</th>\n",
              "      <th>T3</th>\n",
              "      <th>TT4</th>\n",
              "      <th>T4U</th>\n",
              "      <th>FTI</th>\n",
              "      <th>TBG</th>\n",
              "    </tr>\n",
              "  </thead>\n",
              "  <tbody>\n",
              "    <tr>\n",
              "      <th>count</th>\n",
              "      <td>3771.000000</td>\n",
              "      <td>3403.000000</td>\n",
              "      <td>3003.000000</td>\n",
              "      <td>3541.000000</td>\n",
              "      <td>3385.000000</td>\n",
              "      <td>3387.000000</td>\n",
              "      <td>0.0</td>\n",
              "    </tr>\n",
              "    <tr>\n",
              "      <th>mean</th>\n",
              "      <td>51.735879</td>\n",
              "      <td>5.086766</td>\n",
              "      <td>2.013500</td>\n",
              "      <td>108.319345</td>\n",
              "      <td>0.995000</td>\n",
              "      <td>110.469649</td>\n",
              "      <td>NaN</td>\n",
              "    </tr>\n",
              "    <tr>\n",
              "      <th>std</th>\n",
              "      <td>20.084958</td>\n",
              "      <td>24.521470</td>\n",
              "      <td>0.827434</td>\n",
              "      <td>35.604248</td>\n",
              "      <td>0.195457</td>\n",
              "      <td>33.089698</td>\n",
              "      <td>NaN</td>\n",
              "    </tr>\n",
              "    <tr>\n",
              "      <th>min</th>\n",
              "      <td>1.000000</td>\n",
              "      <td>0.005000</td>\n",
              "      <td>0.050000</td>\n",
              "      <td>2.000000</td>\n",
              "      <td>0.250000</td>\n",
              "      <td>2.000000</td>\n",
              "      <td>NaN</td>\n",
              "    </tr>\n",
              "    <tr>\n",
              "      <th>25%</th>\n",
              "      <td>36.000000</td>\n",
              "      <td>0.500000</td>\n",
              "      <td>1.600000</td>\n",
              "      <td>88.000000</td>\n",
              "      <td>0.880000</td>\n",
              "      <td>93.000000</td>\n",
              "      <td>NaN</td>\n",
              "    </tr>\n",
              "    <tr>\n",
              "      <th>50%</th>\n",
              "      <td>54.000000</td>\n",
              "      <td>1.400000</td>\n",
              "      <td>2.000000</td>\n",
              "      <td>103.000000</td>\n",
              "      <td>0.980000</td>\n",
              "      <td>107.000000</td>\n",
              "      <td>NaN</td>\n",
              "    </tr>\n",
              "    <tr>\n",
              "      <th>75%</th>\n",
              "      <td>67.000000</td>\n",
              "      <td>2.700000</td>\n",
              "      <td>2.400000</td>\n",
              "      <td>124.000000</td>\n",
              "      <td>1.080000</td>\n",
              "      <td>124.000000</td>\n",
              "      <td>NaN</td>\n",
              "    </tr>\n",
              "    <tr>\n",
              "      <th>max</th>\n",
              "      <td>455.000000</td>\n",
              "      <td>530.000000</td>\n",
              "      <td>10.600000</td>\n",
              "      <td>430.000000</td>\n",
              "      <td>2.320000</td>\n",
              "      <td>395.000000</td>\n",
              "      <td>NaN</td>\n",
              "    </tr>\n",
              "  </tbody>\n",
              "</table>\n",
              "</div>"
            ],
            "text/plain": [
              "               age          TSH           T3  ...          T4U          FTI  TBG\n",
              "count  3771.000000  3403.000000  3003.000000  ...  3385.000000  3387.000000  0.0\n",
              "mean     51.735879     5.086766     2.013500  ...     0.995000   110.469649  NaN\n",
              "std      20.084958    24.521470     0.827434  ...     0.195457    33.089698  NaN\n",
              "min       1.000000     0.005000     0.050000  ...     0.250000     2.000000  NaN\n",
              "25%      36.000000     0.500000     1.600000  ...     0.880000    93.000000  NaN\n",
              "50%      54.000000     1.400000     2.000000  ...     0.980000   107.000000  NaN\n",
              "75%      67.000000     2.700000     2.400000  ...     1.080000   124.000000  NaN\n",
              "max     455.000000   530.000000    10.600000  ...     2.320000   395.000000  NaN\n",
              "\n",
              "[8 rows x 7 columns]"
            ]
          },
          "metadata": {
            "tags": []
          },
          "execution_count": 4
        }
      ]
    },
    {
      "cell_type": "code",
      "metadata": {
        "colab": {
          "base_uri": "https://localhost:8080/"
        },
        "id": "YKb-A38dHlnf",
        "outputId": "9edb938f-fc0c-47fc-ba67-5614baac11be"
      },
      "source": [
        "dt['Class'].value_counts()"
      ],
      "execution_count": 5,
      "outputs": [
        {
          "output_type": "execute_result",
          "data": {
            "text/plain": [
              "negative    3541\n",
              "sick         231\n",
              "Name: Class, dtype: int64"
            ]
          },
          "metadata": {
            "tags": []
          },
          "execution_count": 5
        }
      ]
    },
    {
      "cell_type": "code",
      "metadata": {
        "colab": {
          "base_uri": "https://localhost:8080/",
          "height": 350
        },
        "id": "Zc9Fj0aTHv9c",
        "outputId": "b59d5f39-47a5-4429-a5f5-38c0b7362535"
      },
      "source": [
        "sns.countplot(dt['Class'])"
      ],
      "execution_count": 6,
      "outputs": [
        {
          "output_type": "stream",
          "text": [
            "/usr/local/lib/python3.7/dist-packages/seaborn/_decorators.py:43: FutureWarning: Pass the following variable as a keyword arg: x. From version 0.12, the only valid positional argument will be `data`, and passing other arguments without an explicit keyword will result in an error or misinterpretation.\n",
            "  FutureWarning\n"
          ],
          "name": "stderr"
        },
        {
          "output_type": "execute_result",
          "data": {
            "text/plain": [
              "<matplotlib.axes._subplots.AxesSubplot at 0x7f32341a2590>"
            ]
          },
          "metadata": {
            "tags": []
          },
          "execution_count": 6
        },
        {
          "output_type": "display_data",
          "data": {
            "image/png": "[encoded data removed]",
            "text/plain": [
              "<Figure size 432x288 with 1 Axes>"
            ]
          },
          "metadata": {
            "tags": [],
            "needs_background": "light"
          }
        }
      ]
    },
    {
      "cell_type": "code",
      "metadata": {
        "colab": {
          "base_uri": "https://localhost:8080/"
        },
        "id": "4CQNA5ntH2e3",
        "outputId": "30e2babe-32d7-4e8c-adba-548a50b3c960"
      },
      "source": [
        "print(dt.isnull().sum())"
      ],
      "execution_count": 7,
      "outputs": [
        {
          "output_type": "stream",
          "text": [
            "age                             1\n",
            "sex                           150\n",
            "on thyroxine                    0\n",
            "query on thyroxine              0\n",
            "on antithyroid medication       0\n",
            "sick                            0\n",
            "pregnant                        0\n",
            "thyroid surgery                 0\n",
            "I131 treatment                  0\n",
            "query hypothyroid               0\n",
            "query hyperthyroid              0\n",
            "lithium                         0\n",
            "goitre                          0\n",
            "tumor                           0\n",
            "hypopituitary                   0\n",
            "psych                           0\n",
            "TSH measured                    0\n",
            "TSH                           369\n",
            "T3 measured                     0\n",
            "T3                            769\n",
            "TT4 measured                    0\n",
            "TT4                           231\n",
            "T4U measured                    0\n",
            "T4U                           387\n",
            "FTI measured                    0\n",
            "FTI                           385\n",
            "TBG measured                    0\n",
            "TBG                          3772\n",
            "referral source                 0\n",
            "Class                           0\n",
            "dtype: int64\n"
          ],
          "name": "stdout"
        }
      ]
    },
    {
      "cell_type": "code",
      "metadata": {
        "colab": {
          "base_uri": "https://localhost:8080/"
        },
        "id": "ltKQz2AcH9WL",
        "outputId": "00e0a7f4-bd70-4b59-fca5-30d310e3c33a"
      },
      "source": [
        "dt.drop([\"TBG\", \"referral source\"], axis=1, inplace=True)\n",
        "dt = dt.loc[:, ~dt.columns.str.endswith(\"measured\")]\n",
        "dt.dropna(subset=['sex'], inplace=True)\n",
        "\n",
        "dt = dt.replace([\"f\", \"t\"], [0, 1])\n",
        "dt = dt.replace([\"F\", \"M\"], [0, 1])\n",
        "dt = dt.replace([\"negative\", \"sick\"], [0, 1])\n",
        "\n",
        "print(dt.shape)"
      ],
      "execution_count": 8,
      "outputs": [
        {
          "output_type": "stream",
          "text": [
            "(3622, 22)\n"
          ],
          "name": "stdout"
        }
      ]
    },
    {
      "cell_type": "code",
      "metadata": {
        "id": "PXtpqFwIIdN-"
      },
      "source": [
        "plt.rcParams['figure.figsize'] = (20, 15) \n",
        "sns.heatmap(dt.corr(), annot = True, linewidths=.5)\n",
        "plt.title('Correlation Between Features', fontsize = 30)\n",
        "plt.show()"
      ],
      "execution_count": null,
      "outputs": []
    },
    {
      "cell_type": "code",
      "metadata": {
        "id": "ypGKo76AJKmG"
      },
      "source": [
        "X = dt.drop(columns=['Class'])\n",
        "y = dt['Class']\n",
        "\n",
        "X.head()"
      ],
      "execution_count": null,
      "outputs": []
    },
    {
      "cell_type": "code",
      "metadata": {
        "id": "efw8uglgJWsC"
      },
      "source": [
        "x_train, x_test, y_train, y_test = model_selection.train_test_split(X, y, test_size=0.30, random_state=42)"
      ],
      "execution_count": 33,
      "outputs": []
    },
    {
      "cell_type": "code",
      "metadata": {
        "id": "nVDSaCezJibu"
      },
      "source": [
        "imputer = KNNImputer(n_neighbors=5, weights=\"uniform\")\n",
        "x_train = imputer.fit_transform(x_train)\n",
        "x_test = imputer.transform(x_test)\n",
        "\n",
        "scaler = StandardScaler()\n",
        "x_train = scaler.fit_transform(x_train)\n",
        "x_test = scaler.transform(x_test)\n",
        "\n",
        "pca = PCA(n_components=10)\n",
        "x_train = pca.fit_transform(x_train)\n",
        "x_test = pca.transform(x_test)"
      ],
      "execution_count": 34,
      "outputs": []
    },
    {
      "cell_type": "code",
      "metadata": {
        "id": "CkyO07xNC09c"
      },
      "source": [
        "from imblearn.ensemble import EasyEnsembleClassifier\n",
        "from imblearn.over_sampling import BorderlineSMOTE, SMOTE\n",
        "from imblearn.under_sampling import TomekLinks\n",
        "from numpy import mean, empty, array\n",
        "from sklearn.ensemble import RandomForestClassifier, AdaBoostClassifier\n",
        "from sklearn.tree import DecisionTreeClassifier\n",
        "from sklearn.metrics import classification_report\n",
        "from sklearn.model_selection import cross_val_score, RepeatedStratifiedKFold"
      ],
      "execution_count": 35,
      "outputs": []
    },
    {
      "cell_type": "code",
      "metadata": {
        "id": "ZGWAT6XH31Kc",
        "cellView": "form"
      },
      "source": [
        "#@title Random Forest Classifier w/o SMOTE\n",
        "clf_rf = RandomForestClassifier(n_estimators=10, random_state=42)\n",
        "\n",
        "mdl_rf = clf_rf.fit(x_train, y_train)\n",
        "y_rf_pred = mdl_rf.predict(x_test)\n",
        "\n",
        "target_names = ['negative', 'sick']\n",
        "cl_report_rf = classification_report(y_test, y_rf_pred, target_names=target_names, digits=4, output_dict=True)"
      ],
      "execution_count": 36,
      "outputs": []
    },
    {
      "cell_type": "code",
      "metadata": {
        "id": "ul12FMXxweHb",
        "cellView": "form"
      },
      "source": [
        "#@title Random Forest Classifier w/ SMOTE\n",
        "smote = SMOTE(random_state=115, k_neighbors=10)\n",
        "\n",
        "x_srf_train, y_srf_train = smote.fit_resample(x_train, y_train)\n",
        "x_srf_test, y_srf_test = smote.fit_resample(x_test, y_test)\n",
        "\n",
        "clf_srf = RandomForestClassifier(n_estimators=10, random_state=42)\n",
        "\n",
        "mdl_srf = clf_srf.fit(x_srf_train, y_srf_train)\n",
        "y_srf_pred = mdl_srf.predict(x_srf_test)\n",
        "\n",
        "target_names = ['negative', 'sick']\n",
        "cl_report_srf = classification_report(y_srf_test, y_srf_pred, target_names=target_names, digits=4, output_dict=True)"
      ],
      "execution_count": null,
      "outputs": []
    },
    {
      "cell_type": "code",
      "metadata": {
        "id": "qMwJ-As004W5",
        "cellView": "form"
      },
      "source": [
        "#@title Random Forest Classifier w/ Borderline SMOTE\n",
        "bsmote = BorderlineSMOTE(random_state=115, k_neighbors=10)\n",
        "\n",
        "x_sbrf_train, y_sbrf_train = bsmote.fit_resample(x_train, y_train)\n",
        "x_sbrf_test, y_sbrf_test = bsmote.fit_resample(x_test, y_test)\n",
        "\n",
        "clf_sbrf = RandomForestClassifier(n_estimators=10, random_state=42)\n",
        "\n",
        "mdl_sbrf = clf_sbrf.fit(x_sbrf_train, y_sbrf_train)\n",
        "y_sbrf_pred = mdl_sbrf.predict(x_sbrf_test)\n",
        "\n",
        "target_names = ['negative', 'sick']\n",
        "cl_report_sbrf = classification_report(y_sbrf_test, y_sbrf_pred, target_names=target_names, digits=4, output_dict=True)"
      ],
      "execution_count": null,
      "outputs": []
    },
    {
      "cell_type": "code",
      "metadata": {
        "id": "_rWvj1eT1YT5",
        "cellView": "form"
      },
      "source": [
        "#@title Random Forest Classifier w/ SMOTE + Tomek Links Removal\n",
        "smote = SMOTE(random_state=115, k_neighbors=10)\n",
        "tomek = TomekLinks(random_state=232)\n",
        "\n",
        "x_strf_train, y_strf_train = smote.fit_resample(x_train, y_train)\n",
        "x_strf_test, y_strf_test = smote.fit_resample(x_test, y_test)\n",
        "\n",
        "x_strf_train, y_strf_train = tomek.fit_sample(x_strf_train, y_strf_train)\n",
        "x_strf_test, y_strf_test = tomek.fit_sample(x_strf_test, y_strf_test)\n",
        "\n",
        "clf_strf = RandomForestClassifier(n_estimators=10, random_state=42)\n",
        "\n",
        "mdl_strf = clf_strf.fit(x_strf_train, y_strf_train)\n",
        "y_strf_pred = mdl_strf.predict(x_strf_test)\n",
        "\n",
        "target_names = ['negative', 'sick']\n",
        "cl_report_strf = classification_report(y_strf_test, y_strf_pred, target_names=target_names, digits=4, output_dict=True)"
      ],
      "execution_count": null,
      "outputs": []
    },
    {
      "cell_type": "code",
      "metadata": {
        "id": "A6aAF9JxfbAA",
        "cellView": "form"
      },
      "source": [
        "#@title Decision Tree Classifier w/o SMOTE\n",
        "clf_dt = DecisionTreeClassifier(random_state=42)\n",
        "\n",
        "mdl_dt = clf_dt.fit(x_train, y_train)\n",
        "y_dt_pred = mdl_dt.predict(x_test)\n",
        "\n",
        "target_names = ['negative', 'sick']\n",
        "cl_report_dt = classification_report(y_test, y_dt_pred, target_names=target_names, digits=4, output_dict=True)"
      ],
      "execution_count": 40,
      "outputs": []
    },
    {
      "cell_type": "code",
      "metadata": {
        "id": "5lFTwfFGqXwk",
        "cellView": "form"
      },
      "source": [
        "#@title Decision Tree Classifier w/ SMOTE\n",
        "smote = SMOTE(random_state=115, k_neighbors=10)\n",
        "\n",
        "x_sdt_train, y_sdt_train = smote.fit_resample(x_train, y_train)\n",
        "x_sdt_test, y_sdt_test = smote.fit_resample(x_test, y_test)\n",
        "\n",
        "clf_sdt = DecisionTreeClassifier(random_state=42)\n",
        "\n",
        "mdl_sdt = clf_sdt.fit(x_sdt_train, y_sdt_train)\n",
        "y_sdt_pred = mdl_sdt.predict(x_sdt_test)\n",
        "\n",
        "target_names = ['negative', 'sick']\n",
        "cl_report_sdt = classification_report(y_sdt_test, y_sdt_pred, target_names=target_names, digits=4, output_dict=True)"
      ],
      "execution_count": null,
      "outputs": []
    },
    {
      "cell_type": "code",
      "metadata": {
        "id": "De5Rm99xqXwn",
        "cellView": "form"
      },
      "source": [
        "#@title Decision Tree Classifier w/ Borderline SMOTE\n",
        "bsmote = BorderlineSMOTE(random_state=115, k_neighbors=10)\n",
        "\n",
        "x_sbdt_train, y_sbdt_train = bsmote.fit_resample(x_train, y_train)\n",
        "x_sbdt_test, y_sbdt_test = bsmote.fit_resample(x_test, y_test)\n",
        "\n",
        "clf_sbdt = DecisionTreeClassifier(random_state=42)\n",
        "\n",
        "mdl_sbdt = clf_sbdt.fit(x_sbdt_train, y_sbdt_train)\n",
        "y_sbdt_pred = mdl_sbdt.predict(x_sbdt_test)\n",
        "\n",
        "target_names = ['negative', 'sick']\n",
        "cl_report_sbdt = classification_report(y_sbdt_test, y_sbdt_pred, target_names=target_names, digits=4, output_dict=True)"
      ],
      "execution_count": null,
      "outputs": []
    },
    {
      "cell_type": "code",
      "metadata": {
        "id": "mfIF93ggqXwo",
        "cellView": "form"
      },
      "source": [
        "#@title Decision Tree Classifier w/ SMOTE + Tomek Links Removal\n",
        "smote = SMOTE(random_state=115, k_neighbors=10)\n",
        "tomek = TomekLinks(random_state=232)\n",
        "\n",
        "x_stdt_train, y_stdt_train = smote.fit_resample(x_train, y_train)\n",
        "x_stdt_test, y_stdt_test = smote.fit_resample(x_test, y_test)\n",
        "\n",
        "x_stdt_train, y_stdt_train = tomek.fit_sample(x_stdt_train, y_stdt_train)\n",
        "x_stdt_test, y_stdt_test = tomek.fit_sample(x_stdt_test, y_stdt_test)\n",
        "\n",
        "clf_stdt = DecisionTreeClassifier(random_state=42)\n",
        "\n",
        "mdl_stdt = clf_stdt.fit(x_stdt_train, y_stdt_train)\n",
        "y_stdt_pred = mdl_stdt.predict(x_stdt_test)\n",
        "\n",
        "target_names = ['negative', 'sick']\n",
        "cl_report_stdt = classification_report(y_stdt_test, y_stdt_pred, target_names=target_names, digits=4, output_dict=True)"
      ],
      "execution_count": null,
      "outputs": []
    },
    {
      "cell_type": "code",
      "metadata": {
        "id": "_hLmBpnnfhIE",
        "cellView": "form"
      },
      "source": [
        "#@title AdaBoost Classifier w/o SMOTE\n",
        "clf_ab = AdaBoostClassifier(n_estimators=25, random_state=343)\n",
        "\n",
        "mdl_ab = clf_ab.fit(x_train, y_train)\n",
        "y_ab_pred = mdl_ab.predict(x_test)\n",
        "\n",
        "target_names = ['negative', 'sick']\n",
        "cl_report_ab = classification_report(y_test, y_ab_pred, target_names=target_names, digits=4, output_dict=True)"
      ],
      "execution_count": 45,
      "outputs": []
    },
    {
      "cell_type": "code",
      "metadata": {
        "id": "L0j3czVufhIG",
        "cellView": "form"
      },
      "source": [
        "#@title AdaBoost Classifier w/ SMOTE\n",
        "smote = SMOTE(random_state=115, k_neighbors=10)\n",
        "\n",
        "x_sab_train, y_sab_train = smote.fit_resample(x_train, y_train)\n",
        "x_sab_test, y_sab_test = smote.fit_resample(x_test, y_test)\n",
        "\n",
        "clf_sab = AdaBoostClassifier(n_estimators=25, random_state=343)\n",
        "\n",
        "mdl_sab = clf_sab.fit(x_sab_train, y_sab_train)\n",
        "y_sab_pred = mdl_sab.predict(x_sab_test)\n",
        "\n",
        "target_names = ['negative', 'sick']\n",
        "cl_report_sab = classification_report(y_sab_test, y_sab_pred, target_names=target_names, digits=4, output_dict=True)"
      ],
      "execution_count": null,
      "outputs": []
    },
    {
      "cell_type": "code",
      "metadata": {
        "id": "dp64AmhFfhIG",
        "cellView": "form"
      },
      "source": [
        "#@title AdaBoost Classifier w/ Borderline SMOTE\n",
        "bsmote = BorderlineSMOTE(random_state=115, k_neighbors=10)\n",
        "\n",
        "x_sbab_train, y_sbab_train = bsmote.fit_resample(x_train, y_train)\n",
        "x_sbab_test, y_sbab_test = bsmote.fit_resample(x_test, y_test)\n",
        "\n",
        "clf_sbab = AdaBoostClassifier(n_estimators=25, random_state=343)\n",
        "\n",
        "mdl_sbab = clf_sbab.fit(x_sbab_train, y_sbab_train)\n",
        "y_sbab_pred = mdl_sbab.predict(x_sbab_test)\n",
        "\n",
        "target_names = ['negative', 'sick']\n",
        "cl_report_sbab = classification_report(y_sbab_test, y_sbab_pred, target_names=target_names, digits=4, output_dict=True)"
      ],
      "execution_count": null,
      "outputs": []
    },
    {
      "cell_type": "code",
      "metadata": {
        "id": "hhm2NgROfhIG",
        "cellView": "form"
      },
      "source": [
        "#@title AdaBoost Classifier w/ SMOTE + Tomek Links Removal\n",
        "smote = SMOTE(random_state=115, k_neighbors=10)\n",
        "tomek = TomekLinks(random_state=232)\n",
        "\n",
        "x_stab_train, y_stab_train = smote.fit_resample(x_train, y_train)\n",
        "x_stab_test, y_stab_test = smote.fit_resample(x_test, y_test)\n",
        "\n",
        "x_stab_train, y_stab_train = tomek.fit_sample(x_stab_train, y_stab_train)\n",
        "x_stab_test, y_stab_test = tomek.fit_sample(x_stab_test, y_stab_test)\n",
        "\n",
        "clf_stab = AdaBoostClassifier(n_estimators=25, random_state=343)\n",
        "\n",
        "mdl_stab = clf_stab.fit(x_stab_train, y_stab_train)\n",
        "y_stab_pred = mdl_stab.predict(x_stab_test)\n",
        "\n",
        "target_names = ['negative', 'sick']\n",
        "cl_report_stab = classification_report(y_stab_test, y_stab_pred, target_names=target_names, digits=4, output_dict=True)"
      ],
      "execution_count": null,
      "outputs": []
    },
    {
      "cell_type": "code",
      "metadata": {
        "id": "xg945D-mCxpm",
        "cellView": "form"
      },
      "source": [
        "#@title Easy Ensemble Classifier on whole dataset\n",
        "\n",
        "# IS RUN FOR MUCH TIME\n",
        "scores = empty(shape=(4,), dtype='object')\n",
        "for counter in range(0,4):\n",
        "  clf_eec = EasyEnsembleClassifier(n_estimators=5*(counter+1), random_state=115)\n",
        "\n",
        "  imputer = KNNImputer(n_neighbors=5, weights=\"uniform\")\n",
        "  x_fit = imputer.fit_transform(X)\n",
        "\n",
        "  scaler = StandardScaler()\n",
        "  x_fit = scaler.fit_transform(x_fit)\n",
        "\n",
        "  pca = PCA(n_components=10)\n",
        "  x_fit = pca.fit_transform(x_fit)\n",
        "\n",
        "  cv = RepeatedStratifiedKFold(n_splits=10, n_repeats=3, random_state=115)\n",
        "  scores0 = mean(cross_val_score(clf_eec, x_fit, y, scoring='accuracy', cv=cv, n_jobs=-1))\n",
        "  scores1 = mean(cross_val_score(clf_eec, x_fit, y, scoring='precision', cv=cv, n_jobs=-1))\n",
        "  scores2 = mean(cross_val_score(clf_eec, x_fit, y, scoring='recall', cv=cv, n_jobs=-1))\n",
        "  scores3 = mean(cross_val_score(clf_eec, x_fit, y, scoring='f1', cv=cv, n_jobs=-1))\n",
        "  scores[counter] = [scores0, scores1, scores2, scores3]"
      ],
      "execution_count": 26,
      "outputs": []
    },
    {
      "cell_type": "code",
      "metadata": {
        "id": "v2_Vg1lFELGY",
        "cellView": "form"
      },
      "source": [
        "#@title Classifiers with class imbalance cost-sensitive matrix\n",
        "clf_csrf = RandomForestClassifier(n_estimators=10, random_state=42, class_weight=\"balanced_subsample\")\n",
        "\n",
        "mdl_csrf = clf_csrf.fit(x_train, y_train)\n",
        "y_csrf_pred = mdl_csrf.predict(x_test)\n",
        "\n",
        "target_names = ['negative', 'sick']\n",
        "cl_report_csrf = classification_report(y_test, y_csrf_pred, target_names=target_names, digits=4, output_dict=True)\n",
        "\n",
        "clf_csdt = DecisionTreeClassifier(random_state=42, class_weight=\"balanced\")\n",
        "\n",
        "mdl_csdt = clf_csdt.fit(x_train, y_train)\n",
        "y_csdt_pred = mdl_csdt.predict(x_test)\n",
        "\n",
        "target_names = ['negative', 'sick']\n",
        "cl_report_csdt = classification_report(y_test, y_csdt_pred, target_names=target_names, digits=4, output_dict=True)\n",
        "#this is dummy#\n",
        "cl_report_csab = classification_report(y_test, y_csdt_pred, target_names=target_names, digits=4, output_dict=True)"
      ],
      "execution_count": 49,
      "outputs": []
    },
    {
      "cell_type": "code",
      "metadata": {
        "id": "Zm7dLuq_lueM"
      },
      "source": [
        "# results from random forest classifier\n",
        "print(cl_report_rf)      # clean results\n",
        "print(cl_report_srf)     # results with smote\n",
        "print(cl_report_sbrf)    # results with borderline smote\n",
        "print(cl_report_strf)    # results with smote after removing tomek links\n",
        "print(cl_report_csrf)    # results with application of cost-sensitive weight balancing\n",
        "# results from decision tree classifier\n",
        "print(cl_report_dt)      # clean results\n",
        "print(cl_report_sdt)     # results with smote\n",
        "print(cl_report_sbdt)    # results with borderline smote\n",
        "print(cl_report_stdt)    # results with smote after removing tomek links\n",
        "print(cl_report_csdt)    # results with application of cost-sensitive weight balancing\n",
        "# results from adaboost classifier\n",
        "print(cl_report_ab)      # clean results\n",
        "print(cl_report_sab)     # results with smote\n",
        "print(cl_report_sbab)    # results with borderline smote\n",
        "print(cl_report_stab)    # results with smote after removing tomek links\n",
        "# result of EasyEnsembleClassifier\n",
        "print(scores)"
      ],
      "execution_count": null,
      "outputs": []
    },
    {
      "cell_type": "code",
      "metadata": {
        "id": "DiRX-coVukPV"
      },
      "source": [
        "k = 0\n",
        "\n",
        "for algorithm in ['rf', 'dt', 'ab']:\n",
        "  for metr in ['precision', 'recall', 'f1-score']:\n",
        "    globals()[f\"{algorithm}_{metr.replace('-', '_')}\"] = empty(shape=(5,2), dtype='object')\n",
        "    for label in ['negative', 'sick']:\n",
        "      for mode in ['', 's', 'sb', 'st', 'cs']:\n",
        "        val = globals()[f\"cl_report_{mode}{algorithm}\"].get(label).get(metr)\n",
        "        row = k % 10 // 5\n",
        "        col = k % 5\n",
        "        globals()[f\"{algorithm}_{metr.replace('-','_')}\"][col][row] = val\n",
        "        k = k + 1\n",
        "    #print(globals()[f\"{algorithm}_{metr}\"])\n",
        "\n",
        "# print(rf_precision)\n",
        "# print(rf_recall)\n",
        "# print(rf_f1_score)\n",
        "# print(dt_precision)\n",
        "# print(dt_recall)\n",
        "# print(dt_f1_score)\n",
        "\n",
        "# for each array, they are as follows:\n",
        "# columns represent classes (negative, sick)\n",
        "# columns represent SMOTE mode used (None, Simple SMOTE, Borderline SMOTE, SMOTE + Tomek Links Removal)\n",
        "\n",
        "# as for perkele ensemble classifier, is shit"
      ],
      "execution_count": null,
      "outputs": []
    },
    {
      "cell_type": "code",
      "metadata": {
        "id": "a8RE1ZMCVm1j",
        "cellView": "form"
      },
      "source": [
        "#@title Plotting cell for SMOTE. Needs changing array names.\n",
        "n_groups = 2\n",
        "fig, ax = plt.subplots(figsize=(9,7.2))\n",
        "index = np.arange(n_groups)\n",
        "bar_width = 0.12\n",
        "opacity = 1\n",
        "\n",
        "rects1 = plt.bar(index, dt_f1_score[0], bar_width,\n",
        "label='No preprocessing')\n",
        "rects2 = plt.bar(index+bar_width, dt_f1_score[1], bar_width,\n",
        "label='SMOTE')\n",
        "rects3 = plt.bar(index+bar_width*2, dt_f1_score[2], bar_width,\n",
        "label='Borderline SMOTE')\n",
        "rects4 = plt.bar(index+bar_width*3, dt_f1_score[3], bar_width,\n",
        "label='SMOTE + Tomek removal')\n",
        "\n",
        "plt.xlabel('Class')\n",
        "plt.ylabel('Metric Score')\n",
        "plt.title('F1 Score by class and preprocessing for Random Forest Classifier')\n",
        "plt.xticks(index + 1.5*bar_width, ('Negative', 'Sick'))\n",
        "plt.legend()\n",
        "\n",
        "for rects in [rects1, rects2, rects3, rects4]:\n",
        "  for p in rects:\n",
        "    height = p.get_height()\n",
        "    ax.annotate('{}'.format(round(height, 4)),\n",
        "        xy=(p.get_x() + p.get_width() / 2, height),\n",
        "        xytext=(0, 3), # 3 points vertical offset\n",
        "        textcoords=\"offset points\",\n",
        "        ha='center', va='bottom')\n",
        "\n",
        "plt.tight_layout()\n",
        "plt.show()"
      ],
      "execution_count": null,
      "outputs": []
    },
    {
      "cell_type": "code",
      "metadata": {
        "id": "i3KCqJfjL721",
        "cellView": "form"
      },
      "source": [
        "#@title Plotting cell for cost-sensitive... Needs changing array names.\n",
        "n_groups = 2\n",
        "fig, ax = plt.subplots(figsize=(9,7.2))\n",
        "index = np.arange(n_groups)\n",
        "bar_width = 0.12\n",
        "opacity = 1\n",
        "\n",
        "rects1 = plt.bar(index, dt_precision[0], bar_width,\n",
        "label='Without balancing')\n",
        "rects2 = plt.bar(index+bar_width, dt_precision[4], bar_width,\n",
        "label='With balancing')\n",
        "\n",
        "plt.xlabel('Class')\n",
        "plt.ylabel('Metric Score')\n",
        "plt.title('Precision by class and preprocessing for Decision Tree on balancing')\n",
        "plt.xticks(index + 0.5*bar_width, ('Negative', 'Sick'))\n",
        "plt.legend()\n",
        "\n",
        "for rects in [rects1, rects2]:\n",
        "  for p in rects:\n",
        "    height = p.get_height()\n",
        "    ax.annotate('{}'.format(round(height, 4)),\n",
        "        xy=(p.get_x() + p.get_width() / 2, height),\n",
        "        xytext=(0, 3), # 3 points vertical offset\n",
        "        textcoords=\"offset points\",\n",
        "        ha='center', va='bottom')\n",
        "\n",
        "plt.tight_layout()\n",
        "plt.show()"
      ],
      "execution_count": null,
      "outputs": []
    },
    {
      "cell_type": "code",
      "metadata": {
        "id": "alOLdlJlyWmp"
      },
      "source": [
        "#length = max(map(len, scores))\n",
        "#scores=array([xi+[None]*(length-len(xi)) for xi in scores])\n",
        "print(scores.T)"
      ],
      "execution_count": null,
      "outputs": []
    },
    {
      "cell_type": "code",
      "metadata": {
        "id": "E5Q-hL5Wx1y6",
        "cellView": "form"
      },
      "source": [
        "#@title Plotting cell for EasyEnsemble.\n",
        "n_groups = 2\n",
        "fig, ax = plt.subplots(figsize=(9,7.2))\n",
        "index = np.arange(n_groups)\n",
        "\n",
        "labels = ['Accuracy','Precision','Recall','F1 Score']\n",
        "\n",
        "points1 = plt.plot([5,10,15,20], scores.T[0], color='red', marker='o')\n",
        "points2 = plt.plot([5,10,15,20], scores.T[1], color='darkgreen', marker='o')\n",
        "points3 = plt.plot([5,10,15,20], scores.T[2], color='blue', marker='o')\n",
        "points4 = plt.plot([5,10,15,20], scores.T[3], color='orange', marker='o')\n",
        "plt.legend(labels)\n",
        "plt.title('Easy Ensemble Classifier Metrics', fontsize=14)\n",
        "plt.xlabel('Number of Estimators', fontsize=14)\n",
        "plt.ylabel('Metric Value', fontsize=14)\n",
        "plt.xticks([5,10,15,20]) # Redefining x-axis labels\n",
        "plt.grid(True)\n",
        "\n",
        "\n",
        "for p in points1:\n",
        "  height = p.get_ydata()\n",
        "  width = p.get_xdata()\n",
        "  for i in range(0,4):\n",
        "    ax.text(width[i], height[i]-0.02, \"%.4f\" %(round(height[i], 4)), ha=\"center\")\n",
        "\n",
        "for points in [points2, points3, points4]:\n",
        "  for p in points:\n",
        "    height = p.get_ydata()\n",
        "    width = p.get_xdata()\n",
        "    for i in range(0,4):\n",
        "      ax.text(width[i], height[i]+0.01, \"%.4f\" %round(height[i], 4), ha=\"center\")\n",
        "\n",
        "plt.show()"
      ],
      "execution_count": null,
      "outputs": []
    }
  ]
}
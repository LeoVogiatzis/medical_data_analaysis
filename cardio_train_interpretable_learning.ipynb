{
  "nbformat": 4,
  "nbformat_minor": 0,
  "metadata": {
    "colab": {
      "name": "cardio_train_interpretable_learning.ipynb",
      "provenance": [],
      "authorship_tag": "ABX9TyO4PkEqrwTav+JPBSCOGlBu",
      "include_colab_link": true
    },
    "kernelspec": {
      "display_name": "Python 3",
      "name": "python3"
    },
    "language_info": {
      "name": "python"
    }
  },
  "cells": [
    {
      "cell_type": "markdown",
      "metadata": {
        "id": "view-in-github",
        "colab_type": "text"
      },
      "source": [
        "<a href=\"https://colab.research.google.com/github/LeoVogiatzis/medical_data_analysis/blob/main/cardio_train_interpretable_learning.ipynb\" target=\"_parent\"><img src=\"https://colab.research.google.com/assets/colab-badge.svg\" alt=\"Open In Colab\"/></a>"
      ]
    },
    {
      "cell_type": "code",
      "metadata": {
        "id": "lanvzHQDUgUB",
        "colab": {
          "base_uri": "https://localhost:8080/"
        },
        "outputId": "a52c0dae-18e5-4ea0-cf1a-6b59e40371c7"
      },
      "source": [
        "from sklearn import metrics\n",
        "from sklearn.preprocessing import MinMaxScaler, StandardScaler \n",
        "from sklearn.metrics import classification_report, precision_recall_curve, f1_score, auc, roc_auc_score, roc_curve, accuracy_score, precision_score, recall_score, confusion_matrix\n",
        "from sklearn.ensemble import RandomForestClassifier\n",
        "from sklearn.naive_bayes import BernoulliNB\n",
        "from sklearn.pipeline import Pipeline\n",
        "from sklearn.model_selection import train_test_split, GridSearchCV\n",
        "from sklearn.linear_model import LogisticRegression\n",
        "from sklearn.model_selection import train_test_split\n",
        "from sklearn.model_selection import cross_val_score\n",
        "\n",
        "from xgboost import XGBClassifier\n",
        "from numpy import loadtxt\n",
        "from xgboost import XGBClassifier\n",
        "\n",
        "import pandas as pd\n",
        "import statistics\n",
        "import numpy as np\n",
        "import matplotlib.pyplot as plt\n",
        "import seaborn as sns\n",
        "!pip install eli5\n",
        "\n",
        "import warnings\n",
        "warnings.simplefilter('ignore')\n",
        "import os#Walking through directores\n",
        "\n",
        "import plotly.graph_objects as go # Generate Graphs\n",
        "from plotly.subplots import make_subplots #To Create Subplots\n",
        "pd.set_option('display.max_columns', None)#Setting Max Columns Display to Max inorder to get glance of all features in dataframe"
      ],
      "execution_count": null,
      "outputs": [
        {
          "output_type": "stream",
          "text": [
            "Collecting eli5\n",
            "\u001b[?25l  Downloading https://files.pythonhosted.org/packages/d1/54/04cab6e1c0ae535bec93f795d8403fdf6caf66fa5a6512263202dbb14ea6/eli5-0.11.0-py2.py3-none-any.whl (106kB)\n",
            "\r\u001b[K     |███                             | 10kB 16.0MB/s eta 0:00:01\r\u001b[K     |██████▏                         | 20kB 22.2MB/s eta 0:00:01\r\u001b[K     |█████████▎                      | 30kB 26.7MB/s eta 0:00:01\r\u001b[K     |████████████▍                   | 40kB 27.9MB/s eta 0:00:01\r\u001b[K     |███████████████▌                | 51kB 28.9MB/s eta 0:00:01\r\u001b[K     |██████████████████▌             | 61kB 30.5MB/s eta 0:00:01\r\u001b[K     |█████████████████████▋          | 71kB 31.3MB/s eta 0:00:01\r\u001b[K     |████████████████████████▊       | 81kB 30.0MB/s eta 0:00:01\r\u001b[K     |███████████████████████████▉    | 92kB 30.8MB/s eta 0:00:01\r\u001b[K     |███████████████████████████████ | 102kB 31.6MB/s eta 0:00:01\r\u001b[K     |████████████████████████████████| 112kB 31.6MB/s \n",
            "\u001b[?25hRequirement already satisfied: six in /usr/local/lib/python3.7/dist-packages (from eli5) (1.15.0)\n",
            "Requirement already satisfied: scipy in /usr/local/lib/python3.7/dist-packages (from eli5) (1.4.1)\n",
            "Requirement already satisfied: scikit-learn>=0.20 in /usr/local/lib/python3.7/dist-packages (from eli5) (0.22.2.post1)\n",
            "Requirement already satisfied: graphviz in /usr/local/lib/python3.7/dist-packages (from eli5) (0.10.1)\n",
            "Requirement already satisfied: numpy>=1.9.0 in /usr/local/lib/python3.7/dist-packages (from eli5) (1.19.5)\n",
            "Requirement already satisfied: attrs>16.0.0 in /usr/local/lib/python3.7/dist-packages (from eli5) (21.2.0)\n",
            "Requirement already satisfied: tabulate>=0.7.7 in /usr/local/lib/python3.7/dist-packages (from eli5) (0.8.9)\n",
            "Requirement already satisfied: jinja2 in /usr/local/lib/python3.7/dist-packages (from eli5) (2.11.3)\n",
            "Requirement already satisfied: joblib>=0.11 in /usr/local/lib/python3.7/dist-packages (from scikit-learn>=0.20->eli5) (1.0.1)\n",
            "Requirement already satisfied: MarkupSafe>=0.23 in /usr/local/lib/python3.7/dist-packages (from jinja2->eli5) (2.0.1)\n",
            "Installing collected packages: eli5\n",
            "Successfully installed eli5-0.11.0\n"
          ],
          "name": "stdout"
        }
      ]
    },
    {
      "cell_type": "code",
      "metadata": {
        "colab": {
          "resources": {
            "http://localhost:8080/nbextensions/google.colab/files.js": {
              "data": "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",
              "ok": true,
              "headers": [
                [
                  "content-type",
                  "application/javascript"
                ]
              ],
              "status": 200,
              "status_text": ""
            }
          },
          "base_uri": "https://localhost:8080/",
          "height": 72
        },
        "id": "RB7QpqXRXPEV",
        "outputId": "ec3b8e84-081a-46cd-9191-39213f49b428"
      },
      "source": [
        "import pandas as pd\n",
        "from google.colab import files\n",
        "uploaded = files.upload()"
      ],
      "execution_count": null,
      "outputs": [
        {
          "output_type": "display_data",
          "data": {
            "text/html": [
              "\n",
              "     <input type=\"file\" id=\"files-824e350e-e188-4cdb-89d6-5b106e35a00b\" name=\"files[]\" multiple disabled\n",
              "        style=\"border:none\" />\n",
              "     <output id=\"result-824e350e-e188-4cdb-89d6-5b106e35a00b\">\n",
              "      Upload widget is only available when the cell has been executed in the\n",
              "      current browser session. Please rerun this cell to enable.\n",
              "      </output>\n",
              "      <script src=\"/nbextensions/google.colab/files.js\"></script> "
            ],
            "text/plain": [
              "<IPython.core.display.HTML object>"
            ]
          },
          "metadata": {
            "tags": []
          }
        },
        {
          "output_type": "stream",
          "text": [
            "Saving cleaned_cardio_train.csv to cleaned_cardio_train.csv\n"
          ],
          "name": "stdout"
        }
      ]
    },
    {
      "cell_type": "code",
      "metadata": {
        "id": "oARZAoLJDZTw"
      },
      "source": [
        "import pandas as pd\n",
        "%matplotlib inline\n",
        "import io\n",
        "data = pd.read_csv('/content/cleaned_cardio_train.csv')\n",
        "#data = pd.read_csv(io.BytesIO(uploaded['cleaned_data_cardio.csv']),sep=';')  "
      ],
      "execution_count": null,
      "outputs": []
    },
    {
      "cell_type": "code",
      "metadata": {
        "colab": {
          "base_uri": "https://localhost:8080/",
          "height": 204
        },
        "id": "bGEv4YQsHEr6",
        "outputId": "df154a26-e65c-4dc3-e5df-b9c74f5aa6f8"
      },
      "source": [
        "data.describe()\n",
        "data.head()"
      ],
      "execution_count": null,
      "outputs": [
        {
          "output_type": "execute_result",
          "data": {
            "text/html": [
              "<div>\n",
              "<style scoped>\n",
              "    .dataframe tbody tr th:only-of-type {\n",
              "        vertical-align: middle;\n",
              "    }\n",
              "\n",
              "    .dataframe tbody tr th {\n",
              "        vertical-align: top;\n",
              "    }\n",
              "\n",
              "    .dataframe thead th {\n",
              "        text-align: right;\n",
              "    }\n",
              "</style>\n",
              "<table border=\"1\" class=\"dataframe\">\n",
              "  <thead>\n",
              "    <tr style=\"text-align: right;\">\n",
              "      <th></th>\n",
              "      <th>Unnamed: 0</th>\n",
              "      <th>age</th>\n",
              "      <th>gender</th>\n",
              "      <th>height</th>\n",
              "      <th>weight</th>\n",
              "      <th>ap_hi</th>\n",
              "      <th>ap_lo</th>\n",
              "      <th>cholesterol</th>\n",
              "      <th>gluc</th>\n",
              "      <th>smoke</th>\n",
              "      <th>alco</th>\n",
              "      <th>active</th>\n",
              "      <th>cardio</th>\n",
              "      <th>bmi</th>\n",
              "      <th>pulse</th>\n",
              "    </tr>\n",
              "  </thead>\n",
              "  <tbody>\n",
              "    <tr>\n",
              "      <th>0</th>\n",
              "      <td>0</td>\n",
              "      <td>50</td>\n",
              "      <td>2</td>\n",
              "      <td>5.123964</td>\n",
              "      <td>4.127134</td>\n",
              "      <td>110</td>\n",
              "      <td>80</td>\n",
              "      <td>1</td>\n",
              "      <td>1</td>\n",
              "      <td>0</td>\n",
              "      <td>0</td>\n",
              "      <td>1</td>\n",
              "      <td>0</td>\n",
              "      <td>21.967120</td>\n",
              "      <td>30.0</td>\n",
              "    </tr>\n",
              "    <tr>\n",
              "      <th>1</th>\n",
              "      <td>1</td>\n",
              "      <td>55</td>\n",
              "      <td>1</td>\n",
              "      <td>5.049856</td>\n",
              "      <td>4.442651</td>\n",
              "      <td>140</td>\n",
              "      <td>90</td>\n",
              "      <td>3</td>\n",
              "      <td>1</td>\n",
              "      <td>0</td>\n",
              "      <td>0</td>\n",
              "      <td>1</td>\n",
              "      <td>1</td>\n",
              "      <td>34.927679</td>\n",
              "      <td>50.0</td>\n",
              "    </tr>\n",
              "    <tr>\n",
              "      <th>2</th>\n",
              "      <td>2</td>\n",
              "      <td>51</td>\n",
              "      <td>1</td>\n",
              "      <td>5.105945</td>\n",
              "      <td>4.158883</td>\n",
              "      <td>130</td>\n",
              "      <td>70</td>\n",
              "      <td>3</td>\n",
              "      <td>1</td>\n",
              "      <td>0</td>\n",
              "      <td>0</td>\n",
              "      <td>0</td>\n",
              "      <td>1</td>\n",
              "      <td>23.507805</td>\n",
              "      <td>60.0</td>\n",
              "    </tr>\n",
              "    <tr>\n",
              "      <th>3</th>\n",
              "      <td>3</td>\n",
              "      <td>48</td>\n",
              "      <td>2</td>\n",
              "      <td>5.129899</td>\n",
              "      <td>4.406719</td>\n",
              "      <td>150</td>\n",
              "      <td>100</td>\n",
              "      <td>1</td>\n",
              "      <td>1</td>\n",
              "      <td>0</td>\n",
              "      <td>0</td>\n",
              "      <td>1</td>\n",
              "      <td>1</td>\n",
              "      <td>28.710479</td>\n",
              "      <td>50.0</td>\n",
              "    </tr>\n",
              "    <tr>\n",
              "      <th>4</th>\n",
              "      <td>4</td>\n",
              "      <td>47</td>\n",
              "      <td>1</td>\n",
              "      <td>5.049856</td>\n",
              "      <td>4.025352</td>\n",
              "      <td>100</td>\n",
              "      <td>60</td>\n",
              "      <td>1</td>\n",
              "      <td>1</td>\n",
              "      <td>0</td>\n",
              "      <td>0</td>\n",
              "      <td>0</td>\n",
              "      <td>0</td>\n",
              "      <td>23.011177</td>\n",
              "      <td>40.0</td>\n",
              "    </tr>\n",
              "  </tbody>\n",
              "</table>\n",
              "</div>"
            ],
            "text/plain": [
              "   Unnamed: 0  age  gender    height    weight  ap_hi  ap_lo  cholesterol  \\\n",
              "0           0   50       2  5.123964  4.127134    110     80            1   \n",
              "1           1   55       1  5.049856  4.442651    140     90            3   \n",
              "2           2   51       1  5.105945  4.158883    130     70            3   \n",
              "3           3   48       2  5.129899  4.406719    150    100            1   \n",
              "4           4   47       1  5.049856  4.025352    100     60            1   \n",
              "\n",
              "   gluc  smoke  alco  active  cardio        bmi  pulse  \n",
              "0     1      0     0       1       0  21.967120   30.0  \n",
              "1     1      0     0       1       1  34.927679   50.0  \n",
              "2     1      0     0       0       1  23.507805   60.0  \n",
              "3     1      0     0       1       1  28.710479   50.0  \n",
              "4     1      0     0       0       0  23.011177   40.0  "
            ]
          },
          "metadata": {
            "tags": []
          },
          "execution_count": 4
        }
      ]
    },
    {
      "cell_type": "code",
      "metadata": {
        "colab": {
          "base_uri": "https://localhost:8080/"
        },
        "id": "oPxjpKXwD2qj",
        "outputId": "5b500994-d41f-4662-f28a-a343974d29d3"
      },
      "source": [
        "print(data.head())\n",
        "# Checking for nan's\n",
        "data.isnull().any()\n",
        "data.drop('Unnamed: 0', axis=1, inplace=True)"
      ],
      "execution_count": null,
      "outputs": [
        {
          "output_type": "stream",
          "text": [
            "   Unnamed: 0  age  gender    height    weight  ap_hi  ap_lo  cholesterol  \\\n",
            "0           0   50       2  5.123964  4.127134    110     80            1   \n",
            "1           1   55       1  5.049856  4.442651    140     90            3   \n",
            "2           2   51       1  5.105945  4.158883    130     70            3   \n",
            "3           3   48       2  5.129899  4.406719    150    100            1   \n",
            "4           4   47       1  5.049856  4.025352    100     60            1   \n",
            "\n",
            "   gluc  smoke  alco  active  cardio        bmi  pulse  \n",
            "0     1      0     0       1       0  21.967120   30.0  \n",
            "1     1      0     0       1       1  34.927679   50.0  \n",
            "2     1      0     0       0       1  23.507805   60.0  \n",
            "3     1      0     0       1       1  28.710479   50.0  \n",
            "4     1      0     0       0       0  23.011177   40.0  \n"
          ],
          "name": "stdout"
        }
      ]
    },
    {
      "cell_type": "code",
      "metadata": {
        "colab": {
          "base_uri": "https://localhost:8080/",
          "height": 1000
        },
        "id": "jHHCUj3gIjOW",
        "outputId": "548a117d-9b43-4b51-833b-0f87ba3f6ae5"
      },
      "source": [
        "corr_df = data.copy()\n",
        "plt.figure(figsize=(20,12))\n",
        "sns.heatmap(corr_df.corr(),cmap=plt.cm.Reds,annot=True)\n",
        "plt.title('Heatmap displaying the relationship between\\nthe features of the data',\n",
        "         fontsize=13)\n",
        "plt.show()\n",
        "data\n"
      ],
      "execution_count": null,
      "outputs": [
        {
          "output_type": "display_data",
          "data": {
            "image/png": "[encoded data removed]",
            "text/plain": [
              "<Figure size 1440x864 with 2 Axes>"
            ]
          },
          "metadata": {
            "tags": [],
            "needs_background": "light"
          }
        },
        {
          "output_type": "execute_result",
          "data": {
            "text/html": [
              "<div>\n",
              "<style scoped>\n",
              "    .dataframe tbody tr th:only-of-type {\n",
              "        vertical-align: middle;\n",
              "    }\n",
              "\n",
              "    .dataframe tbody tr th {\n",
              "        vertical-align: top;\n",
              "    }\n",
              "\n",
              "    .dataframe thead th {\n",
              "        text-align: right;\n",
              "    }\n",
              "</style>\n",
              "<table border=\"1\" class=\"dataframe\">\n",
              "  <thead>\n",
              "    <tr style=\"text-align: right;\">\n",
              "      <th></th>\n",
              "      <th>age</th>\n",
              "      <th>gender</th>\n",
              "      <th>height</th>\n",
              "      <th>weight</th>\n",
              "      <th>ap_hi</th>\n",
              "      <th>ap_lo</th>\n",
              "      <th>cholesterol</th>\n",
              "      <th>gluc</th>\n",
              "      <th>smoke</th>\n",
              "      <th>alco</th>\n",
              "      <th>active</th>\n",
              "      <th>cardio</th>\n",
              "      <th>bmi</th>\n",
              "      <th>pulse</th>\n",
              "    </tr>\n",
              "  </thead>\n",
              "  <tbody>\n",
              "    <tr>\n",
              "      <th>0</th>\n",
              "      <td>50</td>\n",
              "      <td>2</td>\n",
              "      <td>5.123964</td>\n",
              "      <td>4.127134</td>\n",
              "      <td>110</td>\n",
              "      <td>80</td>\n",
              "      <td>1</td>\n",
              "      <td>1</td>\n",
              "      <td>0</td>\n",
              "      <td>0</td>\n",
              "      <td>1</td>\n",
              "      <td>0</td>\n",
              "      <td>21.967120</td>\n",
              "      <td>30.0</td>\n",
              "    </tr>\n",
              "    <tr>\n",
              "      <th>1</th>\n",
              "      <td>55</td>\n",
              "      <td>1</td>\n",
              "      <td>5.049856</td>\n",
              "      <td>4.442651</td>\n",
              "      <td>140</td>\n",
              "      <td>90</td>\n",
              "      <td>3</td>\n",
              "      <td>1</td>\n",
              "      <td>0</td>\n",
              "      <td>0</td>\n",
              "      <td>1</td>\n",
              "      <td>1</td>\n",
              "      <td>34.927679</td>\n",
              "      <td>50.0</td>\n",
              "    </tr>\n",
              "    <tr>\n",
              "      <th>2</th>\n",
              "      <td>51</td>\n",
              "      <td>1</td>\n",
              "      <td>5.105945</td>\n",
              "      <td>4.158883</td>\n",
              "      <td>130</td>\n",
              "      <td>70</td>\n",
              "      <td>3</td>\n",
              "      <td>1</td>\n",
              "      <td>0</td>\n",
              "      <td>0</td>\n",
              "      <td>0</td>\n",
              "      <td>1</td>\n",
              "      <td>23.507805</td>\n",
              "      <td>60.0</td>\n",
              "    </tr>\n",
              "    <tr>\n",
              "      <th>3</th>\n",
              "      <td>48</td>\n",
              "      <td>2</td>\n",
              "      <td>5.129899</td>\n",
              "      <td>4.406719</td>\n",
              "      <td>150</td>\n",
              "      <td>100</td>\n",
              "      <td>1</td>\n",
              "      <td>1</td>\n",
              "      <td>0</td>\n",
              "      <td>0</td>\n",
              "      <td>1</td>\n",
              "      <td>1</td>\n",
              "      <td>28.710479</td>\n",
              "      <td>50.0</td>\n",
              "    </tr>\n",
              "    <tr>\n",
              "      <th>4</th>\n",
              "      <td>47</td>\n",
              "      <td>1</td>\n",
              "      <td>5.049856</td>\n",
              "      <td>4.025352</td>\n",
              "      <td>100</td>\n",
              "      <td>60</td>\n",
              "      <td>1</td>\n",
              "      <td>1</td>\n",
              "      <td>0</td>\n",
              "      <td>0</td>\n",
              "      <td>0</td>\n",
              "      <td>0</td>\n",
              "      <td>23.011177</td>\n",
              "      <td>40.0</td>\n",
              "    </tr>\n",
              "    <tr>\n",
              "      <th>...</th>\n",
              "      <td>...</td>\n",
              "      <td>...</td>\n",
              "      <td>...</td>\n",
              "      <td>...</td>\n",
              "      <td>...</td>\n",
              "      <td>...</td>\n",
              "      <td>...</td>\n",
              "      <td>...</td>\n",
              "      <td>...</td>\n",
              "      <td>...</td>\n",
              "      <td>...</td>\n",
              "      <td>...</td>\n",
              "      <td>...</td>\n",
              "      <td>...</td>\n",
              "    </tr>\n",
              "    <tr>\n",
              "      <th>63933</th>\n",
              "      <td>53</td>\n",
              "      <td>1</td>\n",
              "      <td>5.147494</td>\n",
              "      <td>4.248495</td>\n",
              "      <td>130</td>\n",
              "      <td>90</td>\n",
              "      <td>1</td>\n",
              "      <td>1</td>\n",
              "      <td>0</td>\n",
              "      <td>0</td>\n",
              "      <td>1</td>\n",
              "      <td>1</td>\n",
              "      <td>23.661439</td>\n",
              "      <td>40.0</td>\n",
              "    </tr>\n",
              "    <tr>\n",
              "      <th>63934</th>\n",
              "      <td>57</td>\n",
              "      <td>1</td>\n",
              "      <td>5.105945</td>\n",
              "      <td>4.382027</td>\n",
              "      <td>150</td>\n",
              "      <td>80</td>\n",
              "      <td>1</td>\n",
              "      <td>1</td>\n",
              "      <td>0</td>\n",
              "      <td>0</td>\n",
              "      <td>1</td>\n",
              "      <td>1</td>\n",
              "      <td>29.384757</td>\n",
              "      <td>70.0</td>\n",
              "    </tr>\n",
              "    <tr>\n",
              "      <th>63935</th>\n",
              "      <td>52</td>\n",
              "      <td>2</td>\n",
              "      <td>5.209486</td>\n",
              "      <td>4.653960</td>\n",
              "      <td>180</td>\n",
              "      <td>90</td>\n",
              "      <td>3</td>\n",
              "      <td>1</td>\n",
              "      <td>0</td>\n",
              "      <td>1</td>\n",
              "      <td>0</td>\n",
              "      <td>1</td>\n",
              "      <td>31.353579</td>\n",
              "      <td>90.0</td>\n",
              "    </tr>\n",
              "    <tr>\n",
              "      <th>63936</th>\n",
              "      <td>61</td>\n",
              "      <td>1</td>\n",
              "      <td>5.093750</td>\n",
              "      <td>4.276666</td>\n",
              "      <td>135</td>\n",
              "      <td>80</td>\n",
              "      <td>1</td>\n",
              "      <td>2</td>\n",
              "      <td>0</td>\n",
              "      <td>0</td>\n",
              "      <td>0</td>\n",
              "      <td>1</td>\n",
              "      <td>27.099251</td>\n",
              "      <td>55.0</td>\n",
              "    </tr>\n",
              "    <tr>\n",
              "      <th>63937</th>\n",
              "      <td>56</td>\n",
              "      <td>1</td>\n",
              "      <td>5.135798</td>\n",
              "      <td>4.276666</td>\n",
              "      <td>120</td>\n",
              "      <td>80</td>\n",
              "      <td>2</td>\n",
              "      <td>1</td>\n",
              "      <td>0</td>\n",
              "      <td>0</td>\n",
              "      <td>1</td>\n",
              "      <td>0</td>\n",
              "      <td>24.913495</td>\n",
              "      <td>40.0</td>\n",
              "    </tr>\n",
              "  </tbody>\n",
              "</table>\n",
              "<p>63938 rows × 14 columns</p>\n",
              "</div>"
            ],
            "text/plain": [
              "       age  gender    height    weight  ap_hi  ap_lo  cholesterol  gluc  \\\n",
              "0       50       2  5.123964  4.127134    110     80            1     1   \n",
              "1       55       1  5.049856  4.442651    140     90            3     1   \n",
              "2       51       1  5.105945  4.158883    130     70            3     1   \n",
              "3       48       2  5.129899  4.406719    150    100            1     1   \n",
              "4       47       1  5.049856  4.025352    100     60            1     1   \n",
              "...    ...     ...       ...       ...    ...    ...          ...   ...   \n",
              "63933   53       1  5.147494  4.248495    130     90            1     1   \n",
              "63934   57       1  5.105945  4.382027    150     80            1     1   \n",
              "63935   52       2  5.209486  4.653960    180     90            3     1   \n",
              "63936   61       1  5.093750  4.276666    135     80            1     2   \n",
              "63937   56       1  5.135798  4.276666    120     80            2     1   \n",
              "\n",
              "       smoke  alco  active  cardio        bmi  pulse  \n",
              "0          0     0       1       0  21.967120   30.0  \n",
              "1          0     0       1       1  34.927679   50.0  \n",
              "2          0     0       0       1  23.507805   60.0  \n",
              "3          0     0       1       1  28.710479   50.0  \n",
              "4          0     0       0       0  23.011177   40.0  \n",
              "...      ...   ...     ...     ...        ...    ...  \n",
              "63933      0     0       1       1  23.661439   40.0  \n",
              "63934      0     0       1       1  29.384757   70.0  \n",
              "63935      0     1       0       1  31.353579   90.0  \n",
              "63936      0     0       0       1  27.099251   55.0  \n",
              "63937      0     0       1       0  24.913495   40.0  \n",
              "\n",
              "[63938 rows x 14 columns]"
            ]
          },
          "metadata": {
            "tags": []
          },
          "execution_count": 6
        }
      ]
    },
    {
      "cell_type": "code",
      "metadata": {
        "id": "0RPxeyptEebB"
      },
      "source": [
        "#X,y = data.drop('cardio', axis=1), data.cardio\n",
        "# split data into X and y\n",
        "x_train, x_test, y_train, y_test = train_test_split(data.drop('cardio', axis=1),\n",
        "                                                        data['cardio'], test_size=0.2)"
      ],
      "execution_count": null,
      "outputs": []
    },
    {
      "cell_type": "code",
      "metadata": {
        "colab": {
          "base_uri": "https://localhost:8080/"
        },
        "id": "Li7co9EaHbQn",
        "outputId": "d0a385be-258a-42ab-adf4-6882df2f1091"
      },
      "source": [
        "print(f'the shape of x_train is {x_train.shape}')\n",
        "print(f'the shape of y_train is {y_train.shape}')\n",
        "print(f'the shape of x_test is {x_test.shape}')\n",
        "print(f'the shape of y_train is {y_test.shape}')"
      ],
      "execution_count": null,
      "outputs": [
        {
          "output_type": "stream",
          "text": [
            "the shape of x_train is (51150, 13)\n",
            "the shape of y_train is (51150,)\n",
            "the shape of x_test is (12788, 13)\n",
            "the shape of y_train is (12788,)\n"
          ],
          "name": "stdout"
        }
      ]
    },
    {
      "cell_type": "code",
      "metadata": {
        "colab": {
          "base_uri": "https://localhost:8080/"
        },
        "id": "Ie3d02etIBad",
        "outputId": "87bfe87c-a004-487a-d54a-74a5011b5adb"
      },
      "source": [
        "from sklearn.tree import DecisionTreeClassifier\n",
        "from sklearn.metrics import make_scorer\n",
        "metrics = {'Accuracy': make_scorer(accuracy_score),\n",
        "           'Precision': make_scorer(precision_score),\n",
        "           'Recall': make_scorer(recall_score),\n",
        "           'F1': make_scorer(f1_score),\n",
        "}\n",
        "\n",
        "parameters = {'max_depth': np.arange(2,8), 'criterion':['gini', 'entropy']}\n",
        "clfr = DecisionTreeClassifier()\n",
        "grid = GridSearchCV(clfr, param_grid=parameters, cv=8, scoring=metrics, refit='Accuracy',return_train_score=True, verbose=1, n_jobs=-1)\n",
        "grid.fit(x_train,y_train)\n",
        "print('The parameters combination that would give best accuracy is : ')\n",
        "print(grid.best_params_)\n",
        "print('The best accuracy achieved after parameter tuning via grid search is : ', grid.best_score_)\n",
        "# model = XGBClassifier()\n",
        "# model.fit(x_train, y_train)"
      ],
      "execution_count": null,
      "outputs": [
        {
          "output_type": "stream",
          "text": [
            "Fitting 8 folds for each of 12 candidates, totalling 96 fits\n"
          ],
          "name": "stdout"
        },
        {
          "output_type": "stream",
          "text": [
            "[Parallel(n_jobs=-1)]: Using backend LokyBackend with 2 concurrent workers.\n",
            "[Parallel(n_jobs=-1)]: Done  46 tasks      | elapsed:    7.2s\n",
            "[Parallel(n_jobs=-1)]: Done  96 out of  96 | elapsed:   13.9s finished\n"
          ],
          "name": "stderr"
        },
        {
          "output_type": "stream",
          "text": [
            "The parameters combination that would give best accuracy is : \n",
            "{'criterion': 'gini', 'max_depth': 7}\n",
            "The best accuracy achieved after parameter tuning via grid search is :  0.7260019468969741\n"
          ],
          "name": "stdout"
        }
      ]
    },
    {
      "cell_type": "code",
      "metadata": {
        "colab": {
          "base_uri": "https://localhost:8080/"
        },
        "id": "XKdv20fDtsNn",
        "outputId": "5dff67ac-6d3e-49a1-b503-3aa70aca97e0"
      },
      "source": [
        "from pprint import pprint\n",
        "pprint(grid.cv_results_)"
      ],
      "execution_count": null,
      "outputs": [
        {
          "output_type": "stream",
          "text": [
            "{'mean_fit_time': array([0.05817559, 0.07949764, 0.10114172, 0.12271577, 0.14420506,\n",
            "       0.15819117, 0.06015411, 0.07992768, 0.10678795, 0.12715206,\n",
            "       0.14803436, 0.17124876]),\n",
            " 'mean_score_time': array([0.01868808, 0.01920822, 0.0187754 , 0.01906785, 0.01881182,\n",
            "       0.01975396, 0.01885235, 0.01873896, 0.01917225, 0.0184443 ,\n",
            "       0.01857957, 0.01882657]),\n",
            " 'mean_test_Accuracy': array([0.70938414, 0.72140744, 0.72598235, 0.72555229, 0.72582597,\n",
            "       0.72600195, 0.70938414, 0.72140744, 0.72592369, 0.72557183,\n",
            "       0.72565001, 0.72578687]),\n",
            " 'mean_test_F1': array([0.6856729 , 0.71140956, 0.72870923, 0.71504712, 0.72333902,\n",
            "       0.72524373, 0.6856729 , 0.71140956, 0.72879199, 0.71523936,\n",
            "       0.72417708, 0.72462395]),\n",
            " 'mean_test_Precision': array([0.75912633, 0.74916269, 0.73158661, 0.75514372, 0.74067828,\n",
            "       0.73762668, 0.75912633, 0.74916269, 0.73128997, 0.75483181,\n",
            "       0.73879265, 0.73814363]),\n",
            " 'mean_test_Recall': array([0.62521154, 0.67730915, 0.72589809, 0.67958573, 0.70731113,\n",
            "       0.71344198, 0.62521154, 0.67730915, 0.72636085, 0.68016419,\n",
            "       0.71085897, 0.71170704]),\n",
            " 'mean_train_Accuracy': array([0.70938416, 0.72140762, 0.7259824 , 0.72803519, 0.731652  ,\n",
            "       0.73460969, 0.70938416, 0.72140762, 0.72596844, 0.72796257,\n",
            "       0.73087837, 0.73369362]),\n",
            " 'mean_train_F1': array([0.68566965, 0.71140993, 0.72870859, 0.71757119, 0.72900968,\n",
            "       0.73406869, 0.68566965, 0.71140993, 0.72884847, 0.71772368,\n",
            "       0.72925534, 0.73268773]),\n",
            " 'mean_train_Precision': array([0.75907226, 0.74912641, 0.73154144, 0.7579408 , 0.74698145,\n",
            "       0.74605413, 0.75907226, 0.74912641, 0.73126494, 0.75741083,\n",
            "       0.7443618 , 0.74599666]),\n",
            " 'mean_train_Recall': array([0.62521208, 0.67730987, 0.7258985 , 0.6817995 , 0.7121757 ,\n",
            "       0.72250506, 0.62521208, 0.67730987, 0.72644939, 0.6824826 ,\n",
            "       0.71521664, 0.71994336]),\n",
            " 'param_criterion': masked_array(data=['gini', 'gini', 'gini', 'gini', 'gini', 'gini',\n",
            "                   'entropy', 'entropy', 'entropy', 'entropy', 'entropy',\n",
            "                   'entropy'],\n",
            "             mask=[False, False, False, False, False, False, False, False,\n",
            "                   False, False, False, False],\n",
            "       fill_value='?',\n",
            "            dtype=object),\n",
            " 'param_max_depth': masked_array(data=[2, 3, 4, 5, 6, 7, 2, 3, 4, 5, 6, 7],\n",
            "             mask=[False, False, False, False, False, False, False, False,\n",
            "                   False, False, False, False],\n",
            "       fill_value='?',\n",
            "            dtype=object),\n",
            " 'params': [{'criterion': 'gini', 'max_depth': 2},\n",
            "            {'criterion': 'gini', 'max_depth': 3},\n",
            "            {'criterion': 'gini', 'max_depth': 4},\n",
            "            {'criterion': 'gini', 'max_depth': 5},\n",
            "            {'criterion': 'gini', 'max_depth': 6},\n",
            "            {'criterion': 'gini', 'max_depth': 7},\n",
            "            {'criterion': 'entropy', 'max_depth': 2},\n",
            "            {'criterion': 'entropy', 'max_depth': 3},\n",
            "            {'criterion': 'entropy', 'max_depth': 4},\n",
            "            {'criterion': 'entropy', 'max_depth': 5},\n",
            "            {'criterion': 'entropy', 'max_depth': 6},\n",
            "            {'criterion': 'entropy', 'max_depth': 7}],\n",
            " 'rank_test_Accuracy': array([11,  9,  2,  8,  4,  1, 11,  9,  3,  7,  6,  5], dtype=int32),\n",
            " 'rank_test_F1': array([11,  9,  2,  8,  6,  3, 11,  9,  1,  7,  5,  4], dtype=int32),\n",
            " 'rank_test_Precision': array([ 1,  5, 11,  3,  7, 10,  1,  5, 12,  4,  8,  9], dtype=int32),\n",
            " 'rank_test_Recall': array([11,  9,  2,  8,  6,  3, 11,  9,  1,  7,  5,  4], dtype=int32),\n",
            " 'split0_test_Accuracy': array([0.70769471, 0.71911167, 0.72286519, 0.72036284, 0.72020644,\n",
            "       0.72255239, 0.70769471, 0.71911167, 0.72286519, 0.72083203,\n",
            "       0.72005005, 0.72286519]),\n",
            " 'split0_test_F1': array([0.6816556 , 0.70768229, 0.72475924, 0.70397351, 0.71688558,\n",
            "       0.71921494, 0.6816556 , 0.70768229, 0.72475924, 0.7049099 ,\n",
            "       0.71784363, 0.7197976 ]),\n",
            " 'split0_test_Precision': array([0.7608365 , 0.74888047, 0.72974664, 0.75955698, 0.73586745,\n",
            "       0.73838154, 0.7608365 , 0.74888047, 0.72974664, 0.75925926,\n",
            "       0.73380599, 0.73824197]),\n",
            " 'split0_test_Recall': array([0.61740204, 0.67078062, 0.71983956, 0.65597038, 0.69885838,\n",
            "       0.7010182 , 0.61740204, 0.67078062, 0.71983956, 0.65782166,\n",
            "       0.70256094, 0.70225239]),\n",
            " 'split0_train_Accuracy': array([0.70962553, 0.72173563, 0.72642774, 0.72846099, 0.73286263,\n",
            "       0.73538743, 0.70962553, 0.72173563, 0.72642774, 0.72810349,\n",
            "       0.73237108, 0.73476182]),\n",
            " 'split0_train_F1': array([0.68623853, 0.71193968, 0.72927077, 0.7128783 , 0.73109622,\n",
            "       0.73334384, 0.68623853, 0.71193968, 0.72927077, 0.71306972,\n",
            "       0.73186784, 0.73296592]),\n",
            " 'split0_train_Precision': array([0.75882322, 0.7491603 , 0.73179499, 0.76833367, 0.74654357,\n",
            "       0.74970076, 0.75882322, 0.7491603 , 0.73179499, 0.76678499,\n",
            "       0.74368773, 0.74857563]),\n",
            " 'split0_train_Recall': array([0.62632762, 0.67824247, 0.72676392, 0.66488916, 0.71627518,\n",
            "       0.71768543, 0.62632762, 0.67824247, 0.72676392, 0.66638755,\n",
            "       0.72041779, 0.71799392]),\n",
            " 'split1_test_Accuracy': array([0.70253363, 0.7175477 , 0.72380357, 0.72458555, 0.72114482,\n",
            "       0.72161401, 0.70253363, 0.7175477 , 0.72380357, 0.72458555,\n",
            "       0.72349077, 0.72145762]),\n",
            " 'split1_test_F1': array([0.67882472, 0.70767239, 0.72654072, 0.72744157, 0.71916837,\n",
            "       0.72117794, 0.67882472, 0.70767239, 0.72654072, 0.72744157,\n",
            "       0.7266543 , 0.71966   ]),\n",
            " 'split1_test_Precision': array([0.74972025, 0.7442969 , 0.72925085, 0.72981366, 0.73455598,\n",
            "       0.73242125, 0.74972025, 0.7442969 , 0.72925085, 0.72981366,\n",
            "       0.72823055, 0.73457584]),\n",
            " 'split1_test_Recall': array([0.62017896, 0.67448318, 0.72385066, 0.72508485, 0.70441222,\n",
            "       0.71027461, 0.62017896, 0.67448318, 0.72385066, 0.72508485,\n",
            "       0.72508485, 0.70533786]),\n",
            " 'split1_train_Accuracy': array([0.71036286, 0.72195907, 0.72629368, 0.72714273, 0.73234874,\n",
            "       0.73489588, 0.71036286, 0.72195907, 0.72629368, 0.72714273,\n",
            "       0.73087407, 0.73326481]),\n",
            " 'split1_train_F1': array([0.68664942, 0.71194444, 0.72901827, 0.72988277, 0.73013584,\n",
            "       0.73390298, 0.68664942, 0.71194444, 0.72901827, 0.72988277,\n",
            "       0.7335118 , 0.73115035]),\n",
            " 'split1_train_Precision': array([0.76041332, 0.74981715, 0.73186764, 0.73267019, 0.74684303,\n",
            "       0.74719152, 0.76041332, 0.74981715, 0.73186764, 0.73267019,\n",
            "       0.73649369, 0.74761664]),\n",
            " 'split1_train_Recall': array([0.62593099, 0.67771363, 0.726191  , 0.72711648, 0.7141598 ,\n",
            "       0.72107884, 0.62593099, 0.67771363, 0.726191  , 0.72711648,\n",
            "       0.73055396, 0.71539377]),\n",
            " 'split2_test_Accuracy': array([0.7177041 , 0.72912105, 0.72630591, 0.72536753, 0.72270879,\n",
            "       0.72333438, 0.7177041 , 0.72912105, 0.72630591, 0.72536753,\n",
            "       0.7222396 , 0.72489834]),\n",
            " 'split2_test_F1': array([0.69401593, 0.71791531, 0.72673329, 0.70956004, 0.71231543,\n",
            "       0.71763767, 0.69401593, 0.71791531, 0.72673329, 0.70956004,\n",
            "       0.71168831, 0.72074933]),\n",
            " 'split2_test_Precision': array([0.77041776, 0.7605245 , 0.73592663, 0.7649786 , 0.75145498,\n",
            "       0.74363215, 0.77041776, 0.7605245 , 0.73592663, 0.7649786 ,\n",
            "       0.75119945, 0.74255806]),\n",
            " 'split2_test_Recall': array([0.63140037, 0.67982727, 0.71776681, 0.66162862, 0.6770512 ,\n",
            "       0.69339914, 0.63140037, 0.67982727, 0.71776681, 0.66162862,\n",
            "       0.67612585, 0.70018507]),\n",
            " 'split2_train_Accuracy': array([0.70819555, 0.72030566, 0.72593619, 0.72917598, 0.73116454,\n",
            "       0.73494057, 0.70819555, 0.72030566, 0.72593619, 0.72917598,\n",
            "       0.73125391, 0.73451604]),\n",
            " 'split2_train_F1': array([0.68448009, 0.71048615, 0.72898807, 0.71531578, 0.72215038,\n",
            "       0.7325563 , 0.68448009, 0.71048615, 0.72898807, 0.71531578,\n",
            "       0.72219143, 0.73316865]),\n",
            " 'split2_train_Precision': array([0.7574591 , 0.74751801, 0.73092601, 0.76572635, 0.75851363,\n",
            "       0.74985   , 0.7574591 , 0.74751801, 0.73092601, 0.76572635,\n",
            "       0.75871106, 0.7474359 ]),\n",
            " 'split2_train_Recall': array([0.6243279 , 0.6769502 , 0.72706038, 0.67113266, 0.68911415,\n",
            "       0.71604231, 0.6243279 , 0.6769502 , 0.72706038, 0.67113266,\n",
            "       0.689026  , 0.71943587]),\n",
            " 'split3_test_Accuracy': array([0.71582734, 0.72474195, 0.73068502, 0.72786988, 0.73396935,\n",
            "       0.73350016, 0.71582734, 0.72474195, 0.73068502, 0.72740069,\n",
            "       0.73240538, 0.73115421]),\n",
            " 'split3_test_F1': array([0.69322978, 0.71548658, 0.73466872, 0.7139099 , 0.73591057,\n",
            "       0.73523928, 0.69322978, 0.71548658, 0.73507692, 0.7137461 ,\n",
            "       0.73607898, 0.73060649]),\n",
            " 'split3_test_Precision': array([0.76575905, 0.75169837, 0.73399015, 0.76443662, 0.74085652,\n",
            "       0.74076393, 0.76575905, 0.75169837, 0.73327195, 0.76325957,\n",
            "       0.73619253, 0.74259318]),\n",
            " 'split3_test_Recall': array([0.63325108, 0.68260333, 0.73534855, 0.66964837, 0.73103023,\n",
            "       0.72979642, 0.63325108, 0.68260333, 0.73689081, 0.67026527,\n",
            "       0.73596545, 0.71900062]),\n",
            " 'split3_train_Accuracy': array([0.70846367, 0.72093127, 0.72531057, 0.72671821, 0.73089642,\n",
            "       0.73355528, 0.70846367, 0.72093127, 0.7252212 , 0.72653946,\n",
            "       0.72998034, 0.73290732]),\n",
            " 'split3_train_F1': array([0.68458712, 0.71082608, 0.7278523 , 0.71254319, 0.73233176,\n",
            "       0.73507653, 0.68458712, 0.71082608, 0.72840106, 0.71294885,\n",
            "       0.73348771, 0.73172045]),\n",
            " 'split3_train_Precision': array([0.75811115, 0.74875622, 0.73118662, 0.76333149, 0.73863534,\n",
            "       0.74111903, 0.75811115, 0.74875622, 0.73001328, 0.76196922,\n",
            "       0.73405429, 0.74547284]),\n",
            " 'split3_train_Recall': array([0.62406346, 0.67655355, 0.72454826, 0.66809167, 0.72613486,\n",
            "       0.72913178, 0.62406346, 0.67655355, 0.72679595, 0.66985456,\n",
            "       0.73292199, 0.71846628]),\n",
            " 'split4_test_Accuracy': array([0.71097904, 0.72755708, 0.73475133, 0.73287457, 0.73365655,\n",
            "       0.73271817, 0.71097904, 0.72755708, 0.73475133, 0.73350016,\n",
            "       0.73365655, 0.73334376]),\n",
            " 'split4_test_F1': array([0.6861413 , 0.71757458, 0.73631841, 0.72137031, 0.72429982,\n",
            "       0.73267636, 0.6861413 , 0.71757458, 0.73631841, 0.72238514,\n",
            "       0.72447824, 0.73355212]),\n",
            " 'split4_test_Precision': array([0.76341648, 0.75632262, 0.74231975, 0.76558172, 0.76218058,\n",
            "       0.74325611, 0.76341648, 0.75632262, 0.74231975, 0.76553867,\n",
            "       0.76182375, 0.7434273 ]),\n",
            " 'split4_test_Recall': array([0.62307218, 0.68260333, 0.73041333, 0.68198643, 0.69000617,\n",
            "       0.72239358, 0.62307218, 0.68260333, 0.73041333, 0.68383714,\n",
            "       0.69062307, 0.72393584]),\n",
            " 'split4_train_Accuracy': array([0.70915631, 0.72052909, 0.72472965, 0.72705336, 0.72995799,\n",
            "       0.73261686, 0.70915631, 0.72052909, 0.72472965, 0.72698633,\n",
            "       0.72946644, 0.73203593]),\n",
            " 'split4_train_F1': array([0.68560249, 0.71052997, 0.72762646, 0.71643454, 0.72125098,\n",
            "       0.73388334, 0.68560249, 0.71052997, 0.72762646, 0.71667401,\n",
            "       0.72116802, 0.73342373]),\n",
            " 'split4_train_Precision': array([0.75845669, 0.74809942, 0.73001508, 0.75684159, 0.75653184,\n",
            "       0.74065263, 0.75845669, 0.74809942, 0.73001508, 0.75617752,\n",
            "       0.75518472, 0.73985381]),\n",
            " 'split4_train_Recall': array([0.62551785, 0.67655355, 0.72525342, 0.6801234 , 0.68911415,\n",
            "       0.72723667, 0.62551785, 0.67655355, 0.72525342, 0.68109299,\n",
            "       0.69008374, 0.72710445]),\n",
            " 'split5_test_Accuracy': array([0.70284642, 0.71989365, 0.72020644, 0.722396  , 0.72474195,\n",
            "       0.72270879, 0.70284642, 0.71989365, 0.72020644, 0.72255239,\n",
            "       0.72380357, 0.722396  ]),\n",
            " 'split5_test_F1': array([0.68163539, 0.71210416, 0.72590777, 0.71531676, 0.73137973,\n",
            "       0.7276916 , 0.68163539, 0.71210416, 0.72590777, 0.7152488 ,\n",
            "       0.7325053 , 0.72364939]),\n",
            " 'split5_test_Precision': array([0.7461482 , 0.7435381 , 0.72115677, 0.74507183, 0.72386707,\n",
            "       0.72468645, 0.7461482 , 0.7435381 , 0.72115677, 0.74564926,\n",
            "       0.71964286, 0.73058787]),\n",
            " 'split5_test_Recall': array([0.6273905 , 0.68322023, 0.73072178, 0.68784701, 0.73904997,\n",
            "       0.73072178, 0.6273905 , 0.68322023, 0.73072178, 0.6872301 ,\n",
            "       0.7458359 , 0.71684146]),\n",
            " 'split5_train_Accuracy': array([0.71031817, 0.72162392, 0.72680758, 0.72872911, 0.73109751,\n",
            "       0.73473948, 0.71031817, 0.72162392, 0.72680758, 0.72913129,\n",
            "       0.73018143, 0.73389043]),\n",
            " 'split5_train_F1': array([0.68625221, 0.71130987, 0.72911359, 0.71759205, 0.73254961,\n",
            "       0.73530723, 0.68625221, 0.71130987, 0.72911359, 0.71785324,\n",
            "       0.73378599, 0.73115124]),\n",
            " 'split5_train_Precision': array([0.76096173, 0.74993893, 0.7330601 , 0.75981479, 0.73880497,\n",
            "       0.74406642, 0.76096173, 0.74993893, 0.7330601 , 0.76056616,\n",
            "       0.73407728, 0.74942156]),\n",
            " 'split5_train_Recall': array([0.62490084, 0.6764654 , 0.72520934, 0.6798149 , 0.72639929,\n",
            "       0.72675187, 0.62490084, 0.6764654 , 0.72520934, 0.67968268,\n",
            "       0.73349493, 0.71375055]),\n",
            " 'split6_test_Accuracy': array([0.70952604, 0.71719068, 0.72595026, 0.728453  , 0.72548099,\n",
            "       0.72720163, 0.70952604, 0.71719068, 0.72595026, 0.72860942,\n",
            "       0.72563742, 0.72735805]),\n",
            " 'split6_test_F1': array([0.68477338, 0.70544151, 0.72811918, 0.71744792, 0.72470588,\n",
            "       0.72483433, 0.68477338, 0.70544151, 0.72811918, 0.71765663,\n",
            "       0.7249059 , 0.72302558]),\n",
            " 'split6_test_Precision': array([0.76113208, 0.74732482, 0.73243834, 0.75921461, 0.73707722,\n",
            "       0.7416855 , 0.76113208, 0.74732482, 0.73243834, 0.75929752,\n",
            "       0.73716108, 0.74541284]),\n",
            " 'split6_test_Recall': array([0.62233878, 0.6680037 , 0.72385066, 0.68003703, 0.71274298,\n",
            "       0.70873187, 0.62233878, 0.6680037 , 0.72385066, 0.68034557,\n",
            "       0.71305153, 0.70194384]),\n",
            " 'split6_train_Accuracy': array([0.7093639 , 0.72200996, 0.725987  , 0.7277074 , 0.7319302 ,\n",
            "       0.73501352, 0.7093639 , 0.72200996, 0.725987  , 0.72757334,\n",
            "       0.7316174 , 0.73387403]),\n",
            " 'split6_train_F1': array([0.6857971 , 0.71225717, 0.72879257, 0.71723242, 0.73209182,\n",
            "       0.73312331, 0.6857971 , 0.71225717, 0.72879257, 0.71728999,\n",
            "       0.731875  , 0.73016017]),\n",
            " 'split6_train_Precision': array([0.7587792 , 0.74937953, 0.73141285, 0.75735006, 0.74199973,\n",
            "       0.74899995, 0.7587792 , 0.74937953, 0.73141285, 0.75682552,\n",
            "       0.74150798, 0.75128205]),\n",
            " 'split6_train_Recall': array([0.62562249, 0.67863911, 0.726191  , 0.68115112, 0.72244502,\n",
            "       0.71790578, 0.62562249, 0.67863911, 0.726191  , 0.68167996,\n",
            "       0.72248909, 0.71019347]),\n",
            " 'split7_test_Accuracy': array([0.70796183, 0.71609573, 0.7232911 , 0.72250899, 0.72469889,\n",
            "       0.72438605, 0.70796183, 0.71609573, 0.72282184, 0.72172689,\n",
            "       0.72391678, 0.72282184]),\n",
            " 'split7_test_F1': array([0.6851071 , 0.70739965, 0.72662649, 0.71135698, 0.72204675,\n",
            "       0.72347772, 0.6851071 , 0.70739965, 0.72688039, 0.71096669,\n",
            "       0.71926197, 0.72595113]),\n",
            " 'split7_test_Precision': array([0.75558036, 0.74071573, 0.72786378, 0.7524957 , 0.73956648,\n",
            "       0.73618652, 0.75558036, 0.74071573, 0.72620881, 0.75085793,\n",
            "       0.74228496, 0.72775194]),\n",
            " 'split7_test_Recall': array([0.62665844, 0.67695156, 0.7253934 , 0.67448318, 0.70533786,\n",
            "       0.71120025, 0.62665844, 0.67695156, 0.72755322, 0.67510028,\n",
            "       0.69762419, 0.72415921]),\n",
            " 'split7_train_Accuracy': array([0.70958733, 0.72216637, 0.72636683, 0.72929374, 0.73295797,\n",
            "       0.73572849, 0.70958733, 0.72216637, 0.72634448, 0.72904797,\n",
            "       0.73128226, 0.73429855]),\n",
            " 'split7_train_F1': array([0.68575021, 0.7119861 , 0.7290067 , 0.7186905 , 0.73047086,\n",
            "       0.73535598, 0.68575021, 0.7119861 , 0.72957697, 0.71875507,\n",
            "       0.72615497, 0.73776131]),\n",
            " 'split7_train_Precision': array([0.75957367, 0.75034173, 0.73206826, 0.75945827, 0.74797949,\n",
            "       0.7468527 , 0.75957367, 0.75034173, 0.7310296 , 0.75856667,\n",
            "       0.75117769, 0.73831487]),\n",
            " 'split7_train_Recall': array([0.62500551, 0.67736107, 0.72597065, 0.68207659, 0.71376317,\n",
            "       0.72420784, 0.62500551, 0.67736107, 0.7281301 , 0.68291393,\n",
            "       0.70274558, 0.73720858]),\n",
            " 'std_fit_time': array([0.00318908, 0.00307975, 0.00387959, 0.00430543, 0.00434009,\n",
            "       0.0037892 , 0.00858733, 0.00231455, 0.00688144, 0.00473088,\n",
            "       0.00463884, 0.00587892]),\n",
            " 'std_score_time': array([0.00049248, 0.00170686, 0.00062961, 0.00138593, 0.00031306,\n",
            "       0.0029632 , 0.00109641, 0.00056059, 0.00188227, 0.00026913,\n",
            "       0.00071556, 0.00046745]),\n",
            " 'std_test_Accuracy': array([0.00509717, 0.00470229, 0.0043901 , 0.00378358, 0.00491688,\n",
            "       0.00439453, 0.00509717, 0.00470229, 0.00442863, 0.00391808,\n",
            "       0.00452502, 0.00413432]),\n",
            " 'std_test_F1': array([0.00509165, 0.00470363, 0.00403358, 0.00677389, 0.00713897,\n",
            "       0.00586475, 0.00509165, 0.00470363, 0.00409485, 0.00675682,\n",
            "       0.00739943, 0.00479213]),\n",
            " 'std_test_Precision': array([0.00763481, 0.0062939 , 0.00583117, 0.011609  , 0.01081645,\n",
            "       0.00603389, 0.00763481, 0.0062939 , 0.00595232, 0.01147925,\n",
            "       0.01229389, 0.00610184]),\n",
            " 'std_test_Recall': array([0.00511031, 0.00541601, 0.00552753, 0.01984098, 0.01903394,\n",
            "       0.01244738, 0.00511031, 0.00541601, 0.00588142, 0.01951827,\n",
            "       0.02213821, 0.00963192]),\n",
            " 'std_train_Accuracy': array([0.0007282 , 0.00067175, 0.00062718, 0.00094542, 0.00098232,\n",
            "       0.00095597, 0.0007282 , 0.00067175, 0.00063803, 0.00098983,\n",
            "       0.00089193, 0.00085182]),\n",
            " 'std_train_F1': array([0.00072776, 0.00067033, 0.000576  , 0.00508215, 0.0043022 ,\n",
            "       0.00099844, 0.00072776, 0.00067033, 0.00056172, 0.00500587,\n",
            "       0.00493914, 0.00219773]),\n",
            " 'std_train_Precision': array([0.00109959, 0.00089849, 0.00083707, 0.01026926, 0.00695286,\n",
            "       0.00346046, 0.00109959, 0.00089849, 0.00094787, 0.01001909,\n",
            "       0.00902784, 0.00430161]),\n",
            " 'std_train_Recall': array([0.00073005, 0.00077369, 0.00078973, 0.01819519, 0.01409592,\n",
            "       0.00468268, 0.00073005, 0.00077369, 0.00090268, 0.017854  ,\n",
            "       0.01744953, 0.00798216])}\n"
          ],
          "name": "stdout"
        }
      ]
    },
    {
      "cell_type": "code",
      "metadata": {
        "colab": {
          "base_uri": "https://localhost:8080/",
          "height": 328
        },
        "id": "NnKBs1ciwDZX",
        "outputId": "0d2dc8a7-91a4-4dbf-c135-242e5ffee198"
      },
      "source": [
        "results = pd.DataFrame(grid.cv_results_)\n",
        "plt.figure(figsize=(16, 10))\n",
        "plt.subplot(221)\n",
        "\n",
        "plt.plot(results['param_criterion'], results['mean_test_Accuracy'], color='red', label='test')\n",
        "plt.plot(results['param_criterion'], results['mean_train_Accuracy'], color='blue', label='train')\n",
        "plt.legend()\n",
        "plt.title('Accuracy')"
      ],
      "execution_count": null,
      "outputs": [
        {
          "output_type": "execute_result",
          "data": {
            "text/plain": [
              "Text(0.5, 1.0, 'Accuracy')"
            ]
          },
          "metadata": {
            "tags": []
          },
          "execution_count": 11
        },
        {
          "output_type": "display_data",
          "data": {
            "image/png": "[encoded data removed]",
            "text/plain": [
              "<Figure size 1152x720 with 1 Axes>"
            ]
          },
          "metadata": {
            "tags": [],
            "needs_background": "light"
          }
        }
      ]
    },
    {
      "cell_type": "code",
      "metadata": {
        "colab": {
          "base_uri": "https://localhost:8080/",
          "height": 517
        },
        "id": "WzrSKzrquVC4",
        "outputId": "480083f3-c366-4751-97f3-2ac0744873b1"
      },
      "source": [
        "results = pd.DataFrame(grid.cv_results_)\n",
        "sns.set(rc={'figure.figsize':(11.7,8.27)})\n",
        "sns.lineplot(data=[results['mean_train_Precision'], results['mean_test_Precision']])\n"
      ],
      "execution_count": null,
      "outputs": [
        {
          "output_type": "execute_result",
          "data": {
            "text/plain": [
              "<matplotlib.axes._subplots.AxesSubplot at 0x7f4d5e0c8110>"
            ]
          },
          "metadata": {
            "tags": []
          },
          "execution_count": 12
        },
        {
          "output_type": "display_data",
          "data": {
            "image/png": "[encoded data removed]",
            "text/plain": [
              "<Figure size 842.4x595.44 with 1 Axes>"
            ]
          },
          "metadata": {
            "tags": []
          }
        }
      ]
    },
    {
      "cell_type": "code",
      "metadata": {
        "colab": {
          "base_uri": "https://localhost:8080/"
        },
        "id": "-G-rYKyNiVCA",
        "outputId": "7d9b9900-15bf-4afc-fc88-5933aea7f82d"
      },
      "source": [
        "from sklearn.neural_network import MLPClassifier\n",
        "\n",
        "params = {\n",
        "        'test1' : [(10,), 'relu', 'sgd', 0.0001],\n",
        "        'test2' : [(20,), 'tanh', 'sgd', 0.0001],\n",
        "        'test3': [(50, 50, 50), 'tanh', 'adam', 0.00001],\n",
        "        'test4': [(50, ), 'relu', 'adam', 0.00001],\n",
        "        'test5': [(50, 50, 50), 'tanh', 'lbfgs', 0.00001],\n",
        "        'test6': [(100, 100, 100), 'relu', 'lbfgs', 0.00001]\n",
        "    }\n",
        "\n",
        "for k, v in params.items():\n",
        "  mlp = MLPClassifier(hidden_layer_sizes=params[k][0], activation=params[k][1],\n",
        "                            solver=params[k][2], tol=params[k][3], max_iter=100)\n",
        "  mlp.fit(x_train, y_train)\n",
        "  print('Parameters')\n",
        "  print([(i) for i in v])\n",
        "  y_pred = mlp.predict(x_test)\n",
        "  target_names = ['Class1', 'Class2']\n",
        "  print(f'Classification report for {str(k)}\\n', classification_report(y_test, y_pred, target_names=target_names))\n",
        "  print(str(accuracy_score))"
      ],
      "execution_count": null,
      "outputs": [
        {
          "output_type": "stream",
          "text": [
            "Parameters\n",
            "[(10,), 'relu', 'sgd', 0.0001]\n",
            "Classification report for test1\n",
            "               precision    recall  f1-score   support\n",
            "\n",
            "      Class1       0.75      0.60      0.67      6316\n",
            "      Class2       0.67      0.81      0.73      6472\n",
            "\n",
            "    accuracy                           0.70     12788\n",
            "   macro avg       0.71      0.70      0.70     12788\n",
            "weighted avg       0.71      0.70      0.70     12788\n",
            "\n",
            "<function accuracy_score at 0x7f4d75e61b90>\n",
            "Parameters\n",
            "[(20,), 'tanh', 'sgd', 0.0001]\n",
            "Classification report for test2\n",
            "               precision    recall  f1-score   support\n",
            "\n",
            "      Class1       0.53      0.80      0.64      6316\n",
            "      Class2       0.61      0.30      0.41      6472\n",
            "\n",
            "    accuracy                           0.55     12788\n",
            "   macro avg       0.57      0.55      0.52     12788\n",
            "weighted avg       0.57      0.55      0.52     12788\n",
            "\n",
            "<function accuracy_score at 0x7f4d75e61b90>\n",
            "Parameters\n",
            "[(50, 50, 50), 'tanh', 'adam', 1e-05]\n",
            "Classification report for test3\n",
            "               precision    recall  f1-score   support\n",
            "\n",
            "      Class1       0.72      0.74      0.73      6316\n",
            "      Class2       0.74      0.71      0.73      6472\n",
            "\n",
            "    accuracy                           0.73     12788\n",
            "   macro avg       0.73      0.73      0.73     12788\n",
            "weighted avg       0.73      0.73      0.73     12788\n",
            "\n",
            "<function accuracy_score at 0x7f4d75e61b90>\n",
            "Parameters\n",
            "[(50,), 'relu', 'adam', 1e-05]\n",
            "Classification report for test4\n",
            "               precision    recall  f1-score   support\n",
            "\n",
            "      Class1       0.68      0.83      0.75      6316\n",
            "      Class2       0.79      0.61      0.69      6472\n",
            "\n",
            "    accuracy                           0.72     12788\n",
            "   macro avg       0.73      0.72      0.72     12788\n",
            "weighted avg       0.73      0.72      0.72     12788\n",
            "\n",
            "<function accuracy_score at 0x7f4d75e61b90>\n",
            "Parameters\n",
            "[(50, 50, 50), 'tanh', 'lbfgs', 1e-05]\n",
            "Classification report for test5\n",
            "               precision    recall  f1-score   support\n",
            "\n",
            "      Class1       0.70      0.75      0.72      6316\n",
            "      Class2       0.74      0.69      0.71      6472\n",
            "\n",
            "    accuracy                           0.72     12788\n",
            "   macro avg       0.72      0.72      0.72     12788\n",
            "weighted avg       0.72      0.72      0.72     12788\n",
            "\n",
            "<function accuracy_score at 0x7f4d75e61b90>\n",
            "Parameters\n",
            "[(100, 100, 100), 'relu', 'lbfgs', 1e-05]\n",
            "Classification report for test6\n",
            "               precision    recall  f1-score   support\n",
            "\n",
            "      Class1       0.71      0.76      0.73      6316\n",
            "      Class2       0.74      0.70      0.72      6472\n",
            "\n",
            "    accuracy                           0.72     12788\n",
            "   macro avg       0.73      0.73      0.72     12788\n",
            "weighted avg       0.73      0.72      0.72     12788\n",
            "\n",
            "<function accuracy_score at 0x7f4d75e61b90>\n"
          ],
          "name": "stdout"
        }
      ]
    },
    {
      "cell_type": "code",
      "metadata": {
        "colab": {
          "base_uri": "https://localhost:8080/"
        },
        "id": "gIbVaxiNl14u",
        "outputId": "18e7fc79-17a4-41ab-bc69-16935d2aa2b4"
      },
      "source": [
        "from sklearn.naive_bayes import GaussianNB\n",
        "from xgboost import XGBClassifier\n",
        "from sklearn.ensemble import RandomForestClassifier\n",
        "from sklearn.tree import DecisionTreeClassifier\n",
        "from sklearn.neighbors import KNeighborsClassifier\n",
        "from sklearn.naive_bayes import GaussianNB\n",
        "from sklearn.svm import SVC\n",
        "#ensembling\n",
        "from mlxtend.classifier import StackingCVClassifier\n",
        "m7 = 'Support Vector Classifier'\n",
        "svc =  SVC(kernel='rbf', C=2)\n",
        "svc.fit(x_train, y_train)\n",
        "svc_predicted = svc.predict(x_test)\n",
        "svc_conf_matrix = confusion_matrix(y_test, svc_predicted)\n",
        "svc_acc_score = accuracy_score(y_test, svc_predicted)\n",
        "print(\"confussion matrix\")\n",
        "print(svc_conf_matrix)\n",
        "print(\"\\n\")\n",
        "print(\"Accuracy of Support Vector Classifier:\",svc_acc_score*100,'\\n')\n",
        "print(classification_report(y_test,svc_predicted))"
      ],
      "execution_count": null,
      "outputs": [
        {
          "output_type": "stream",
          "text": [
            "confussion matrix\n",
            "[[4991 1325]\n",
            " [2255 4217]]\n",
            "\n",
            "\n",
            "Accuracy of Support Vector Classifier: 72.00500469189865 \n",
            "\n",
            "              precision    recall  f1-score   support\n",
            "\n",
            "           0       0.69      0.79      0.74      6316\n",
            "           1       0.76      0.65      0.70      6472\n",
            "\n",
            "    accuracy                           0.72     12788\n",
            "   macro avg       0.72      0.72      0.72     12788\n",
            "weighted avg       0.73      0.72      0.72     12788\n",
            "\n"
          ],
          "name": "stdout"
        }
      ]
    },
    {
      "cell_type": "code",
      "metadata": {
        "colab": {
          "base_uri": "https://localhost:8080/"
        },
        "id": "eKTzCLx1vXn8",
        "outputId": "5445181d-b572-4999-9f7d-469cf4242858"
      },
      "source": [
        "m6 = 'DecisionTreeClassifier'\n",
        "dt = DecisionTreeClassifier(criterion = 'entropy',random_state=0,max_depth = 6)\n",
        "dt.fit(x_train, y_train)\n",
        "dt_predicted = dt.predict(x_test)\n",
        "dt_conf_matrix = confusion_matrix(y_test, dt_predicted)\n",
        "dt_acc_score = accuracy_score(y_test, dt_predicted)\n",
        "print(\"confussion matrix\")\n",
        "print(dt_conf_matrix)\n",
        "print(\"\\n\")\n",
        "print(\"Accuracy of DecisionTreeClassifier:\",dt_acc_score*100,'\\n')\n",
        "print(classification_report(y_test,dt_predicted))"
      ],
      "execution_count": null,
      "outputs": [
        {
          "output_type": "stream",
          "text": [
            "confussion matrix\n",
            "[[4584 1732]\n",
            " [1830 4642]]\n",
            "\n",
            "\n",
            "Accuracy of DecisionTreeClassifier: 72.14576165154833 \n",
            "\n",
            "              precision    recall  f1-score   support\n",
            "\n",
            "           0       0.71      0.73      0.72      6316\n",
            "           1       0.73      0.72      0.72      6472\n",
            "\n",
            "    accuracy                           0.72     12788\n",
            "   macro avg       0.72      0.72      0.72     12788\n",
            "weighted avg       0.72      0.72      0.72     12788\n",
            "\n"
          ],
          "name": "stdout"
        }
      ]
    },
    {
      "cell_type": "code",
      "metadata": {
        "colab": {
          "base_uri": "https://localhost:8080/"
        },
        "id": "k82R_gnAErSF",
        "outputId": "9ef11d39-5e7f-4ed6-f1a7-6bc759537fd1"
      },
      "source": [
        "m4 = 'Extreme Gradient Boost'\n",
        "xgb = XGBClassifier(n_estimators=25, max_depth=15,gamma=0.6, subsample=0.52,colsample_bytree=0.6,seed=27, \n",
        "                    reg_lambda=2, booster='dart',)\n",
        "xgb.fit(x_train, y_train)\n",
        "xgb_predicted = xgb.predict(x_test)\n",
        "xgb_conf_matrix = confusion_matrix(y_test, xgb_predicted)\n",
        "xgb_acc_score = accuracy_score(y_test, xgb_predicted)\n",
        "print(\"confussion matrix\")\n",
        "print(xgb_conf_matrix)\n",
        "print(\"\\n\")\n",
        "print(\"Accuracy of Extreme Gradient Boost:\",xgb_acc_score*100,'\\n')\n",
        "print(classification_report(y_test,xgb_predicted))\n",
        "\n"
      ],
      "execution_count": null,
      "outputs": [
        {
          "output_type": "stream",
          "text": [
            "confussion matrix\n",
            "[[4721 1595]\n",
            " [1991 4481]]\n",
            "\n",
            "\n",
            "Accuracy of Extreme Gradient Boost: 71.95808570534876 \n",
            "\n",
            "              precision    recall  f1-score   support\n",
            "\n",
            "           0       0.70      0.75      0.72      6316\n",
            "           1       0.74      0.69      0.71      6472\n",
            "\n",
            "    accuracy                           0.72     12788\n",
            "   macro avg       0.72      0.72      0.72     12788\n",
            "weighted avg       0.72      0.72      0.72     12788\n",
            "\n"
          ],
          "name": "stdout"
        }
      ]
    },
    {
      "cell_type": "code",
      "metadata": {
        "colab": {
          "base_uri": "https://localhost:8080/"
        },
        "id": "8AKlrDON2wxm",
        "outputId": "f359a138-e81f-4a25-9068-9e04a46156a7"
      },
      "source": [
        "\n",
        "parameters = params = {\n",
        "        'min_child_weight': [1, 5, 10],\n",
        "        'gamma': [0.5, 1, 1.5, 2, 5],\n",
        "        'max_depth': [3, 4, 5]\n",
        "        }\n",
        "clfr_xb = XGBClassifier()\n",
        "grid = GridSearchCV(clfr_xb, param_grid=parameters, cv=5, scoring=metrics, refit='Accuracy',return_train_score=True, verbose=1, n_jobs=-1)\n",
        "grid.fit(x_train,y_train)\n",
        "print('The parameters combination that would give best accuracy is : ')\n",
        "print(grid.best_params_)\n",
        "print('The best accuracy achieved after parameter tuning via grid search is : ', grid.best_score_)"
      ],
      "execution_count": null,
      "outputs": [
        {
          "output_type": "stream",
          "text": [
            "Fitting 5 folds for each of 45 candidates, totalling 225 fits\n"
          ],
          "name": "stdout"
        },
        {
          "output_type": "stream",
          "text": [
            "[Parallel(n_jobs=-1)]: Using backend LokyBackend with 2 concurrent workers.\n",
            "[Parallel(n_jobs=-1)]: Done  46 tasks      | elapsed:  1.8min\n",
            "[Parallel(n_jobs=-1)]: Done 196 tasks      | elapsed:  7.4min\n",
            "[Parallel(n_jobs=-1)]: Done 225 out of 225 | elapsed:  8.6min finished\n"
          ],
          "name": "stderr"
        },
        {
          "output_type": "stream",
          "text": [
            "The parameters combination that would give best accuracy is : \n",
            "{'gamma': 5, 'max_depth': 5, 'min_child_weight': 5}\n",
            "The best accuracy achieved after parameter tuning via grid search is :  0.7324926686217009\n"
          ],
          "name": "stdout"
        }
      ]
    },
    {
      "cell_type": "code",
      "metadata": {
        "colab": {
          "base_uri": "https://localhost:8080/"
        },
        "id": "rVhDyPy2E4xe",
        "outputId": "a7121128-5c9f-4135-e95e-125386c81557"
      },
      "source": [
        "m3 = 'Random Forest Classfier'\n",
        "rf = RandomForestClassifier(n_estimators=20, random_state=2,max_depth=5)\n",
        "rf.fit(x_train,y_train)\n",
        "rf_predicted = rf.predict(x_test)\n",
        "rf_conf_matrix = confusion_matrix(y_test, rf_predicted)\n",
        "rf_acc_score = accuracy_score(y_test, rf_predicted)\n",
        "print(\"confussion matrix\")\n",
        "print(rf_conf_matrix)\n",
        "print(\"\\n\")\n",
        "print(\"Accuracy of Random Forest:\",rf_acc_score*100,'\\n')\n",
        "print(classification_report(y_test,rf_predicted))"
      ],
      "execution_count": null,
      "outputs": [
        {
          "output_type": "stream",
          "text": [
            "confussion matrix\n",
            "[[4857 1459]\n",
            " [2118 4354]]\n",
            "\n",
            "\n",
            "Accuracy of Random Forest: 72.0284641851736 \n",
            "\n",
            "              precision    recall  f1-score   support\n",
            "\n",
            "           0       0.70      0.77      0.73      6316\n",
            "           1       0.75      0.67      0.71      6472\n",
            "\n",
            "    accuracy                           0.72     12788\n",
            "   macro avg       0.72      0.72      0.72     12788\n",
            "weighted avg       0.72      0.72      0.72     12788\n",
            "\n"
          ],
          "name": "stdout"
        }
      ]
    },
    {
      "cell_type": "code",
      "metadata": {
        "colab": {
          "base_uri": "https://localhost:8080/"
        },
        "id": "ctqFcRbBFAUb",
        "outputId": "1ba65098-fd33-4e76-9f0a-44542026d7a5"
      },
      "source": [
        "m2 = 'Naive Bayes'\n",
        "nb = GaussianNB()\n",
        "nb.fit(x_train,y_train)\n",
        "nbpred = nb.predict(x_test)\n",
        "nb_conf_matrix = confusion_matrix(y_test, nbpred)\n",
        "nb_acc_score = accuracy_score(y_test, nbpred)\n",
        "print(\"confussion matrix\")\n",
        "print(nb_conf_matrix)\n",
        "print(\"\\n\")\n",
        "print(\"Accuracy of Naive Bayes model:\",nb_acc_score*100,'\\n')\n",
        "print(classification_report(y_test,nbpred))"
      ],
      "execution_count": null,
      "outputs": [
        {
          "output_type": "stream",
          "text": [
            "confussion matrix\n",
            "[[5052 1264]\n",
            " [2388 4084]]\n",
            "\n",
            "\n",
            "Accuracy of Naive Bayes model: 71.44197685329998 \n",
            "\n",
            "              precision    recall  f1-score   support\n",
            "\n",
            "           0       0.68      0.80      0.73      6316\n",
            "           1       0.76      0.63      0.69      6472\n",
            "\n",
            "    accuracy                           0.71     12788\n",
            "   macro avg       0.72      0.72      0.71     12788\n",
            "weighted avg       0.72      0.71      0.71     12788\n",
            "\n"
          ],
          "name": "stdout"
        }
      ]
    },
    {
      "cell_type": "code",
      "metadata": {
        "colab": {
          "base_uri": "https://localhost:8080/"
        },
        "id": "T12Pux2MFG5g",
        "outputId": "99d16a1f-a904-4cee-a5ec-c811cfa8109a"
      },
      "source": [
        "m1 = 'Logistic Regression'\n",
        "lr = LogisticRegression()\n",
        "model = lr.fit(x_train, y_train)\n",
        "lr_predict = lr.predict(x_test)\n",
        "lr_conf_matrix = confusion_matrix(y_test, lr_predict)\n",
        "lr_acc_score = accuracy_score(y_test, lr_predict)\n",
        "print(\"confussion matrix\")\n",
        "print(lr_conf_matrix)\n",
        "print(\"\\n\")\n",
        "print(\"Accuracy of Logistic Regression:\",lr_acc_score*100,'\\n')\n",
        "print(classification_report(y_test,lr_predict))"
      ],
      "execution_count": null,
      "outputs": [
        {
          "output_type": "stream",
          "text": [
            "confussion matrix\n",
            "[[4790 1526]\n",
            " [1975 4497]]\n",
            "\n",
            "\n",
            "Accuracy of Logistic Regression: 72.62277134813888 \n",
            "\n",
            "              precision    recall  f1-score   support\n",
            "\n",
            "           0       0.71      0.76      0.73      6316\n",
            "           1       0.75      0.69      0.72      6472\n",
            "\n",
            "    accuracy                           0.73     12788\n",
            "   macro avg       0.73      0.73      0.73     12788\n",
            "weighted avg       0.73      0.73      0.73     12788\n",
            "\n"
          ],
          "name": "stdout"
        }
      ]
    },
    {
      "cell_type": "code",
      "metadata": {
        "colab": {
          "base_uri": "https://localhost:8080/"
        },
        "id": "jiTlK2tvFWML",
        "outputId": "595d132a-e461-4676-8a46-01e1b564c0e9"
      },
      "source": [
        "m5 = 'K-NeighborsClassifier'\n",
        "knn = KNeighborsClassifier(n_neighbors=10)\n",
        "knn.fit(x_train, y_train)\n",
        "knn_predicted = knn.predict(x_test)\n",
        "knn_conf_matrix = confusion_matrix(y_test, knn_predicted)\n",
        "knn_acc_score = accuracy_score(y_test, knn_predicted)\n",
        "print(\"confussion matrix\")\n",
        "print(knn_conf_matrix)\n",
        "print(\"\\n\")\n",
        "print(\"Accuracy of K-NeighborsClassifier:\",knn_acc_score*100,'\\n')\n",
        "print(classification_report(y_test,knn_predicted))"
      ],
      "execution_count": null,
      "outputs": [
        {
          "output_type": "stream",
          "text": [
            "confussion matrix\n",
            "[[4857 1459]\n",
            " [2286 4186]]\n",
            "\n",
            "\n",
            "Accuracy of K-NeighborsClassifier: 70.71473256177666 \n",
            "\n",
            "              precision    recall  f1-score   support\n",
            "\n",
            "           0       0.68      0.77      0.72      6316\n",
            "           1       0.74      0.65      0.69      6472\n",
            "\n",
            "    accuracy                           0.71     12788\n",
            "   macro avg       0.71      0.71      0.71     12788\n",
            "weighted avg       0.71      0.71      0.71     12788\n",
            "\n"
          ],
          "name": "stdout"
        }
      ]
    },
    {
      "cell_type": "code",
      "metadata": {
        "id": "APpdv7nfcxcl"
      },
      "source": [
        "X,y = data.drop('cardio', axis=1), data.cardio"
      ],
      "execution_count": null,
      "outputs": []
    },
    {
      "cell_type": "code",
      "metadata": {
        "colab": {
          "base_uri": "https://localhost:8080/"
        },
        "id": "07byydXgarB0",
        "outputId": "5b16c653-0cf4-47d3-c9c4-da5c01c9ad93"
      },
      "source": [
        "\n",
        "model = XGBClassifier()\n",
        "model.fit(x_train, y_train)"
      ],
      "execution_count": null,
      "outputs": [
        {
          "output_type": "execute_result",
          "data": {
            "text/plain": [
              "XGBClassifier(base_score=0.5, booster='gbtree', colsample_bylevel=1,\n",
              "              colsample_bynode=1, colsample_bytree=1, gamma=0,\n",
              "              learning_rate=0.1, max_delta_step=0, max_depth=3,\n",
              "              min_child_weight=1, missing=None, n_estimators=100, n_jobs=1,\n",
              "              nthread=None, objective='binary:logistic', random_state=0,\n",
              "              reg_alpha=0, reg_lambda=1, scale_pos_weight=1, seed=None,\n",
              "              silent=None, subsample=1, verbosity=1)"
            ]
          },
          "metadata": {
            "tags": []
          },
          "execution_count": 30
        }
      ]
    },
    {
      "cell_type": "code",
      "metadata": {
        "colab": {
          "base_uri": "https://localhost:8080/"
        },
        "id": "Hs8rJQXZ7Eg1",
        "outputId": "fdfffa04-5004-404b-fdc9-c08dc615952e"
      },
      "source": [
        "# evaluate predictions\n",
        "y_pred = model.predict(x_test)\n",
        "predictions = [round(value) for value in y_pred]\n",
        "accuracy = accuracy_score(y_test, predictions)\n",
        "print(\"Accuracy: %.2f%%\" % (accuracy * 100.0))"
      ],
      "execution_count": null,
      "outputs": [
        {
          "output_type": "stream",
          "text": [
            "Accuracy: 72.81%\n"
          ],
          "name": "stdout"
        }
      ]
    },
    {
      "cell_type": "markdown",
      "metadata": {
        "id": "ZQ4XYlo4eAk4"
      },
      "source": [
        "Feature *Selection"
      ]
    },
    {
      "cell_type": "code",
      "metadata": {
        "id": "z3lEkDV6dDXi"
      },
      "source": [
        "from sklearn.preprocessing import MinMaxScaler\n",
        "scaler = MinMaxScaler()\n",
        "scaler.fit(x_train)\n",
        "x_train = scaler.transform(x_train)\n",
        "x_test = scaler.transform(x_test)\n"
      ],
      "execution_count": null,
      "outputs": []
    },
    {
      "cell_type": "code",
      "metadata": {
        "colab": {
          "base_uri": "https://localhost:8080/",
          "height": 355
        },
        "id": "QPD38y9VEF_6",
        "outputId": "7f65dd04-b12e-4cce-a201-88140b7911cd"
      },
      "source": [
        "lr_false_positive_rate,lr_true_positive_rate,lr_threshold = roc_curve(y_test,lr_predict)\n",
        "nb_false_positive_rate,nb_true_positive_rate,nb_threshold = roc_curve(y_test,nbpred)\n",
        "rf_false_positive_rate,rf_true_positive_rate,rf_threshold = roc_curve(y_test,rf_predicted)                                                             \n",
        "xgb_false_positive_rate,xgb_true_positive_rate,xgb_threshold = roc_curve(y_test,xgb_predicted)\n",
        "knn_false_positive_rate,knn_true_positive_rate,knn_threshold = roc_curve(y_test,knn_predicted)\n",
        "dt_false_positive_rate,dt_true_positive_rate,dt_threshold = roc_curve(y_test,dt_predicted)\n",
        "svc_false_positive_rate,svc_true_positive_rate,svc_threshold = roc_curve(y_test,svc_predicted)\n",
        "\n",
        "\n",
        "sns.set_style('whitegrid')\n",
        "plt.figure(figsize=(10,5))\n",
        "plt.title('Reciver Operating Characterstic Curve')\n",
        "plt.plot(lr_false_positive_rate,lr_true_positive_rate,label='Logistic Regression')\n",
        "plt.plot(nb_false_positive_rate,nb_true_positive_rate,label='Naive Bayes')\n",
        "plt.plot(rf_false_positive_rate,rf_true_positive_rate,label='Random Forest')\n",
        "plt.plot(xgb_false_positive_rate,xgb_true_positive_rate,label='Extreme Gradient Boost')\n",
        "plt.plot(knn_false_positive_rate,knn_true_positive_rate,label='K-Nearest Neighbor')\n",
        "plt.plot(dt_false_positive_rate,dt_true_positive_rate,label='Desion Tree')\n",
        "plt.plot(svc_false_positive_rate,svc_true_positive_rate,label='Support Vector Classifier')\n",
        "plt.plot([0,1],ls='--')\n",
        "plt.plot([0,0],[1,0],c='.5')\n",
        "plt.plot([1,1],c='.5')\n",
        "plt.ylabel('True positive rate')\n",
        "plt.xlabel('False positive rate')\n",
        "plt.legend()\n",
        "plt.show()"
      ],
      "execution_count": null,
      "outputs": [
        {
          "output_type": "display_data",
          "data": {
            "image/png": "[encoded data removed]",
            "text/plain": [
              "<Figure size 720x360 with 1 Axes>"
            ]
          },
          "metadata": {
            "tags": []
          }
        }
      ]
    },
    {
      "cell_type": "code",
      "metadata": {
        "colab": {
          "base_uri": "https://localhost:8080/"
        },
        "id": "WTD7klafN4Gv",
        "outputId": "6930760b-3153-41c0-b9a7-9cd638c648a8"
      },
      "source": [
        "data.columns"
      ],
      "execution_count": null,
      "outputs": [
        {
          "output_type": "execute_result",
          "data": {
            "text/plain": [
              "Index(['age', 'gender', 'height', 'weight', 'ap_hi', 'ap_lo', 'cholesterol',\n",
              "       'gluc', 'smoke', 'alco', 'active', 'cardio', 'bmi', 'pulse'],\n",
              "      dtype='object')"
            ]
          },
          "metadata": {
            "tags": []
          },
          "execution_count": 35
        }
      ]
    },
    {
      "cell_type": "code",
      "metadata": {
        "colab": {
          "base_uri": "https://localhost:8080/"
        },
        "id": "3eUATjXtI_Cg",
        "outputId": "6d97dafa-8e69-4deb-e639-6933e930b784"
      },
      "source": [
        "!pip install shap"
      ],
      "execution_count": null,
      "outputs": [
        {
          "output_type": "stream",
          "text": [
            "Collecting shap\n",
            "\u001b[?25l  Downloading https://files.pythonhosted.org/packages/b9/f4/c5b95cddae15be80f8e58b25edceca105aa83c0b8c86a1edad24a6af80d3/shap-0.39.0.tar.gz (356kB)\n",
            "\r\u001b[K     |█                               | 10kB 15.4MB/s eta 0:00:01\r\u001b[K     |█▉                              | 20kB 21.1MB/s eta 0:00:01\r\u001b[K     |██▊                             | 30kB 25.1MB/s eta 0:00:01\r\u001b[K     |███▊                            | 40kB 28.0MB/s eta 0:00:01\r\u001b[K     |████▋                           | 51kB 30.1MB/s eta 0:00:01\r\u001b[K     |█████▌                          | 61kB 32.1MB/s eta 0:00:01\r\u001b[K     |██████▍                         | 71kB 28.7MB/s eta 0:00:01\r\u001b[K     |███████▍                        | 81kB 25.5MB/s eta 0:00:01\r\u001b[K     |████████▎                       | 92kB 25.1MB/s eta 0:00:01\r\u001b[K     |█████████▏                      | 102kB 26.4MB/s eta 0:00:01\r\u001b[K     |██████████▏                     | 112kB 26.4MB/s eta 0:00:01\r\u001b[K     |███████████                     | 122kB 26.4MB/s eta 0:00:01\r\u001b[K     |████████████                    | 133kB 26.4MB/s eta 0:00:01\r\u001b[K     |████████████▉                   | 143kB 26.4MB/s eta 0:00:01\r\u001b[K     |█████████████▉                  | 153kB 26.4MB/s eta 0:00:01\r\u001b[K     |██████████████▊                 | 163kB 26.4MB/s eta 0:00:01\r\u001b[K     |███████████████▋                | 174kB 26.4MB/s eta 0:00:01\r\u001b[K     |████████████████▋               | 184kB 26.4MB/s eta 0:00:01\r\u001b[K     |█████████████████▌              | 194kB 26.4MB/s eta 0:00:01\r\u001b[K     |██████████████████▍             | 204kB 26.4MB/s eta 0:00:01\r\u001b[K     |███████████████████▎            | 215kB 26.4MB/s eta 0:00:01\r\u001b[K     |████████████████████▎           | 225kB 26.4MB/s eta 0:00:01\r\u001b[K     |█████████████████████▏          | 235kB 26.4MB/s eta 0:00:01\r\u001b[K     |██████████████████████          | 245kB 26.4MB/s eta 0:00:01\r\u001b[K     |███████████████████████         | 256kB 26.4MB/s eta 0:00:01\r\u001b[K     |████████████████████████        | 266kB 26.4MB/s eta 0:00:01\r\u001b[K     |████████████████████████▉       | 276kB 26.4MB/s eta 0:00:01\r\u001b[K     |█████████████████████████▊      | 286kB 26.4MB/s eta 0:00:01\r\u001b[K     |██████████████████████████▊     | 296kB 26.4MB/s eta 0:00:01\r\u001b[K     |███████████████████████████▋    | 307kB 26.4MB/s eta 0:00:01\r\u001b[K     |████████████████████████████▌   | 317kB 26.4MB/s eta 0:00:01\r\u001b[K     |█████████████████████████████▍  | 327kB 26.4MB/s eta 0:00:01\r\u001b[K     |██████████████████████████████▍ | 337kB 26.4MB/s eta 0:00:01\r\u001b[K     |███████████████████████████████▎| 348kB 26.4MB/s eta 0:00:01\r\u001b[K     |████████████████████████████████| 358kB 26.4MB/s \n",
            "\u001b[?25hRequirement already satisfied: numpy in /usr/local/lib/python3.7/dist-packages (from shap) (1.19.5)\n",
            "Requirement already satisfied: scipy in /usr/local/lib/python3.7/dist-packages (from shap) (1.4.1)\n",
            "Requirement already satisfied: scikit-learn in /usr/local/lib/python3.7/dist-packages (from shap) (0.22.2.post1)\n",
            "Requirement already satisfied: pandas in /usr/local/lib/python3.7/dist-packages (from shap) (1.1.5)\n",
            "Requirement already satisfied: tqdm>4.25.0 in /usr/local/lib/python3.7/dist-packages (from shap) (4.41.1)\n",
            "Collecting slicer==0.0.7\n",
            "  Downloading https://files.pythonhosted.org/packages/78/c2/b3f55dfdb8af9812fdb9baf70cacf3b9e82e505b2bd4324d588888b81202/slicer-0.0.7-py3-none-any.whl\n",
            "Requirement already satisfied: numba in /usr/local/lib/python3.7/dist-packages (from shap) (0.51.2)\n",
            "Requirement already satisfied: cloudpickle in /usr/local/lib/python3.7/dist-packages (from shap) (1.3.0)\n",
            "Requirement already satisfied: joblib>=0.11 in /usr/local/lib/python3.7/dist-packages (from scikit-learn->shap) (1.0.1)\n",
            "Requirement already satisfied: pytz>=2017.2 in /usr/local/lib/python3.7/dist-packages (from pandas->shap) (2018.9)\n",
            "Requirement already satisfied: python-dateutil>=2.7.3 in /usr/local/lib/python3.7/dist-packages (from pandas->shap) (2.8.1)\n",
            "Requirement already satisfied: llvmlite<0.35,>=0.34.0.dev0 in /usr/local/lib/python3.7/dist-packages (from numba->shap) (0.34.0)\n",
            "Requirement already satisfied: setuptools in /usr/local/lib/python3.7/dist-packages (from numba->shap) (57.0.0)\n",
            "Requirement already satisfied: six>=1.5 in /usr/local/lib/python3.7/dist-packages (from python-dateutil>=2.7.3->pandas->shap) (1.15.0)\n",
            "Building wheels for collected packages: shap\n",
            "  Building wheel for shap (setup.py) ... \u001b[?25l\u001b[?25hdone\n",
            "  Created wheel for shap: filename=shap-0.39.0-cp37-cp37m-linux_x86_64.whl size=491615 sha256=105295d08b3f4236cd0d5579a16bd99ae7a143a9b45b16897ebc7687cc8c3309\n",
            "  Stored in directory: /root/.cache/pip/wheels/15/27/f5/a8ab9da52fd159aae6477b5ede6eaaec69fd130fa0fa59f283\n",
            "Successfully built shap\n",
            "Installing collected packages: slicer, shap\n",
            "Successfully installed shap-0.39.0 slicer-0.0.7\n"
          ],
          "name": "stdout"
        }
      ]
    },
    {
      "cell_type": "code",
      "metadata": {
        "colab": {
          "base_uri": "https://localhost:8080/"
        },
        "id": "gUQPGSB2JqEV",
        "outputId": "24cdd89d-5a2b-4043-f506-33753d6d35d1"
      },
      "source": [
        "!pip install eli5"
      ],
      "execution_count": null,
      "outputs": [
        {
          "output_type": "stream",
          "text": [
            "Requirement already satisfied: eli5 in /usr/local/lib/python3.7/dist-packages (0.11.0)\n",
            "Requirement already satisfied: attrs>16.0.0 in /usr/local/lib/python3.7/dist-packages (from eli5) (21.2.0)\n",
            "Requirement already satisfied: numpy>=1.9.0 in /usr/local/lib/python3.7/dist-packages (from eli5) (1.19.5)\n",
            "Requirement already satisfied: jinja2 in /usr/local/lib/python3.7/dist-packages (from eli5) (2.11.3)\n",
            "Requirement already satisfied: scipy in /usr/local/lib/python3.7/dist-packages (from eli5) (1.4.1)\n",
            "Requirement already satisfied: graphviz in /usr/local/lib/python3.7/dist-packages (from eli5) (0.10.1)\n",
            "Requirement already satisfied: six in /usr/local/lib/python3.7/dist-packages (from eli5) (1.15.0)\n",
            "Requirement already satisfied: scikit-learn>=0.20 in /usr/local/lib/python3.7/dist-packages (from eli5) (0.22.2.post1)\n",
            "Requirement already satisfied: tabulate>=0.7.7 in /usr/local/lib/python3.7/dist-packages (from eli5) (0.8.9)\n",
            "Requirement already satisfied: MarkupSafe>=0.23 in /usr/local/lib/python3.7/dist-packages (from jinja2->eli5) (2.0.1)\n",
            "Requirement already satisfied: joblib>=0.11 in /usr/local/lib/python3.7/dist-packages (from scikit-learn>=0.20->eli5) (1.0.1)\n"
          ],
          "name": "stdout"
        }
      ]
    },
    {
      "cell_type": "code",
      "metadata": {
        "id": "ZzSiP6VGJuiz"
      },
      "source": [
        "feature_names = list(x_train.columns)"
      ],
      "execution_count": null,
      "outputs": []
    },
    {
      "cell_type": "code",
      "metadata": {
        "colab": {
          "base_uri": "https://localhost:8080/",
          "height": 459
        },
        "id": "eLhIUylTJpGg",
        "outputId": "c8de76a8-4a68-45b3-d8fc-563d4d8fc08f"
      },
      "source": [
        "from sklearn.svm import SVC\n",
        "import xgboost\n",
        "from sklearn.metrics import classification_report\n",
        "target_names= list(data['cardio'].unique())\n",
        "#feature_names = list(X.columns)\n",
        "import eli5\n",
        "from eli5.sklearn import PermutationImportance\n",
        "print(target_names)\n",
        "# feature_names.append('cardio')\n",
        "print(\"XGBoost Performance Cardio_dataset:\")\n",
        "model = xgboost.XGBClassifier().fit(x_train,y_train)\n",
        "y_preds = model.predict(x_test)\n",
        "print(classification_report(y_test,y_preds,data['cardio']))\n",
        "perm = PermutationImportance(model).fit(x_test, y_test)\n",
        "eli5.show_weights(perm, feature_names = feature_names)"
      ],
      "execution_count": null,
      "outputs": [
        {
          "output_type": "stream",
          "text": [
            "[0, 1]\n",
            "XGBoost Performance Cardio_dataset:\n"
          ],
          "name": "stdout"
        },
        {
          "output_type": "stream",
          "text": [
            "IOPub data rate exceeded.\n",
            "The notebook server will temporarily stop sending output\n",
            "to the client in order to avoid crashing it.\n",
            "To change this limit, set the config variable\n",
            "`--NotebookApp.iopub_data_rate_limit`.\n",
            "\n",
            "Current values:\n",
            "NotebookApp.iopub_data_rate_limit=1000000.0 (bytes/sec)\n",
            "NotebookApp.rate_limit_window=3.0 (secs)\n",
            "\n"
          ],
          "name": "stderr"
        },
        {
          "output_type": "execute_result",
          "data": {
            "text/html": [
              "\n",
              "    <style>\n",
              "    table.eli5-weights tr:hover {\n",
              "        filter: brightness(85%);\n",
              "    }\n",
              "</style>\n",
              "\n",
              "\n",
              "\n",
              "    \n",
              "\n",
              "    \n",
              "\n",
              "    \n",
              "\n",
              "    \n",
              "\n",
              "    \n",
              "\n",
              "    \n",
              "\n",
              "\n",
              "    \n",
              "\n",
              "    \n",
              "\n",
              "    \n",
              "\n",
              "    \n",
              "\n",
              "    \n",
              "\n",
              "    \n",
              "\n",
              "\n",
              "    \n",
              "\n",
              "    \n",
              "\n",
              "    \n",
              "\n",
              "    \n",
              "\n",
              "    \n",
              "        <table class=\"eli5-weights eli5-feature-importances\" style=\"border-collapse: collapse; border: none; margin-top: 0em; table-layout: auto;\">\n",
              "    <thead>\n",
              "    <tr style=\"border: none;\">\n",
              "        <th style=\"padding: 0 1em 0 0.5em; text-align: right; border: none;\">Weight</th>\n",
              "        <th style=\"padding: 0 0.5em 0 0.5em; text-align: left; border: none;\">Feature</th>\n",
              "    </tr>\n",
              "    </thead>\n",
              "    <tbody>\n",
              "    \n",
              "        <tr style=\"background-color: hsl(120, 100.00%, 80.00%); border: none;\">\n",
              "            <td style=\"padding: 0 1em 0 0.5em; text-align: right; border: none;\">\n",
              "                0.1482\n",
              "                \n",
              "                    &plusmn; 0.0050\n",
              "                \n",
              "            </td>\n",
              "            <td style=\"padding: 0 0.5em 0 0.5em; text-align: left; border: none;\">\n",
              "                ap_hi\n",
              "            </td>\n",
              "        </tr>\n",
              "    \n",
              "        <tr style=\"background-color: hsl(120, 100.00%, 93.87%); border: none;\">\n",
              "            <td style=\"padding: 0 1em 0 0.5em; text-align: right; border: none;\">\n",
              "                0.0273\n",
              "                \n",
              "                    &plusmn; 0.0043\n",
              "                \n",
              "            </td>\n",
              "            <td style=\"padding: 0 0.5em 0 0.5em; text-align: left; border: none;\">\n",
              "                cholesterol\n",
              "            </td>\n",
              "        </tr>\n",
              "    \n",
              "        <tr style=\"background-color: hsl(120, 100.00%, 94.99%); border: none;\">\n",
              "            <td style=\"padding: 0 1em 0 0.5em; text-align: right; border: none;\">\n",
              "                0.0205\n",
              "                \n",
              "                    &plusmn; 0.0021\n",
              "                \n",
              "            </td>\n",
              "            <td style=\"padding: 0 0.5em 0 0.5em; text-align: left; border: none;\">\n",
              "                age\n",
              "            </td>\n",
              "        </tr>\n",
              "    \n",
              "        <tr style=\"background-color: hsl(120, 100.00%, 99.29%); border: none;\">\n",
              "            <td style=\"padding: 0 1em 0 0.5em; text-align: right; border: none;\">\n",
              "                0.0013\n",
              "                \n",
              "                    &plusmn; 0.0011\n",
              "                \n",
              "            </td>\n",
              "            <td style=\"padding: 0 0.5em 0 0.5em; text-align: left; border: none;\">\n",
              "                active\n",
              "            </td>\n",
              "        </tr>\n",
              "    \n",
              "        <tr style=\"background-color: hsl(120, 100.00%, 99.58%); border: none;\">\n",
              "            <td style=\"padding: 0 1em 0 0.5em; text-align: right; border: none;\">\n",
              "                0.0006\n",
              "                \n",
              "                    &plusmn; 0.0018\n",
              "                \n",
              "            </td>\n",
              "            <td style=\"padding: 0 0.5em 0 0.5em; text-align: left; border: none;\">\n",
              "                smoke\n",
              "            </td>\n",
              "        </tr>\n",
              "    \n",
              "        <tr style=\"background-color: hsl(120, 100.00%, 99.68%); border: none;\">\n",
              "            <td style=\"padding: 0 1em 0 0.5em; text-align: right; border: none;\">\n",
              "                0.0004\n",
              "                \n",
              "                    &plusmn; 0.0006\n",
              "                \n",
              "            </td>\n",
              "            <td style=\"padding: 0 0.5em 0 0.5em; text-align: left; border: none;\">\n",
              "                alco\n",
              "            </td>\n",
              "        </tr>\n",
              "    \n",
              "        <tr style=\"background-color: hsl(120, 100.00%, 99.82%); border: none;\">\n",
              "            <td style=\"padding: 0 1em 0 0.5em; text-align: right; border: none;\">\n",
              "                0.0002\n",
              "                \n",
              "                    &plusmn; 0.0013\n",
              "                \n",
              "            </td>\n",
              "            <td style=\"padding: 0 0.5em 0 0.5em; text-align: left; border: none;\">\n",
              "                ap_lo\n",
              "            </td>\n",
              "        </tr>\n",
              "    \n",
              "        <tr style=\"background-color: hsl(120, 100.00%, 99.95%); border: none;\">\n",
              "            <td style=\"padding: 0 1em 0 0.5em; text-align: right; border: none;\">\n",
              "                0.0000\n",
              "                \n",
              "                    &plusmn; 0.0009\n",
              "                \n",
              "            </td>\n",
              "            <td style=\"padding: 0 0.5em 0 0.5em; text-align: left; border: none;\">\n",
              "                gluc\n",
              "            </td>\n",
              "        </tr>\n",
              "    \n",
              "        <tr style=\"background-color: hsl(0, 100.00%, 99.76%); border: none;\">\n",
              "            <td style=\"padding: 0 1em 0 0.5em; text-align: right; border: none;\">\n",
              "                -0.0003\n",
              "                \n",
              "                    &plusmn; 0.0009\n",
              "                \n",
              "            </td>\n",
              "            <td style=\"padding: 0 0.5em 0 0.5em; text-align: left; border: none;\">\n",
              "                height\n",
              "            </td>\n",
              "        </tr>\n",
              "    \n",
              "        <tr style=\"background-color: hsl(0, 100.00%, 99.65%); border: none;\">\n",
              "            <td style=\"padding: 0 1em 0 0.5em; text-align: right; border: none;\">\n",
              "                -0.0005\n",
              "                \n",
              "                    &plusmn; 0.0002\n",
              "                \n",
              "            </td>\n",
              "            <td style=\"padding: 0 0.5em 0 0.5em; text-align: left; border: none;\">\n",
              "                pulse\n",
              "            </td>\n",
              "        </tr>\n",
              "    \n",
              "        <tr style=\"background-color: hsl(0, 100.00%, 99.62%); border: none;\">\n",
              "            <td style=\"padding: 0 1em 0 0.5em; text-align: right; border: none;\">\n",
              "                -0.0005\n",
              "                \n",
              "                    &plusmn; 0.0008\n",
              "                \n",
              "            </td>\n",
              "            <td style=\"padding: 0 0.5em 0 0.5em; text-align: left; border: none;\">\n",
              "                gender\n",
              "            </td>\n",
              "        </tr>\n",
              "    \n",
              "        <tr style=\"background-color: hsl(0, 100.00%, 99.51%); border: none;\">\n",
              "            <td style=\"padding: 0 1em 0 0.5em; text-align: right; border: none;\">\n",
              "                -0.0007\n",
              "                \n",
              "                    &plusmn; 0.0020\n",
              "                \n",
              "            </td>\n",
              "            <td style=\"padding: 0 0.5em 0 0.5em; text-align: left; border: none;\">\n",
              "                bmi\n",
              "            </td>\n",
              "        </tr>\n",
              "    \n",
              "        <tr style=\"background-color: hsl(0, 100.00%, 99.16%); border: none;\">\n",
              "            <td style=\"padding: 0 1em 0 0.5em; text-align: right; border: none;\">\n",
              "                -0.0016\n",
              "                \n",
              "                    &plusmn; 0.0029\n",
              "                \n",
              "            </td>\n",
              "            <td style=\"padding: 0 0.5em 0 0.5em; text-align: left; border: none;\">\n",
              "                weight\n",
              "            </td>\n",
              "        </tr>\n",
              "    \n",
              "    \n",
              "    </tbody>\n",
              "</table>\n",
              "    \n",
              "\n",
              "    \n",
              "\n",
              "\n",
              "    \n",
              "\n",
              "    \n",
              "\n",
              "    \n",
              "\n",
              "    \n",
              "\n",
              "    \n",
              "\n",
              "    \n",
              "\n",
              "\n",
              "\n"
            ],
            "text/plain": [
              "<IPython.core.display.HTML object>"
            ]
          },
          "metadata": {
            "tags": []
          },
          "execution_count": 45
        }
      ]
    },
    {
      "cell_type": "code",
      "metadata": {
        "id": "DQrPDpe6Q_B7"
      },
      "source": [
        "data2 = data.copy(deep=True)"
      ],
      "execution_count": null,
      "outputs": []
    },
    {
      "cell_type": "code",
      "metadata": {
        "id": "p_gDbmBlRJF0",
        "colab": {
          "base_uri": "https://localhost:8080/",
          "height": 306
        },
        "outputId": "4f7773dc-9998-4943-f971-2a01dba41fcd"
      },
      "source": [
        "data2.drop('Unnamed: 0', axis=True, inplace=True)"
      ],
      "execution_count": null,
      "outputs": [
        {
          "output_type": "error",
          "ename": "KeyError",
          "evalue": "ignored",
          "traceback": [
            "\u001b[0;31m---------------------------------------------------------------------------\u001b[0m",
            "\u001b[0;31mKeyError\u001b[0m                                  Traceback (most recent call last)",
            "\u001b[0;32m<ipython-input-47-21556296d3b3>\u001b[0m in \u001b[0;36m<module>\u001b[0;34m()\u001b[0m\n\u001b[0;32m----> 1\u001b[0;31m \u001b[0mdata2\u001b[0m\u001b[0;34m.\u001b[0m\u001b[0mdrop\u001b[0m\u001b[0;34m(\u001b[0m\u001b[0;34m'Unnamed: 0'\u001b[0m\u001b[0;34m,\u001b[0m \u001b[0maxis\u001b[0m\u001b[0;34m=\u001b[0m\u001b[0;32mTrue\u001b[0m\u001b[0;34m,\u001b[0m \u001b[0minplace\u001b[0m\u001b[0;34m=\u001b[0m\u001b[0;32mTrue\u001b[0m\u001b[0;34m)\u001b[0m\u001b[0;34m\u001b[0m\u001b[0;34m\u001b[0m\u001b[0m\n\u001b[0m",
            "\u001b[0;32m/usr/local/lib/python3.7/dist-packages/pandas/core/frame.py\u001b[0m in \u001b[0;36mdrop\u001b[0;34m(self, labels, axis, index, columns, level, inplace, errors)\u001b[0m\n\u001b[1;32m   4172\u001b[0m             \u001b[0mlevel\u001b[0m\u001b[0;34m=\u001b[0m\u001b[0mlevel\u001b[0m\u001b[0;34m,\u001b[0m\u001b[0;34m\u001b[0m\u001b[0;34m\u001b[0m\u001b[0m\n\u001b[1;32m   4173\u001b[0m             \u001b[0minplace\u001b[0m\u001b[0;34m=\u001b[0m\u001b[0minplace\u001b[0m\u001b[0;34m,\u001b[0m\u001b[0;34m\u001b[0m\u001b[0;34m\u001b[0m\u001b[0m\n\u001b[0;32m-> 4174\u001b[0;31m             \u001b[0merrors\u001b[0m\u001b[0;34m=\u001b[0m\u001b[0merrors\u001b[0m\u001b[0;34m,\u001b[0m\u001b[0;34m\u001b[0m\u001b[0;34m\u001b[0m\u001b[0m\n\u001b[0m\u001b[1;32m   4175\u001b[0m         )\n\u001b[1;32m   4176\u001b[0m \u001b[0;34m\u001b[0m\u001b[0m\n",
            "\u001b[0;32m/usr/local/lib/python3.7/dist-packages/pandas/core/generic.py\u001b[0m in \u001b[0;36mdrop\u001b[0;34m(self, labels, axis, index, columns, level, inplace, errors)\u001b[0m\n\u001b[1;32m   3887\u001b[0m         \u001b[0;32mfor\u001b[0m \u001b[0maxis\u001b[0m\u001b[0;34m,\u001b[0m \u001b[0mlabels\u001b[0m \u001b[0;32min\u001b[0m \u001b[0maxes\u001b[0m\u001b[0;34m.\u001b[0m\u001b[0mitems\u001b[0m\u001b[0;34m(\u001b[0m\u001b[0;34m)\u001b[0m\u001b[0;34m:\u001b[0m\u001b[0;34m\u001b[0m\u001b[0;34m\u001b[0m\u001b[0m\n\u001b[1;32m   3888\u001b[0m             \u001b[0;32mif\u001b[0m \u001b[0mlabels\u001b[0m \u001b[0;32mis\u001b[0m \u001b[0;32mnot\u001b[0m \u001b[0;32mNone\u001b[0m\u001b[0;34m:\u001b[0m\u001b[0;34m\u001b[0m\u001b[0;34m\u001b[0m\u001b[0m\n\u001b[0;32m-> 3889\u001b[0;31m                 \u001b[0mobj\u001b[0m \u001b[0;34m=\u001b[0m \u001b[0mobj\u001b[0m\u001b[0;34m.\u001b[0m\u001b[0m_drop_axis\u001b[0m\u001b[0;34m(\u001b[0m\u001b[0mlabels\u001b[0m\u001b[0;34m,\u001b[0m \u001b[0maxis\u001b[0m\u001b[0;34m,\u001b[0m \u001b[0mlevel\u001b[0m\u001b[0;34m=\u001b[0m\u001b[0mlevel\u001b[0m\u001b[0;34m,\u001b[0m \u001b[0merrors\u001b[0m\u001b[0;34m=\u001b[0m\u001b[0merrors\u001b[0m\u001b[0;34m)\u001b[0m\u001b[0;34m\u001b[0m\u001b[0;34m\u001b[0m\u001b[0m\n\u001b[0m\u001b[1;32m   3890\u001b[0m \u001b[0;34m\u001b[0m\u001b[0m\n\u001b[1;32m   3891\u001b[0m         \u001b[0;32mif\u001b[0m \u001b[0minplace\u001b[0m\u001b[0;34m:\u001b[0m\u001b[0;34m\u001b[0m\u001b[0;34m\u001b[0m\u001b[0m\n",
            "\u001b[0;32m/usr/local/lib/python3.7/dist-packages/pandas/core/generic.py\u001b[0m in \u001b[0;36m_drop_axis\u001b[0;34m(self, labels, axis, level, errors)\u001b[0m\n\u001b[1;32m   3921\u001b[0m                 \u001b[0mnew_axis\u001b[0m \u001b[0;34m=\u001b[0m \u001b[0maxis\u001b[0m\u001b[0;34m.\u001b[0m\u001b[0mdrop\u001b[0m\u001b[0;34m(\u001b[0m\u001b[0mlabels\u001b[0m\u001b[0;34m,\u001b[0m \u001b[0mlevel\u001b[0m\u001b[0;34m=\u001b[0m\u001b[0mlevel\u001b[0m\u001b[0;34m,\u001b[0m \u001b[0merrors\u001b[0m\u001b[0;34m=\u001b[0m\u001b[0merrors\u001b[0m\u001b[0;34m)\u001b[0m\u001b[0;34m\u001b[0m\u001b[0;34m\u001b[0m\u001b[0m\n\u001b[1;32m   3922\u001b[0m             \u001b[0;32melse\u001b[0m\u001b[0;34m:\u001b[0m\u001b[0;34m\u001b[0m\u001b[0;34m\u001b[0m\u001b[0m\n\u001b[0;32m-> 3923\u001b[0;31m                 \u001b[0mnew_axis\u001b[0m \u001b[0;34m=\u001b[0m \u001b[0maxis\u001b[0m\u001b[0;34m.\u001b[0m\u001b[0mdrop\u001b[0m\u001b[0;34m(\u001b[0m\u001b[0mlabels\u001b[0m\u001b[0;34m,\u001b[0m \u001b[0merrors\u001b[0m\u001b[0;34m=\u001b[0m\u001b[0merrors\u001b[0m\u001b[0;34m)\u001b[0m\u001b[0;34m\u001b[0m\u001b[0;34m\u001b[0m\u001b[0m\n\u001b[0m\u001b[1;32m   3924\u001b[0m             \u001b[0mresult\u001b[0m \u001b[0;34m=\u001b[0m \u001b[0mself\u001b[0m\u001b[0;34m.\u001b[0m\u001b[0mreindex\u001b[0m\u001b[0;34m(\u001b[0m\u001b[0;34m**\u001b[0m\u001b[0;34m{\u001b[0m\u001b[0maxis_name\u001b[0m\u001b[0;34m:\u001b[0m \u001b[0mnew_axis\u001b[0m\u001b[0;34m}\u001b[0m\u001b[0;34m)\u001b[0m\u001b[0;34m\u001b[0m\u001b[0;34m\u001b[0m\u001b[0m\n\u001b[1;32m   3925\u001b[0m \u001b[0;34m\u001b[0m\u001b[0m\n",
            "\u001b[0;32m/usr/local/lib/python3.7/dist-packages/pandas/core/indexes/base.py\u001b[0m in \u001b[0;36mdrop\u001b[0;34m(self, labels, errors)\u001b[0m\n\u001b[1;32m   5285\u001b[0m         \u001b[0;32mif\u001b[0m \u001b[0mmask\u001b[0m\u001b[0;34m.\u001b[0m\u001b[0many\u001b[0m\u001b[0;34m(\u001b[0m\u001b[0;34m)\u001b[0m\u001b[0;34m:\u001b[0m\u001b[0;34m\u001b[0m\u001b[0;34m\u001b[0m\u001b[0m\n\u001b[1;32m   5286\u001b[0m             \u001b[0;32mif\u001b[0m \u001b[0merrors\u001b[0m \u001b[0;34m!=\u001b[0m \u001b[0;34m\"ignore\"\u001b[0m\u001b[0;34m:\u001b[0m\u001b[0;34m\u001b[0m\u001b[0;34m\u001b[0m\u001b[0m\n\u001b[0;32m-> 5287\u001b[0;31m                 \u001b[0;32mraise\u001b[0m \u001b[0mKeyError\u001b[0m\u001b[0;34m(\u001b[0m\u001b[0;34mf\"{labels[mask]} not found in axis\"\u001b[0m\u001b[0;34m)\u001b[0m\u001b[0;34m\u001b[0m\u001b[0;34m\u001b[0m\u001b[0m\n\u001b[0m\u001b[1;32m   5288\u001b[0m             \u001b[0mindexer\u001b[0m \u001b[0;34m=\u001b[0m \u001b[0mindexer\u001b[0m\u001b[0;34m[\u001b[0m\u001b[0;34m~\u001b[0m\u001b[0mmask\u001b[0m\u001b[0;34m]\u001b[0m\u001b[0;34m\u001b[0m\u001b[0;34m\u001b[0m\u001b[0m\n\u001b[1;32m   5289\u001b[0m         \u001b[0;32mreturn\u001b[0m \u001b[0mself\u001b[0m\u001b[0;34m.\u001b[0m\u001b[0mdelete\u001b[0m\u001b[0;34m(\u001b[0m\u001b[0mindexer\u001b[0m\u001b[0;34m)\u001b[0m\u001b[0;34m\u001b[0m\u001b[0;34m\u001b[0m\u001b[0m\n",
            "\u001b[0;31mKeyError\u001b[0m: \"['Unnamed: 0'] not found in axis\""
          ]
        }
      ]
    },
    {
      "cell_type": "code",
      "metadata": {
        "id": "wxPkZ_JfSL2e"
      },
      "source": [
        "data2.drop(columns=['height', 'weight', 'gender', 'bmi'], axis=1, inplace=True)"
      ],
      "execution_count": null,
      "outputs": []
    },
    {
      "cell_type": "code",
      "metadata": {
        "id": "c4hNfKSYRlVD"
      },
      "source": [
        "x_train2, x_test2, y_train2, y_test2 = train_test_split(data2.drop('cardio', axis=1),\n",
        "                                                        data2['cardio'], test_size=0.2)"
      ],
      "execution_count": null,
      "outputs": []
    },
    {
      "cell_type": "code",
      "metadata": {
        "id": "FjdTMiA683PB"
      },
      "source": [
        "# LIME has one explainer for all models\n",
        "# !pip install lime\n",
        "import lime #LIME package\n",
        "import lime.lime_tabular\n",
        "explainer.explain_instance(X.iloc[:], xgb_predicted)\n",
        "# from lime.lime_tabular import LIME_explainerexplainer = LIME_explainer(x_train, feature_names=X.columns, class_names=['cardio'], verbose=True, mode='classification')\n",
        "#feature_names=x_train.columns.values.tolist(),\n",
        "# class_names=['cardio'],\n",
        "# verbose=True, mode='classification')\n",
        "# for i in data.columns:\n",
        "#   expXGB = explainer.explain_instance(x_test.values[i], xgb.predict, num_features=5)\n",
        "#   expXGB.show_in_notebook(show_table=True) \n"
      ],
      "execution_count": null,
      "outputs": []
    },
    {
      "cell_type": "code",
      "metadata": {
        "id": "cbatT69XNz7R"
      },
      "source": [
        "from sklearn.inspection import partial_dependence\n",
        "from sklearn.inspection import plot_partial_dependence\n",
        "\n",
        "print('Computing partial dependence plots...')\n",
        "#tic = time()\n",
        "features = ['age', 'weight', 'ap_hi', 'ap_lo', 'cholesterol','smoke', 'bmi', 'pulse']\n",
        "display = plot_partial_dependence(mlp, x_train, features, \n",
        "       n_jobs=3, grid_resolution=20\n",
        ")\n",
        "#print(f\"done in {time() - tic:.3f}s\")\n",
        "display.figure_.suptitle(\n",
        "    'Partial dependence of house value on non-location features\\n'\n",
        "    'for the California housing dataset, with MLPRegressor'\n",
        ")\n",
        "display.figure_.subplots_adjust(hspace=0.3)"
      ],
      "execution_count": null,
      "outputs": []
    },
    {
      "cell_type": "code",
      "metadata": {
        "id": "Wik5GDGg5yQr"
      },
      "source": [
        "features = ['ap_hi', 'ap_lo', ('ap_hi', 'ap_lo')]\n",
        "print('Computing partial dependence plots...')\n",
        "#tic = time()\n",
        "_, ax = plt.subplots(ncols=3, figsize=(9, 4))\n",
        "display = plot_partial_dependence(\n",
        "    mlp, x_train, features, n_jobs=3, grid_resolution=20,\n",
        "    ax=ax,\n",
        ")\n",
        "#print(f\"done in {time() - tic:.3f}s\")\n",
        "display.figure_.suptitle(\n",
        "    'Partial dependence plots for\\n'\n",
        "    'cardio dataset, with Mlp'\n",
        ")\n",
        "display.figure_.subplots_adjust(wspace=0.4, hspace=0.3)"
      ],
      "execution_count": null,
      "outputs": []
    },
    {
      "cell_type": "code",
      "metadata": {
        "id": "QSazdN19PtiL"
      },
      "source": [
        "features = ['ap_hi', 'ap_lo', ('ap_hi', 'ap_lo')]\n",
        "print('Computing partial dependence plots...')\n",
        "#tic = time()\n",
        "_, ax = plt.subplots(ncols=3, figsize=(9, 4))\n",
        "display = plot_partial_dependence(\n",
        "    mlp, x_train, features, n_jobs=3, grid_resolution=20,\n",
        "    ax=ax,\n",
        ")\n",
        "#print(f\"done in {time() - tic:.3f}s\")\n",
        "display.figure_.suptitle(\n",
        "    'Partial dependence plots for\\n'\n",
        "    'cardio dataset, with Mlp'\n",
        ")\n",
        "display.figure_.subplots_adjust(wspace=0.4, hspace=0.3)"
      ],
      "execution_count": null,
      "outputs": []
    },
    {
      "cell_type": "code",
      "metadata": {
        "id": "e7P5jRLyR5hP"
      },
      "source": [
        "# Build Random Forest model\n",
        "#!pip install pdpbox\n",
        "from pdpbox import pdp, info_plots\n",
        "# X = data.drop('cardio', axis=1)\n",
        "# y = data['cardio']\n",
        "feature_to_plot = 'smoke'\n",
        "feature_names = [i for i in data.columns]\n",
        "dataset = data[feature_names]\n",
        "X = dataset.drop('cardio', axis=1)\n",
        "y = data['cardio']\n",
        "x_train2, x_test2, y_train2, y_test2 = train_test_split(data[feature_names],data[feature_names], test_size=18)\n",
        "rf_model = RandomForestClassifier(random_state=0).fit(x_train, y_train)\n",
        "\n",
        "pdp_dist = pdp.pdp_isolate(model=rf_model, dataset=X, model_features=feature_names, feature=feature_to_plot)\n",
        "\n",
        "pdp.pdp_plot(pdp_dist, feature_to_plot)\n",
        "plt.show()"
      ],
      "execution_count": null,
      "outputs": []
    },
    {
      "cell_type": "code",
      "metadata": {
        "id": "gQ1N3zIxWkDo"
      },
      "source": [
        "data.columns"
      ],
      "execution_count": null,
      "outputs": []
    },
    {
      "cell_type": "code",
      "metadata": {
        "id": "bjCG0R6wVbw4"
      },
      "source": [
        "# Visualizing Correlations\n",
        "plt.figure(figsize=(15, 8))\n",
        "sns.heatmap(data.corr(method=\"spearman\"), annot=True, vmax=1, vmin=-1)\n",
        "plt.title(\"Inter-Correlations between features and labels\", fontsize = 15)\n",
        "plt.show()"
      ],
      "execution_count": null,
      "outputs": []
    },
    {
      "cell_type": "code",
      "metadata": {
        "id": "QLzlRaujLfh7"
      },
      "source": [
        "# Visualizing the relations between features and label\n",
        "plt.figure(figsize=(8, 6))\n",
        "plt.scatter(data['bmi'], data['cardio'], c=\"r\", alpha=0.4, label=\"bmi\")\n",
        "plt.scatter(data['height'], y, data['cardio'], alpha=0.4, label=\"height\")\n",
        "plt.scatter(data['weight'], y, data['cardio'], alpha=0.4, label=\"weight\")\n",
        "plt.legend()\n",
        "plt.title(\"Scatter Plot of Relations between Features and Label\", fontsize = 15)\n",
        "plt.xlabel(\"Features\")\n",
        "plt.ylabel(\"Outcome\")\n",
        "plt.show()"
      ],
      "execution_count": null,
      "outputs": []
    },
    {
      "cell_type": "code",
      "metadata": {
        "id": "7maaZnzeIezx"
      },
      "source": [
        "def get_distribution(col_name, data, model):\n",
        "    x = data.copy()\n",
        "    sequence = np.linspace(np.min(data[col_name]), np.max(data[col_name]), len(data[col_name]))\n",
        "    y_dist = []\n",
        "    ice_avgs = []\n",
        "    for elem in sequence:\n",
        "        x[col_name] = elem\n",
        "        y_temp = model.predict(x)\n",
        "        y_dist.append(np.mean(y_temp))\n",
        "        \n",
        "        ice_avgs.append(y_temp)\n",
        "        \n",
        "    return sequence, y_dist, ice_avgs"
      ],
      "execution_count": null,
      "outputs": []
    },
    {
      "cell_type": "code",
      "metadata": {
        "id": "d-btoxPIJJz-"
      },
      "source": [
        "def plot_PDP(col_name, data, model, xlabel, ylabel):\n",
        "    plt.figure(figsize = (10, 8))\n",
        "    plt.grid()\n",
        "    res = get_distribution(col_name, data, model)\n",
        "    plt.plot(res[0], res[1], lw = 2, label = 'Trend')\n",
        "    plt.ylabel(ylabel)\n",
        "    plt.xlabel(xlabel)\n",
        "    plt.legend(fontsize = 'large')\n",
        "    plt.tight_layout()"
      ],
      "execution_count": null,
      "outputs": []
    },
    {
      "cell_type": "code",
      "metadata": {
        "id": "umgnLR6xJLqD"
      },
      "source": [
        "\n",
        "def plot_ICE(col_name, data, model, xlabel, ylabel):\n",
        "    res = get_distribution(col_name, data, model)\n",
        "    x = res[0]\n",
        "    ice_avgs = res[2]\n",
        "    plt.figure(figsize = (12, 8))\n",
        "    plt.grid()\n",
        "    for row in range(len(ice_avgs[0])):\n",
        "        ys = []\n",
        "        for item in range(len(ice_avgs)):\n",
        "            ys.append(ice_avgs[item][row])\n",
        "        plt.plot(x, ys, c = 'black', alpha = 0.1)\n",
        "        \n",
        "    plt.plot(res[0], res[1], lw = 5, c = 'r', label = 'Avg. Trend (PDP)')\n",
        "    plt.xlabel(xlabel)\n",
        "    plt.ylabel(ylabel)\n",
        "    plt.legend(fontsize = 'large')\n",
        "    plt.tight_layout()"
      ],
      "execution_count": null,
      "outputs": []
    },
    {
      "cell_type": "code",
      "metadata": {
        "id": "IeMd_RpfJpli"
      },
      "source": [
        "plot_PDP('ap_hi', x_train, mlp, \"ap_hi\", \"Median Housing Prices in $1000's\")"
      ],
      "execution_count": null,
      "outputs": []
    },
    {
      "cell_type": "code",
      "metadata": {
        "id": "cWye8HwsKCAH"
      },
      "source": [
        "plot_ICE('ap_hi', x_train, mlp, \"ap_hi\", \"X_train\")\n",
        "plt.scatter(X_train_reduced['DIS'], y_train, label = 'Individual Instances', edgecolors = 'b', color = 'orange')\n",
        "plt.legend()"
      ],
      "execution_count": null,
      "outputs": []
    },
    {
      "cell_type": "markdown",
      "metadata": {
        "id": "-U70oJbcJQ2O"
      },
      "source": [
        ""
      ]
    },
    {
      "cell_type": "code",
      "metadata": {
        "id": "uS-ao9hHLDft"
      },
      "source": [
        "\n",
        "def supervised_comparison(df: pd.DataFrame) ->pd.DataFrame:\n",
        "\n",
        "    X, y = df.drop(columns='cardio'), df['cardio']\n",
        "    X_train, X_test, y_train, y_test = train_test_split(X, y, test_size=0.2, random_state=119, stratify=y)\n",
        "\n",
        "    # define the models along with the respective grid search parameters\n",
        "    # logistic regression\n",
        "    log_reg_clf = LogisticRegression()\n",
        "    log_reg_params = {}\n",
        "    # random forest\n",
        "    rf_clf = RandomForestClassifier()\n",
        "    rf_params = {'n_estimators': range(20, 36)}\n",
        "    # naive bayes\n",
        "    nb_clf = BernoulliNB()\n",
        "    nb_params = {'alpha': [x * 0.005 for x in range(1, 10)]}\n",
        "\n",
        "\n",
        "    # calculate metrics for various combinations \n",
        "    metrics_df = pd.DataFrame()\n",
        "    for model_name, model, model_params in zip(['Logistic Regression', 'Random Forest', 'Naive Bayes'],\n",
        "                                            [log_reg_clf, rf_clf, nb_clf],\n",
        "                                            [log_reg_params, rf_params, nb_params]):\n",
        "        print(f'Calculating results of {model_name} classifier')\n",
        "        scaler = MinMaxScaler()\n",
        "        pipe = Pipeline([('scaling', scaler),\n",
        "                            ('classifier', model)])\n",
        "        # grid search \n",
        "        grid = GridSearchCV(model,\n",
        "                        param_grid=model_params,\n",
        "                        cv=5,\n",
        "                        n_jobs=-1)\n",
        "        grid.fit(X_train, y_train)\n",
        "        # change the classifier in the pipe to the best classifier after frid search \n",
        "        pipe = Pipeline([('scaling', scaler),\n",
        "                            ('classifier',  grid.best_estimator_)])\n",
        "\n",
        "        pipe.fit(X_train, y_train)\n",
        "\n",
        "        # results\n",
        "        y_pred = pipe.predict(X_test)\n",
        "        results_df = model_evaluation(y_test, y_pred, labels_dict={0: 'Not_Cardio', 1: 'Cardio'}, model_name=model_name)\n",
        "        metrics_df = metrics_df.append(results_df)\n",
        "\n",
        "    return metrics_df"
      ],
      "execution_count": null,
      "outputs": []
    },
    {
      "cell_type": "code",
      "metadata": {
        "id": "_S0KprT0MT_w"
      },
      "source": [
        "def model_evaluation(y_test, prediction, labels_dict, model_name) ->pd.DataFrame:\n",
        "   \"\"\"\n",
        "   \n",
        "   \"\"\" # metrics\n",
        "    accuracy = accuracy_score(y_test, prediction)\n",
        "    recall = recall_score(y_test, prediction, average='macro')\n",
        "    precision = precision_score(y_test, prediction, average='macro')\n",
        "    f1 = f1_score(y_test, prediction, average='macro')\n",
        "\n",
        "    print('Accuracy score: {:.3f}'.format(accuracy))\n",
        "    print('Recall score: {:.3f}'.format(recall))\n",
        "    print('Precision score: {:.3f}'.format(precision))\n",
        "    print('F1 score: {:.3f}'.format(f1))\n",
        "\n",
        "    print('Classification report:\\n{}'.format(classification_report(y_test, prediction, target_names=list(labels_dict.values()))))\n",
        "\n",
        "    # confusion matrix\n",
        "    cm = confusion_matrix(y_test, prediction)\n",
        "\n",
        "    df_cm = pd.DataFrame(cm, index=list(labels_dict.values()), columns=list(labels_dict.values()))\n",
        "    plt.figure(figsize=(10,6))\n",
        "    plt.title(f'Confusion matrix of {model_name} results')\n",
        "    sns.set(font_scale=1)\n",
        "    sns.heatmap(df_cm, annot=True, annot_kws={\"size\": 16}, fmt='.0f')\n",
        "\n",
        "    #plt.savefig('_matrix.png'.format(title))\n",
        "    plt.show()\n",
        "\n",
        "    df = pd.DataFrame(data={'metric': ['accuracy', 'recall', 'precision', 'f1'],\n",
        "                            'score': [accuracy*100, recall*100, precision*100, f1*100],\n",
        "                            'model': model_name}) \n",
        "    return df "
      ],
      "execution_count": null,
      "outputs": []
    },
    {
      "cell_type": "code",
      "metadata": {
        "id": "v8vP7D4TL1FD"
      },
      "source": [
        "metrics_df = supervised_comparison(data)"
      ],
      "execution_count": null,
      "outputs": []
    }
  ]
}